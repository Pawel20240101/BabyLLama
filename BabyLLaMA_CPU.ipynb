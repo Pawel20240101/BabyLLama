{
 "cells": [
  {
   "cell_type": "markdown",
   "metadata": {
    "id": "n4oOcpvm2Bt6"
   },
   "source": [
    " # BabyLLaMA\n",
    "\n",
    "Coding the LLaMA-2 research paper from scratch to create models with sizes 100M, 250M and 500M params."
   ]
  },
  {
   "cell_type": "markdown",
   "metadata": {
    "id": "NrmuruVN5_2F"
   },
   "source": [
    "## Model Arch\n",
    "\n",
    "Decoder only: Composed of identical `n_layers`. Each layer has two sub-layers. The first is a multi-head self-attention mechanism, and the second is a simple position-wise fully connected FFN. We employ residual connection around each of the sub-layers, followed by layers normalizatin. That is:\n",
    "LayerNorm(x + Sublayer(x))\n",
    " -- A Vaswani et al., 2017."
   ]
  },
  {
   "cell_type": "code",
   "execution_count": 1,
   "metadata": {
    "colab": {
     "base_uri": "https://localhost:8080/"
    },
    "executionInfo": {
     "elapsed": 112097,
     "status": "ok",
     "timestamp": 1748158684688,
     "user": {
      "displayName": "Paweł Żmudzki",
      "userId": "14388704116066394305"
     },
     "user_tz": -120
    },
    "id": "3tqjWTloWojw",
    "outputId": "0fd5842f-935b-4797-c9a9-050a3be4b417"
   },
   "outputs": [],
   "source": [
    "!pip install -U -q accelerate transformers[torch] datasets huggingface_hub torchviz torchvision"
   ]
  },
  {
   "cell_type": "code",
   "execution_count": 2,
   "metadata": {
    "executionInfo": {
     "elapsed": 4,
     "status": "ok",
     "timestamp": 1748158772364,
     "user": {
      "displayName": "Paweł Żmudzki",
      "userId": "14388704116066394305"
     },
     "user_tz": -120
    },
    "id": "3jNqAo_vYlHT"
   },
   "outputs": [],
   "source": [
    "def flush():\n",
    "    gc.collect()\n",
    "    torch.cuda.empty_cache()\n",
    "\n",
    "def count_parameters(model):\n",
    "    return f\"BabyLlama size: {sum(p.numel() for p in model.parameters() if p.requires_grad) / 10 ** 6:.2f}M parameters\"\n",
    "\n",
    "def visualize_model(model, outputs):\n",
    "    make_dot(outputs, params=dict(list(model.named_parameters()))).render(\"rnn_torchviz\", format=\"png\")\n"
   ]
  },
  {
   "cell_type": "code",
   "execution_count": null,
   "metadata": {},
   "outputs": [],
   "source": [
    "pip install --upgrade tensorflow --user"
   ]
  },
  {
   "cell_type": "code",
   "execution_count": 3,
   "metadata": {
    "executionInfo": {
     "elapsed": 24613,
     "status": "ok",
     "timestamp": 1748158812091,
     "user": {
      "displayName": "Paweł Żmudzki",
      "userId": "14388704116066394305"
     },
     "user_tz": -120
    },
    "id": "bZjKLwgz6os2"
   },
   "outputs": [],
   "source": [
    "import gc\n",
    "import torch\n",
    "from torch import nn\n",
    "import torch.nn.functional as F\n",
    "from torch.nn import BCEWithLogitsLoss, CrossEntropyLoss, MSELoss\n",
    "from torchviz import make_dot\n",
    "from math import sqrt\n",
    "from transformers import PretrainedConfig\n",
    "import math\n",
    "from typing import Tuple, Optional, List\n",
    "from transformers import logging, PreTrainedModel\n",
    "from transformers.modeling_outputs import CausalLMOutputWithPast\n",
    "\n",
    "\n",
    "logger = logging.get_logger(__name__)\n"
   ]
  },
  {
   "cell_type": "code",
   "execution_count": 4,
   "metadata": {
    "executionInfo": {
     "elapsed": 49,
     "status": "ok",
     "timestamp": 1748158861635,
     "user": {
      "displayName": "Paweł Żmudzki",
      "userId": "14388704116066394305"
     },
     "user_tz": -120
    },
    "id": "xf2Oy7eGLr8f"
   },
   "outputs": [],
   "source": [
    "class BabyLlamaConfig(PretrainedConfig):\n",
    "    model_type = \"llama\"\n",
    "    keys_to_ignore_at_inference = [\"past_key_values\"]\n",
    "    def __init__(\n",
    "        self,\n",
    "        vocab_size=32000,\n",
    "        hidden_size=1024, # 2048 Tiny LLaMA\n",
    "        intermediate_size=2048,\n",
    "        num_hidden_layers=6,\n",
    "        num_attention_heads=16, # 32 Tiny LLaMA\n",
    "        num_key_value_heads=2,\n",
    "        hidden_act=\"silu\",\n",
    "        max_position_embeddings=2048,\n",
    "        initializer_range=0.02,\n",
    "        rms_norm_eps=1e-6,\n",
    "        use_cache=False,\n",
    "        pad_token_id=None,\n",
    "        bos_token_id=1,\n",
    "        eos_token_id=2,\n",
    "        pretraining_tp=1,\n",
    "        tie_word_embeddings=False,\n",
    "        rope_theta=10000.0,\n",
    "        rope_scaling=None,\n",
    "        attention_bias=False,\n",
    "        attention_dropout=0.0,\n",
    "        use_bias=False,\n",
    "        lm_head_bias=False,\n",
    "        residual_dropout=0.0,\n",
    "        device='cpu',\n",
    "        **kwargs,\n",
    "    ):\n",
    "\n",
    "        self.vocab_size = vocab_size\n",
    "        self.max_position_embeddings = max_position_embeddings\n",
    "        self.hidden_size = hidden_size\n",
    "        self.intermediate_size = intermediate_size\n",
    "        self.num_hidden_layers = num_hidden_layers\n",
    "        self.num_attention_heads = num_attention_heads\n",
    "\n",
    "        self.num_key_value_heads = num_key_value_heads\n",
    "        self.hidden_act = hidden_act\n",
    "        self.initializer_range = initializer_range\n",
    "        self.rms_norm_eps = rms_norm_eps\n",
    "        self.pretraining_tp = pretraining_tp\n",
    "        self.use_cache = use_cache\n",
    "        self.rope_theta = rope_theta\n",
    "        self.rope_scaling = rope_scaling\n",
    "        self.attention_bias = attention_bias\n",
    "        self.attention_dropout = attention_dropout\n",
    "        self.residual_dropout = residual_dropout\n",
    "        self.use_bias = use_bias\n",
    "        self.lm_head_bias = lm_head_bias\n",
    "        self.device = device\n",
    "\n",
    "        super().__init__(\n",
    "            bos_token_id=bos_token_id,\n",
    "            eos_token_id=eos_token_id,\n",
    "            **kwargs,\n",
    "        )"
   ]
  },
  {
   "cell_type": "markdown",
   "metadata": {
    "id": "tmh9Ms0WKW6B"
   },
   "source": [
    "### MHA\n",
    "<img src=\"https://data-science-blog.com/wp-content/uploads/2022/01/mha_img_original.png\" width=500>"
   ]
  },
  {
   "cell_type": "markdown",
   "metadata": {
    "id": "X6fJhFVGZQDG"
   },
   "source": [
    "- MQA\n",
    "- GQA"
   ]
  },
  {
   "cell_type": "code",
   "execution_count": 5,
   "metadata": {
    "executionInfo": {
     "elapsed": 73,
     "status": "ok",
     "timestamp": 1748158962986,
     "user": {
      "displayName": "Paweł Żmudzki",
      "userId": "14388704116066394305"
     },
     "user_tz": -120
    },
    "id": "SCgkazpgT7h6"
   },
   "outputs": [],
   "source": [
    "def build_mask_cache(max_seq_length: int, device: Optional[torch.device] = None) -> torch.Tensor:\n",
    "    ones = torch.ones((max_seq_length, max_seq_length), device=device, dtype=torch.bool)\n",
    "    return torch.tril(ones).unsqueeze(0).unsqueeze(0)\n",
    "\n",
    "def repeat_kv(hidden_states:torch.tensor, n_repeats:int):\n",
    "    batch, n_kv_heads, seq_len, head_dim = hidden_states.shape\n",
    "    if n_repeats == 1:\n",
    "        return hidden_states\n",
    "    hidden_states = hidden_states.unsqueeze(2).expand(batch, n_kv_heads, n_repeats, seq_len, head_dim) # (B, nh, T, hs) -> (B, nh, 1, T, hs) -> # (B, nh, n_repeats, T, hs)\n",
    "    return hidden_states.reshape(batch, n_kv_heads * n_repeats, seq_len, head_dim) # # (B, nh * n_repeats, T, hs)\n",
    "\n",
    "\n",
    "class RotaryPositionalEmbeddings(nn.Module):\n",
    "    def __init__(self, dim, max_position_embeddings=2048, base=10000, device=None, scaling_factor=1.0):\n",
    "        super().__init__()\n",
    "        self.dim = dim\n",
    "        self.max_position_embeddings = max_position_embeddings\n",
    "        self.device=device\n",
    "        self.scaling_factor = scaling_factor\n",
    "        self.base = base\n",
    "        inv_freq = 1.0 / (self.base ** (torch.arange(0, self.dim, 2, dtype=torch.int64).float().to(device) / self.dim))\n",
    "        self.register_buffer(\"inv_freq\", inv_freq, persistent=False)\n",
    "\n",
    "        # Build here to make `torch.jit.trace` work.\n",
    "        self._set_cos_sin_cache(\n",
    "            seq_len=max_position_embeddings, device=self.inv_freq.device, dtype=torch.get_default_dtype()\n",
    "        )\n",
    "\n",
    "    def _set_cos_sin_cache(self, seq_len, device, dtype):\n",
    "        self.max_seq_len_cached = seq_len\n",
    "        t = torch.arange(self.max_seq_len_cached, device=device, dtype=torch.int64).type_as(self.inv_freq)\n",
    "        t = t / self.scaling_factor\n",
    "        freqs = torch.outer(t, self.inv_freq)\n",
    "        # Different from paper, but it uses a different permutation in order to obtain the same calculation\n",
    "        emb = torch.cat((freqs, freqs), dim=-1)\n",
    "        self.register_buffer(\"cos_cached\", emb.cos().to(dtype), persistent=False)\n",
    "        self.register_buffer(\"sin_cached\", emb.sin().to(dtype), persistent=False)\n",
    "\n",
    "    @torch.no_grad()\n",
    "    def forward(self, x, seq_len=None):\n",
    "        # x: [bs, num_attention_heads, seq_len, head_size]\n",
    "        if seq_len > self.max_seq_len_cached:\n",
    "            self._set_cos_sin_cache(seq_len=seq_len, device=x.device, dtype=x.dtype)\n",
    "\n",
    "        return (\n",
    "            self.cos_cached[:seq_len].to(dtype=x.dtype),\n",
    "            self.sin_cached[:seq_len].to(dtype=x.dtype),\n",
    "        )\n",
    "\n",
    "    def apply_rope(self, x: torch.Tensor, cos: torch.Tensor, sin: torch.Tensor, position_ids, unsqueeze_dim=1) -> torch.Tensor:\n",
    "        cos = cos[position_ids].unsqueeze(unsqueeze_dim)\n",
    "        sin = sin[position_ids].unsqueeze(unsqueeze_dim)\n",
    "        x1 = x[..., : x.shape[-1] // 2] # (B, nh, T, hs/2)\n",
    "        x2 = x[..., x.shape[-1] // 2 :] # (B, nh, T, hs/2)\n",
    "        rotated = torch.cat((-x2, x1), dim=-1) # (B, nh, T, hs)\n",
    "        roped = (x * cos) + (rotated * sin)\n",
    "        return roped.to(dtype=x.dtype)\n",
    "\n",
    "\n",
    "    @property\n",
    "    def sin_cached(self):\n",
    "        logger.warning_once(\n",
    "            \"The sin_cached attribute will be removed in 4.39. Bear in mind that its contents changed in v4.38. Use \"\n",
    "            \"the forward method of RoPE from now on instead. It is not used in the `LlamaAttention` class\"\n",
    "        )\n",
    "        return self._sin_cached\n",
    "\n",
    "    @property\n",
    "    def cos_cached(self):\n",
    "        logger.warning_once(\n",
    "            \"The cos_cached attribute will be removed in 4.39. Bear in mind that its contents changed in v4.38. Use \"\n",
    "            \"the forward method of RoPE from now on instead. It is not used in the `LlamaAttention` class\"\n",
    "        )\n",
    "        return self._cos_cached\n",
    "\n",
    "\n",
    "class KVCache(nn.Module):\n",
    "    def __init__(\n",
    "        self,\n",
    "        k_shape: Tuple[int, int, int, int],\n",
    "        v_shape: Tuple[int, int, int, int],\n",
    "        device: Optional[torch.device] = None,\n",
    "        dtype: Optional[torch.dtype] = None,\n",
    "    ) -> None:\n",
    "        super().__init__()\n",
    "        self.register_buffer(\"k\", torch.zeros(k_shape, device=device, dtype=dtype), persistent=False)\n",
    "        self.register_buffer(\"v\", torch.zeros(v_shape, device=device, dtype=dtype), persistent=False)\n",
    "\n",
    "    def forward(self, input_pos: torch.Tensor, k: torch.Tensor, v: torch.Tensor) -> Tuple[torch.Tensor, torch.Tensor]:\n",
    "        # move the buffer to the activation dtype for when AMP is used\n",
    "        self.k = self.k.to(k.dtype)\n",
    "        self.v = self.v.to(v.dtype)\n",
    "        # update the cache\n",
    "        k = self.k.index_copy_(2, input_pos, k)\n",
    "        v = self.v.index_copy_(2, input_pos, v)\n",
    "        return k, v\n",
    "\n",
    "    def reset_parameters(self) -> None:\n",
    "        torch.nn.init.zeros_(self.k)\n",
    "        torch.nn.init.zeros_(self.v)"
   ]
  },
  {
   "cell_type": "code",
   "execution_count": 6,
   "metadata": {
    "colab": {
     "base_uri": "https://localhost:8080/"
    },
    "executionInfo": {
     "elapsed": 36,
     "status": "ok",
     "timestamp": 1748158999634,
     "user": {
      "displayName": "Paweł Żmudzki",
      "userId": "14388704116066394305"
     },
     "user_tz": -120
    },
    "id": "et7PBNMaHWYv",
    "outputId": "b16c13a4-e9d0-4add-f874-26048c540a26"
   },
   "outputs": [
    {
     "data": {
      "text/plain": [
       "tensor([[[0.2113, 0.5722, 0.6983],\n",
       "         [0.6467, 0.2588, 0.8621]],\n",
       "\n",
       "        [[0.2064, 0.4430, 0.7273],\n",
       "         [0.4089, 0.1113, 0.1626]]])"
      ]
     },
     "execution_count": 6,
     "metadata": {},
     "output_type": "execute_result"
    }
   ],
   "source": [
    "# KV caching\n",
    "batch_size = 2\n",
    "seq_len = 2\n",
    "head_dim = 3\n",
    "k_cache = torch.zeros([batch_size, seq_len, head_dim]) # (B, [n_heads], seq_len,  head_dim)\n",
    "k = torch.rand([batch_size, seq_len, head_dim])\n",
    "position_ids = torch.arange(k.size(2), dtype=torch.long)\n",
    "\n",
    "k_cache.index_copy_(2, position_ids, k) # copies k values to k_cache"
   ]
  },
  {
   "cell_type": "code",
   "execution_count": 7,
   "metadata": {
    "executionInfo": {
     "elapsed": 41,
     "status": "ok",
     "timestamp": 1748159039373,
     "user": {
      "displayName": "Paweł Żmudzki",
      "userId": "14388704116066394305"
     },
     "user_tz": -120
    },
    "id": "9D3EVPKaYXRJ"
   },
   "outputs": [],
   "source": [
    "class BabyLlamaAttention(nn.Module):\n",
    "    def __init__(self, config):\n",
    "        super().__init__()\n",
    "        self.config = config\n",
    "        self.hidden_dim = hidden_dim = config.hidden_size\n",
    "        self.n_heads = n_heads = config.num_attention_heads\n",
    "        self.n_kv_heads = n_kv_heads = config.num_key_value_heads\n",
    "        self.head_dim = head_dim = config.hidden_size // n_heads\n",
    "        use_bias = config.use_bias\n",
    "\n",
    "        if (head_dim * n_heads) != self.hidden_dim:\n",
    "            raise ValueError(\n",
    "                f\"hidden_dim must be divisible by num_heads (got `hidden_dim`: {self.hidden_dim}\"\n",
    "                f\" and `num_heads`: {self.n_heads}).\"\n",
    "            )\n",
    "\n",
    "        self.repeats = n_heads // n_kv_heads # q_per_kv\n",
    "\n",
    "        self.q_proj = nn.Linear(hidden_dim, n_heads * head_dim, bias=use_bias)\n",
    "        self.k_proj = nn.Linear(hidden_dim, n_kv_heads * head_dim, bias=use_bias)\n",
    "        self.v_proj = nn.Linear(hidden_dim, n_kv_heads * head_dim, bias=use_bias)\n",
    "        self.o_proj = nn.Linear(n_heads * head_dim, hidden_dim, bias=use_bias)\n",
    "\n",
    "        self.rotary_emb = RotaryPositionalEmbeddings(\n",
    "            head_dim,\n",
    "            max_position_embeddings=config.max_position_embeddings,\n",
    "            device=config.device,\n",
    "            base=config.rope_theta,\n",
    "        )\n",
    "\n",
    "        self.kv_cache: Optional[KVCache] = None\n",
    "\n",
    "    def forward(\n",
    "        self,\n",
    "        hidden_states: torch.Tensor,\n",
    "        mask: Optional[torch.Tensor] = None,\n",
    "        position_ids: Optional[torch.LongTensor] = None,\n",
    "    ):\n",
    "        B, T, _ = hidden_states.size() # bsz, seq_len, embed_dim\n",
    "\n",
    "        queries = self.q_proj(hidden_states)\n",
    "        keys = self.k_proj(hidden_states)\n",
    "        values = self.v_proj(hidden_states)\n",
    "\n",
    "\n",
    "        queries = queries.view(B, T, self.n_heads, self.head_dim).transpose(1, 2)  # bsz, seq_len, n_heads, head_dim\n",
    "        keys = keys.view(B, T, self.n_kv_heads, self.head_dim).transpose(1, 2) # bsz, seq_len, n_kv_heads, head_dim\n",
    "        values = values.view(B, T, self.n_kv_heads, self.head_dim).transpose(1, 2)\n",
    "\n",
    "        kv_seq_len = keys.shape[-2]\n",
    "        cos, sin = self.rotary_emb(values, seq_len=kv_seq_len)\n",
    "\n",
    "        queries = self.rotary_emb.apply_rope(queries, cos, sin, position_ids)\n",
    "        keys = self.rotary_emb.apply_rope(keys, cos, sin, position_ids)\n",
    "\n",
    "\n",
    "        # TODO: KV caching\n",
    "        keys = repeat_kv(keys, self.repeats)\n",
    "        values = repeat_kv(values, self.repeats)\n",
    "\n",
    "        # SDPA with memory-efficient backend is currently (torch==2.1.2) bugged with non-contiguous inputs with custom attn_mask,\n",
    "        # Reference: https://github.com/pytorch/pytorch/issues/112577.\n",
    "        if queries.device.type == \"cuda\" and mask is not None:\n",
    "            queries = queries.contiguous()\n",
    "            keys = keys.contiguous()\n",
    "            values = values.contiguous()\n",
    "\n",
    "        y = self.scaled_dot_product_attention(queries, keys, values, mask) # (B, T, n_heads, head_dim)\n",
    "\n",
    "        y = y.reshape(B, T, self.hidden_dim) # (B, T, hidden_dim)\n",
    "\n",
    "        return self.o_proj(y)\n",
    "\n",
    "\n",
    "    def scaled_dot_product_attention(\n",
    "        self, q: torch.Tensor, k: torch.Tensor, v: torch.Tensor, mask: Optional[torch.Tensor] = None\n",
    "    ) -> torch.Tensor:\n",
    "\n",
    "        print()\n",
    "        scale = 1.0 / math.sqrt(self.head_dim)\n",
    "        y = torch.nn.functional.scaled_dot_product_attention(\n",
    "            q, k, v, attn_mask=None, dropout_p=0.0, scale=scale, is_causal=True\n",
    "        )\n",
    "        return y.transpose(1, 2).contiguous()\n"
   ]
  },
  {
   "cell_type": "code",
   "execution_count": 8,
   "metadata": {
    "colab": {
     "base_uri": "https://localhost:8080/"
    },
    "executionInfo": {
     "elapsed": 2150,
     "status": "ok",
     "timestamp": 1748159102140,
     "user": {
      "displayName": "Paweł Żmudzki",
      "userId": "14388704116066394305"
     },
     "user_tz": -120
    },
    "id": "MMFXLqvAor-F",
    "outputId": "d4cb0a68-558d-4bd7-cdc6-9f6c034392ee"
   },
   "outputs": [
    {
     "name": "stderr",
     "output_type": "stream",
     "text": [
      "The cos_cached attribute will be removed in 4.39. Bear in mind that its contents changed in v4.38. Use the forward method of RoPE from now on instead. It is not used in the `LlamaAttention` class\n",
      "The sin_cached attribute will be removed in 4.39. Bear in mind that its contents changed in v4.38. Use the forward method of RoPE from now on instead. It is not used in the `LlamaAttention` class\n"
     ]
    },
    {
     "name": "stdout",
     "output_type": "stream",
     "text": [
      "\n"
     ]
    },
    {
     "data": {
      "text/plain": [
       "torch.Size([5, 2048, 1024])"
      ]
     },
     "execution_count": 8,
     "metadata": {},
     "output_type": "execute_result"
    }
   ],
   "source": [
    "config = BabyLlamaConfig()\n",
    "# Generate random input data\n",
    "d_model=config.hidden_size\n",
    "sequence_length = config.max_position_embeddings # number of tokens\n",
    "batch_size = 5\n",
    "input_data = torch.rand((batch_size, sequence_length, d_model), device=config.device) # [bs, sequence_length, d_model]\n",
    "position_ids = torch.arange(sequence_length, dtype=torch.long, device=config.device).unsqueeze(0)\n",
    "\n",
    "\n",
    "attn = BabyLlamaAttention(config).to(config.device)\n",
    "attn(input_data,position_ids=position_ids).shape"
   ]
  },
  {
   "cell_type": "code",
   "execution_count": 9,
   "metadata": {
    "colab": {
     "base_uri": "https://localhost:8080/"
    },
    "executionInfo": {
     "elapsed": 48,
     "status": "ok",
     "timestamp": 1748159162408,
     "user": {
      "displayName": "Paweł Żmudzki",
      "userId": "14388704116066394305"
     },
     "user_tz": -120
    },
    "id": "LkDDHuFm0wXu",
    "outputId": "2db47237-a890-4728-aa76-b3a84ec212bd"
   },
   "outputs": [
    {
     "data": {
      "text/plain": [
       "BabyLlamaAttention(\n",
       "  (q_proj): Linear(in_features=1024, out_features=1024, bias=False)\n",
       "  (k_proj): Linear(in_features=1024, out_features=128, bias=False)\n",
       "  (v_proj): Linear(in_features=1024, out_features=128, bias=False)\n",
       "  (o_proj): Linear(in_features=1024, out_features=1024, bias=False)\n",
       "  (rotary_emb): RotaryPositionalEmbeddings()\n",
       ")"
      ]
     },
     "execution_count": 9,
     "metadata": {},
     "output_type": "execute_result"
    }
   ],
   "source": [
    "attn"
   ]
  },
  {
   "cell_type": "code",
   "execution_count": 10,
   "metadata": {
    "colab": {
     "base_uri": "https://localhost:8080/",
     "height": 36
    },
    "executionInfo": {
     "elapsed": 51,
     "status": "ok",
     "timestamp": 1748159201190,
     "user": {
      "displayName": "Paweł Żmudzki",
      "userId": "14388704116066394305"
     },
     "user_tz": -120
    },
    "id": "jnqN13SHOMQF",
    "outputId": "339c9f5c-562f-4710-9617-a088e86dd4ac"
   },
   "outputs": [
    {
     "data": {
      "text/plain": [
       "'BabyLlama size: 2.36M parameters'"
      ]
     },
     "execution_count": 10,
     "metadata": {},
     "output_type": "execute_result"
    }
   ],
   "source": [
    "count_parameters(attn)"
   ]
  },
  {
   "cell_type": "code",
   "execution_count": 11,
   "metadata": {
    "executionInfo": {
     "elapsed": 43,
     "status": "ok",
     "timestamp": 1748159233222,
     "user": {
      "displayName": "Paweł Żmudzki",
      "userId": "14388704116066394305"
     },
     "user_tz": -120
    },
    "id": "rQfC90HwjtgN"
   },
   "outputs": [],
   "source": [
    "class LLaMAMLP(nn.Module):\n",
    "    def __init__(self, hidden_dim, intermediate_dim): # in MLP: intermediate_dim= 4 * hidden_dim\n",
    "        super(LLaMAMLP, self).__init__()\n",
    "        self.linear_1 = nn.Linear(hidden_dim, intermediate_dim)\n",
    "        self.linear_2 = nn.Linear(hidden_dim, intermediate_dim) # Original: intermediate -> hidden.\n",
    "        self.activation_fn = nn.SiLU()\n",
    "        self.out_proj = nn.Linear(intermediate_dim, hidden_dim) # Original: dropout\n",
    "\n",
    "\n",
    "    def forward(self, hidden_states):\n",
    "        x_fc_1 = self.linear_1(hidden_states)\n",
    "        x_fc_2 = self.linear_2(hidden_states)\n",
    "        x = self.activation_fn(x_fc_1) * x_fc_2\n",
    "        return self.out_proj(x)"
   ]
  },
  {
   "cell_type": "code",
   "execution_count": 12,
   "metadata": {
    "colab": {
     "base_uri": "https://localhost:8080/"
    },
    "executionInfo": {
     "elapsed": 1261,
     "status": "ok",
     "timestamp": 1748159253032,
     "user": {
      "displayName": "Paweł Żmudzki",
      "userId": "14388704116066394305"
     },
     "user_tz": -120
    },
    "id": "HifM3AeAq44l",
    "outputId": "6f02c1a3-b56b-4edd-82b8-94a2545b57e7"
   },
   "outputs": [
    {
     "data": {
      "text/plain": [
       "torch.Size([5, 2048, 1024])"
      ]
     },
     "execution_count": 12,
     "metadata": {},
     "output_type": "execute_result"
    }
   ],
   "source": [
    "d_model=config.hidden_size\n",
    "intermediate_dim = config.intermediate_size\n",
    "mlp = LLaMAMLP(d_model, intermediate_dim)\n",
    "mlp(input_data).shape"
   ]
  },
  {
   "cell_type": "code",
   "execution_count": 13,
   "metadata": {
    "colab": {
     "base_uri": "https://localhost:8080/",
     "height": 36
    },
    "executionInfo": {
     "elapsed": 60,
     "status": "ok",
     "timestamp": 1748159270996,
     "user": {
      "displayName": "Paweł Żmudzki",
      "userId": "14388704116066394305"
     },
     "user_tz": -120
    },
    "id": "cKacY1IH83Cj",
    "outputId": "603f7318-5f38-4f2a-f4db-aad9f6b5a448"
   },
   "outputs": [
    {
     "data": {
      "text/plain": [
       "'BabyLlama size: 6.30M parameters'"
      ]
     },
     "execution_count": 13,
     "metadata": {},
     "output_type": "execute_result"
    }
   ],
   "source": [
    "count_parameters(mlp)"
   ]
  },
  {
   "cell_type": "code",
   "execution_count": 14,
   "metadata": {
    "executionInfo": {
     "elapsed": 12,
     "status": "ok",
     "timestamp": 1748159564201,
     "user": {
      "displayName": "Paweł Żmudzki",
      "userId": "14388704116066394305"
     },
     "user_tz": -120
    },
    "id": "pnCmqS4Ya96a"
   },
   "outputs": [],
   "source": [
    "class Block(nn.Module):\n",
    "    def __init__(self, config: BabyLlamaConfig):\n",
    "        super(Block, self).__init__()\n",
    "        self.hidden_dim = hidden_dim = config.hidden_size\n",
    "        self.intermediate_dim = intermediate_dim = config.intermediate_size\n",
    "\n",
    "        self.input_layernorm = LlamaRMSNorm(hidden_dim, eps=config.rms_norm_eps)\n",
    "        self.attn = BabyLlamaAttention(config)\n",
    "        self.post_attention_layernorm = LlamaRMSNorm(hidden_dim, eps=config.rms_norm_eps)\n",
    "        self.mlp = LLaMAMLP(hidden_dim, intermediate_dim)\n",
    "\n",
    "    def forward(\n",
    "        self,\n",
    "        hidden_states,\n",
    "        mask: Optional[torch.Tensor] = None,\n",
    "        position_ids: Optional[torch.LongTensor] = None,\n",
    "    ):\n",
    "        # 1. Normalizacja wejścia + atencja\n",
    "        normed_hidden = self.input_layernorm(hidden_states)\n",
    "        attn_out = self.attn(normed_hidden, mask, position_ids)\n",
    "        h = hidden_states + attn_out  # skip connection\n",
    "\n",
    "        # 2. Normalizacja + MLP\n",
    "        normed_h = self.post_attention_layernorm(h)\n",
    "        mlp_out = self.mlp(normed_h)\n",
    "        out = h + mlp_out  # kolejne skip connection\n",
    "\n",
    "        return out\n"
   ]
  },
  {
   "cell_type": "code",
   "execution_count": 15,
   "metadata": {
    "executionInfo": {
     "elapsed": 47,
     "status": "ok",
     "timestamp": 1748159594029,
     "user": {
      "displayName": "Paweł Żmudzki",
      "userId": "14388704116066394305"
     },
     "user_tz": -120
    },
    "id": "DDnXHH6bP4a3"
   },
   "outputs": [],
   "source": [
    "class LlamaRMSNorm(nn.Module):\n",
    "    def __init__(self, hidden_size, eps=1e-6):\n",
    "        super().__init__()\n",
    "        self.weight = nn.Parameter(torch.ones(hidden_size))\n",
    "        self.variance_epsilon = eps\n",
    "\n",
    "    def forward(self, hidden_states):\n",
    "        input_dtype = hidden_states.dtype\n",
    "        hidden_states = hidden_states.to(torch.float32)\n",
    "        variance = hidden_states.pow(2).mean(-1, keepdim=True) # (1/n) * Σ x_i^2\n",
    "        hidden_states = hidden_states * torch.rsqrt(variance + self.variance_epsilon)\n",
    "        return self.weight * hidden_states.to(input_dtype)\n",
    "\n",
    "class Block(nn.Module):\n",
    "    def __init__(self, config: BabyLlamaConfig):\n",
    "        super(Block, self).__init__()\n",
    "        self.hidden_dim = hidden_dim = config.hidden_size\n",
    "        self.intermediate_dim = intermediate_dim = config.intermediate_size\n",
    "\n",
    "        self.attn = BabyLlamaAttention(config)\n",
    "\n",
    "        self.mlp = LLaMAMLP(hidden_dim, intermediate_dim)\n",
    "        self.input_layernorm = LlamaRMSNorm(hidden_dim, eps=config.rms_norm_eps)\n",
    "        self.post_attention_layernorm = LlamaRMSNorm(hidden_dim, eps=config.rms_norm_eps)\n",
    "\n",
    "\n",
    "    def forward(\n",
    "        self,\n",
    "        hidden_states,\n",
    "        mask: Optional[torch.Tensor] = None,\n",
    "        position_ids: Optional[torch.LongTensor] = None,\n",
    "    ):\n",
    "        r = self.attn(self.input_layernorm(hidden_states), mask,position_ids,)\n",
    "        h = hidden_states + r\n",
    "        r = self.mlp(self.post_attention_layernorm(h))\n",
    "        out = h + r\n",
    "        return out\n"
   ]
  },
  {
   "cell_type": "code",
   "execution_count": 16,
   "metadata": {
    "colab": {
     "base_uri": "https://localhost:8080/"
    },
    "executionInfo": {
     "elapsed": 2741,
     "status": "ok",
     "timestamp": 1748159603153,
     "user": {
      "displayName": "Paweł Żmudzki",
      "userId": "14388704116066394305"
     },
     "user_tz": -120
    },
    "id": "S5UplSTmSDpt",
    "outputId": "eafb2869-0cc6-416c-ce69-e0fdbdde571e"
   },
   "outputs": [
    {
     "name": "stdout",
     "output_type": "stream",
     "text": [
      "\n"
     ]
    },
    {
     "data": {
      "text/plain": [
       "torch.Size([5, 2048, 1024])"
      ]
     },
     "execution_count": 16,
     "metadata": {},
     "output_type": "execute_result"
    }
   ],
   "source": [
    "block = Block(config)\n",
    "block(input_data).shape"
   ]
  },
  {
   "cell_type": "code",
   "execution_count": 17,
   "metadata": {
    "colab": {
     "base_uri": "https://localhost:8080/",
     "height": 36
    },
    "executionInfo": {
     "elapsed": 44,
     "status": "ok",
     "timestamp": 1748159683847,
     "user": {
      "displayName": "Paweł Żmudzki",
      "userId": "14388704116066394305"
     },
     "user_tz": -120
    },
    "id": "WqQos4kv9AA1",
    "outputId": "6f0b442a-11c6-4a25-90ac-8d3ef04c7897"
   },
   "outputs": [
    {
     "data": {
      "text/plain": [
       "'BabyLlama size: 8.66M parameters'"
      ]
     },
     "execution_count": 17,
     "metadata": {},
     "output_type": "execute_result"
    }
   ],
   "source": [
    "count_parameters(block)"
   ]
  },
  {
   "cell_type": "code",
   "execution_count": 18,
   "metadata": {
    "executionInfo": {
     "elapsed": 25,
     "status": "ok",
     "timestamp": 1748159733545,
     "user": {
      "displayName": "Paweł Żmudzki",
      "userId": "14388704116066394305"
     },
     "user_tz": -120
    },
    "id": "GcngjpHCSUnh"
   },
   "outputs": [],
   "source": [
    "class BabyLlamaModel(nn.Module):\n",
    "    def __init__(self, config):\n",
    "        super(BabyLlamaModel, self).__init__()\n",
    "        self.config = config\n",
    "        self.hidden_dim = hidden_dim = config.hidden_size\n",
    "        self.vocab_size = vocab_size = config.vocab_size\n",
    "        assert self.vocab_size > 0\n",
    "        self.num_hidden_layers = num_hidden_layers = config.num_hidden_layers\n",
    "\n",
    "        self.embed_tokens = nn.Embedding(vocab_size, hidden_dim)\n",
    "        self.blocks = nn.ModuleList(\n",
    "            [Block(config) for _ in range(num_hidden_layers)]\n",
    "        )\n",
    "        self.norm = LlamaRMSNorm(hidden_dim, eps=config.rms_norm_eps)\n",
    "\n",
    "    def forward(\n",
    "        self,\n",
    "        hidden_states: torch.Tensor,\n",
    "        mask: Optional[torch.Tensor] = None,\n",
    "        position_ids: Optional[torch.LongTensor] = None,\n",
    "    ):\n",
    "\n",
    "        x = self.embed_tokens(hidden_states)\n",
    "\n",
    "        seq_len = hidden_states.size(1)\n",
    "        if position_ids is None:\n",
    "            position_ids = torch.arange(seq_len, dtype=torch.long, device=self.config.device).unsqueeze(0)\n",
    "\n",
    "\n",
    "        for b in self.blocks:\n",
    "            x = b(x, mask, position_ids)\n",
    "\n",
    "        return self.norm(x)\n",
    "\n",
    "\n",
    "class BabyLlamaPreTrainedModel(PreTrainedModel):\n",
    "    config_class = BabyLlamaConfig\n",
    "    base_model_prefix = \"model\"\n",
    "    supports_gradient_checkpointing = True\n",
    "    _skip_keys_device_placement = \"past_key_values\"\n",
    "\n",
    "    def _init_weights(self, module):\n",
    "        std = self.config.initializer_range\n",
    "        if isinstance(module, nn.Linear):\n",
    "            module.weight.data.normal_(mean=0.0, std=std)\n",
    "            if module.bias is not None:\n",
    "                module.bias.data.zero_()\n",
    "        elif isinstance(module, nn.Embedding):\n",
    "            module.weight.data.normal_(mean=0.0, std=std)\n",
    "            if module.padding_idx is not None:\n",
    "                module.weight.data[module.padding_idx].zero_()\n",
    "\n",
    "\n",
    "class BabyLlamaForCausalLM(BabyLlamaPreTrainedModel):\n",
    "\n",
    "    def __init__(self, config):\n",
    "        super().__init__(config)\n",
    "        self.model = BabyLlamaModel(config)\n",
    "        self.vocab_size = config.vocab_size\n",
    "        self.lm_head = nn.Linear(config.hidden_size, self.vocab_size, bias=config.lm_head_bias)\n",
    "        self.post_init()\n",
    "\n",
    "    def forward(\n",
    "        self,\n",
    "        input_ids: torch.LongTensor = None,\n",
    "        attention_mask: Optional[torch.Tensor] = None,\n",
    "        position_ids: Optional[torch.LongTensor] = None,\n",
    "        labels: Optional[torch.LongTensor] = None,\n",
    "    ):\n",
    "\n",
    "        outputs = self.model(\n",
    "            hidden_states=input_ids,\n",
    "            mask=attention_mask,\n",
    "            position_ids=position_ids,\n",
    "        )\n",
    "        logits = self.lm_head(outputs)\n",
    "        logits = logits.float()\n",
    "\n",
    "        loss = None\n",
    "        if labels is not None:\n",
    "            # shift so that tokens < n predict n\n",
    "            shift_logits = logits[..., :-1, :].contiguous() # all elements expect the last one\n",
    "            shift_labels = labels[..., 1:].contiguous() # all elements except the first\n",
    "            # Flatten the tokens\n",
    "            shift_logits = shift_logits.view(-1, self.config.vocab_size)\n",
    "            shift_labels = shift_labels.view(-1)\n",
    "            # Ensure tensors are on the same device\n",
    "            shift_labels = shift_labels.to(shift_logits.device)\n",
    "            loss_fct = CrossEntropyLoss()\n",
    "            loss = loss_fct(shift_logits, shift_labels)\n",
    "\n",
    "\n",
    "        return CausalLMOutputWithPast(\n",
    "            loss=loss,\n",
    "            logits=logits,\n",
    "        )\n"
   ]
  },
  {
   "cell_type": "code",
   "execution_count": 20,
   "metadata": {
    "executionInfo": {
     "elapsed": 1984,
     "status": "ok",
     "timestamp": 1748159765592,
     "user": {
      "displayName": "Paweł Żmudzki",
      "userId": "14388704116066394305"
     },
     "user_tz": -120
    },
    "id": "HZqvBWtmVxUk"
   },
   "outputs": [],
   "source": [
    "device=\"cpu\"\n",
    "config = BabyLlamaConfig(device=device)\n",
    "llm = BabyLlamaForCausalLM(config).to(config.device)\n",
    "input_ids = torch.randint(1, config.vocab_size, (batch_size, sequence_length), device=config.device)"
   ]
  },
  {
   "cell_type": "code",
   "execution_count": 21,
   "metadata": {
    "colab": {
     "base_uri": "https://localhost:8080/"
    },
    "executionInfo": {
     "elapsed": 26649,
     "status": "ok",
     "timestamp": 1748159822630,
     "user": {
      "displayName": "Paweł Żmudzki",
      "userId": "14388704116066394305"
     },
     "user_tz": -120
    },
    "id": "Lk9xlnKeYNuY",
    "outputId": "009256e8-e0f0-41f5-8ffa-ebea9eba9df3"
   },
   "outputs": [
    {
     "name": "stdout",
     "output_type": "stream",
     "text": [
      "\n",
      "\n",
      "\n",
      "\n",
      "\n",
      "\n"
     ]
    }
   ],
   "source": [
    "outputs = llm(input_ids, labels=input_ids)"
   ]
  },
  {
   "cell_type": "code",
   "execution_count": 22,
   "metadata": {
    "executionInfo": {
     "elapsed": 7923,
     "status": "ok",
     "timestamp": 1748159860264,
     "user": {
      "displayName": "Paweł Żmudzki",
      "userId": "14388704116066394305"
     },
     "user_tz": -120
    },
    "id": "cvZqOL2zmaxK"
   },
   "outputs": [],
   "source": [
    "visualize_model(llm.model, outputs['logits'])"
   ]
  },
  {
   "cell_type": "code",
   "execution_count": 23,
   "metadata": {
    "colab": {
     "base_uri": "https://localhost:8080/"
    },
    "executionInfo": {
     "elapsed": 98,
     "status": "ok",
     "timestamp": 1748159882303,
     "user": {
      "displayName": "Paweł Żmudzki",
      "userId": "14388704116066394305"
     },
     "user_tz": -120
    },
    "id": "g7riBpWO7VMf",
    "outputId": "64f4f1bc-bc53-4968-f902-1e4a41f6dcbe"
   },
   "outputs": [
    {
     "data": {
      "text/plain": [
       "CausalLMOutputWithPast(loss=tensor(10.5733, grad_fn=<NllLossBackward0>), logits=tensor([[[-0.0291,  0.0099,  0.2327,  ...,  0.4290, -0.3095, -1.1238],\n",
       "         [ 0.0309, -0.0097,  0.4424,  ...,  1.1019, -0.8034, -1.0185],\n",
       "         [-0.1282, -0.1264,  0.5241,  ...,  1.2089, -0.9316, -0.3070],\n",
       "         ...,\n",
       "         [-1.3867,  0.4530, -0.2669,  ...,  0.4129, -0.1513,  0.4330],\n",
       "         [-0.2766, -0.0714,  0.5873,  ...,  0.4243, -0.0309, -0.1878],\n",
       "         [-0.0231,  0.2343,  0.3839,  ...,  0.3366, -0.3915, -0.2936]],\n",
       "\n",
       "        [[ 0.1660, -0.0333,  0.0407,  ...,  1.2927,  0.3746, -0.7710],\n",
       "         [ 0.6112, -0.1534, -0.1268,  ...,  1.0633,  0.9829, -0.6506],\n",
       "         [ 0.7801, -0.7078,  0.0334,  ...,  0.6928,  0.6143, -0.8664],\n",
       "         ...,\n",
       "         [-1.1124,  0.8686,  0.3033,  ..., -1.5653,  0.7669, -0.3606],\n",
       "         [-1.6176,  0.8541,  0.3668,  ..., -0.2985,  0.0293, -1.2825],\n",
       "         [-1.7085, -0.2340, -0.3985,  ..., -1.1194,  0.4045, -0.7197]],\n",
       "\n",
       "        [[ 0.3346,  1.0511,  0.2804,  ...,  1.6684,  0.3184, -0.7292],\n",
       "         [ 0.0946,  0.5397,  0.5480,  ...,  1.2614, -0.0383, -1.4462],\n",
       "         [ 0.5372,  0.6807,  0.9421,  ...,  0.7271, -0.0022, -1.3946],\n",
       "         ...,\n",
       "         [ 0.4777, -0.4248,  0.0494,  ...,  0.6885, -0.8146,  0.5888],\n",
       "         [ 0.4615, -0.0931, -0.4382,  ...,  0.6046, -1.1905,  0.0791],\n",
       "         [-0.4580,  0.4118,  0.6126,  ...,  0.7657, -0.9513,  0.3865]],\n",
       "\n",
       "        [[ 0.6325,  0.0125,  1.4897,  ...,  0.7924, -0.2781,  0.0895],\n",
       "         [ 0.6682, -0.4037,  0.9317,  ...,  1.1353,  0.3041, -0.2600],\n",
       "         [ 0.5987, -0.4057,  0.6094,  ...,  1.2792,  0.3830, -0.4342],\n",
       "         ...,\n",
       "         [-0.4015, -0.1528,  2.0337,  ...,  1.0017,  1.4634, -0.0697],\n",
       "         [ 0.2817,  1.3279,  1.7675,  ...,  1.6305,  0.1566,  0.3773],\n",
       "         [ 0.3983,  0.3731,  1.6192,  ...,  0.5802,  0.9959,  0.5698]],\n",
       "\n",
       "        [[ 0.5334,  0.7031,  0.1222,  ...,  0.1215,  0.0394,  0.1902],\n",
       "         [ 0.2858,  0.4486,  0.1951,  ..., -0.1429,  0.1636,  0.2856],\n",
       "         [ 0.0568,  0.5512,  0.6036,  ..., -0.2641,  0.5653,  0.7578],\n",
       "         ...,\n",
       "         [ 0.7951,  0.0227,  1.0772,  ...,  0.0260,  0.3818, -0.4431],\n",
       "         [ 0.1757, -0.1687,  0.9397,  ...,  0.5316,  0.1908, -0.7163],\n",
       "         [ 0.1462,  0.5097,  0.1546,  ..., -0.0390, -0.1658,  0.1478]]],\n",
       "       grad_fn=<UnsafeViewBackward0>), past_key_values=None, hidden_states=None, attentions=None)"
      ]
     },
     "execution_count": 23,
     "metadata": {},
     "output_type": "execute_result"
    }
   ],
   "source": [
    "outputs"
   ]
  },
  {
   "cell_type": "code",
   "execution_count": 24,
   "metadata": {
    "colab": {
     "base_uri": "https://localhost:8080/"
    },
    "executionInfo": {
     "elapsed": 24,
     "status": "ok",
     "timestamp": 1748159902091,
     "user": {
      "displayName": "Paweł Żmudzki",
      "userId": "14388704116066394305"
     },
     "user_tz": -120
    },
    "id": "geZxTDtrYica",
    "outputId": "d5fdf1db-bd92-48ab-96a5-7eee7e1aef34"
   },
   "outputs": [
    {
     "data": {
      "text/plain": [
       "BabyLlamaForCausalLM(\n",
       "  (model): BabyLlamaModel(\n",
       "    (embed_tokens): Embedding(32000, 1024)\n",
       "    (blocks): ModuleList(\n",
       "      (0-5): 6 x Block(\n",
       "        (attn): BabyLlamaAttention(\n",
       "          (q_proj): Linear(in_features=1024, out_features=1024, bias=False)\n",
       "          (k_proj): Linear(in_features=1024, out_features=128, bias=False)\n",
       "          (v_proj): Linear(in_features=1024, out_features=128, bias=False)\n",
       "          (o_proj): Linear(in_features=1024, out_features=1024, bias=False)\n",
       "          (rotary_emb): RotaryPositionalEmbeddings()\n",
       "        )\n",
       "        (mlp): LLaMAMLP(\n",
       "          (linear_1): Linear(in_features=1024, out_features=2048, bias=True)\n",
       "          (linear_2): Linear(in_features=1024, out_features=2048, bias=True)\n",
       "          (activation_fn): SiLU()\n",
       "          (out_proj): Linear(in_features=2048, out_features=1024, bias=True)\n",
       "        )\n",
       "        (input_layernorm): LlamaRMSNorm()\n",
       "        (post_attention_layernorm): LlamaRMSNorm()\n",
       "      )\n",
       "    )\n",
       "    (norm): LlamaRMSNorm()\n",
       "  )\n",
       "  (lm_head): Linear(in_features=1024, out_features=32000, bias=False)\n",
       ")"
      ]
     },
     "execution_count": 24,
     "metadata": {},
     "output_type": "execute_result"
    }
   ],
   "source": [
    "llm"
   ]
  },
  {
   "cell_type": "code",
   "execution_count": 25,
   "metadata": {
    "colab": {
     "base_uri": "https://localhost:8080/",
     "height": 36
    },
    "executionInfo": {
     "elapsed": 43,
     "status": "ok",
     "timestamp": 1748159924389,
     "user": {
      "displayName": "Paweł Żmudzki",
      "userId": "14388704116066394305"
     },
     "user_tz": -120
    },
    "id": "FUnuoPINY9VS",
    "outputId": "ef738716-6c0c-466b-e53f-8f794f1db684"
   },
   "outputs": [
    {
     "data": {
      "text/plain": [
       "'BabyLlama size: 117.48M parameters'"
      ]
     },
     "execution_count": 25,
     "metadata": {},
     "output_type": "execute_result"
    }
   ],
   "source": [
    "count_parameters(llm)"
   ]
  },
  {
   "cell_type": "markdown",
   "metadata": {
    "id": "LDRhgXQ66Wd9"
   },
   "source": [
    "## Dataset"
   ]
  },
  {
   "cell_type": "code",
   "execution_count": 26,
   "metadata": {
    "colab": {
     "base_uri": "https://localhost:8080/",
     "height": 274,
     "referenced_widgets": [
      "abb5a8d46246439490ed170dded4476c",
      "2a44d5f7fa804ed5bf611e7e628064a1",
      "619eab817fa340f797cadd7872e21ed6",
      "524803a4e7014dceabd4ec2ba7140dfd",
      "7ecb80a77aaf493398974b5bc5fe4383",
      "3898473f9b564712b058d5db33dd8d6b",
      "0bf0111b6fa44d80b59a7b66613651ed",
      "c2034759e6874efc8d9c5cf9db79bfab",
      "1a3b415224c94059b2dd58aad5e934d8",
      "2dc8f6b7c6c141f58c4051e83ac193a4",
      "8ebe2c36d093481d80e100ea468b4b8c",
      "1eadc8036a15470d8d2b560e45d294fb",
      "8559680e5d154e5ea9c319b945fff094",
      "67cd8a6f898341d9acaa8e15b553fc73",
      "5013b1067ebb48638ccf79cf204c988c",
      "658331495673440aa43ce687b0e48c49",
      "3c869f343f0343e9806b5a0548f84beb",
      "7ad3d09320874c808737cd4c5e383262",
      "e396134d110d4a20b503dd86220291b3",
      "9a75157adb9b473e960397e834cd53dc",
      "569682e410254f6bacb63bed3d4c11a4",
      "f1364bedddc74267a874f7f0da03e129",
      "c572910fa0cb4b91b919845b260846d7",
      "ce3c7432f0dd48e08359efe976f32364",
      "8c1cdb3ac6484b1080d4b135112e397f",
      "3127d3d8efde4d748e35ed91915f8b0e",
      "113c110fda9f42f0bfa14a1a7efb937e",
      "3009a0585e6e4e03931db3f5259812cb",
      "02cc52ce26814dffb508b941bc130390",
      "c567c38e1af44e86a6c58aec459ce3e6",
      "85a37eb1813d47a593d30cd2976e8538",
      "bcf68a388fee4d73b0506b2436749b8a",
      "ec793c2d5b974fb881fbbd8109d3e4f0",
      "aed6b91f53fb4e84a79fec5e7c3ea551",
      "163e4c2ef4574e0aaac49e1eb8bbec86",
      "88537c0a9d354773be0c7975b6894ad0",
      "3e5ca1dfe25f488fa09a467ed83b6aea",
      "69dafc01a489408984b68ff423d1c2d2",
      "5920689665e14d58ae570d785df7ddd1",
      "e50becb5a5294908a735f4ced06cb8b2",
      "8d5e4a5b7dd94a77b12c8185d36c9dc0",
      "a8d56a7050f3406b9f3ceeb4abf9ff2e",
      "1dde6274c1254f0dbc43347176514b12",
      "64ce3c74f8514895b797c0b5b3fac32e"
     ]
    },
    "executionInfo": {
     "elapsed": 1162702,
     "status": "ok",
     "timestamp": 1748161134550,
     "user": {
      "displayName": "Paweł Żmudzki",
      "userId": "14388704116066394305"
     },
     "user_tz": -120
    },
    "id": "XFUsLI0H23mx",
    "outputId": "92abda6b-f715-4001-b86c-8138ec8a249a"
   },
   "outputs": [],
   "source": [
    "from datasets import load_dataset\n",
    "\n",
    "torch.manual_seed(64)\n",
    "\n",
    "train_dataset = load_dataset(\"huggingface-course/codeparrot-ds-train\", split=\"train[:1%]\")\n",
    "val_dataset = load_dataset(\"huggingface-course/codeparrot-ds-valid\")\n"
   ]
  },
  {
   "cell_type": "code",
   "execution_count": 27,
   "metadata": {
    "colab": {
     "base_uri": "https://localhost:8080/"
    },
    "executionInfo": {
     "elapsed": 78,
     "status": "ok",
     "timestamp": 1748161154593,
     "user": {
      "displayName": "Paweł Żmudzki",
      "userId": "14388704116066394305"
     },
     "user_tz": -120
    },
    "id": "ZkPgc_uNkVFi",
    "outputId": "fba27b4e-55bb-4608-ce53-3f8198be371f"
   },
   "outputs": [
    {
     "data": {
      "text/plain": [
       "Dataset({\n",
       "    features: ['repo_name', 'path', 'copies', 'size', 'content', 'license'],\n",
       "    num_rows: 6067\n",
       "})"
      ]
     },
     "execution_count": 27,
     "metadata": {},
     "output_type": "execute_result"
    }
   ],
   "source": [
    "train_dataset"
   ]
  },
  {
   "cell_type": "markdown",
   "metadata": {
    "id": "iZHS2G2o6DRQ"
   },
   "source": [
    "### Tokenizer"
   ]
  },
  {
   "cell_type": "code",
   "execution_count": 29,
   "metadata": {
    "colab": {
     "base_uri": "https://localhost:8080/",
     "height": 17,
     "referenced_widgets": [
      "e1acf25614dd4bdcb2fe424a10595bdd",
      "13521de9cf60468dad6d30f07c10fb17",
      "bd4b18c70d644f33a74e81dece32dfbd",
      "03c39e7c37d849fca3ee7b063c9d8206",
      "c5c4e4052fe84172913ae83b5cd3035e",
      "9507ee6f329c4ad595963c2f18655590",
      "d5eec0f20d3c40a39d7e3e4206b5033d",
      "9b3478eb92dc4f96859bc2bda3938537",
      "9a67375bdb054dea98f968f3b4cfb87c",
      "af22b569e6ad4ce9a84a52f527165781",
      "844ff64c0e3246a785086f678866d0c8",
      "806df11519e1403780a43708018915df",
      "bf238fb64da24113a038959bf541b661",
      "754203609318436d92e86ba64c7a9bf0",
      "2a04d54a58d74e17afcd9fbff6e6daf8",
      "6124ccdbee204388b71e17f53c7affcd",
      "78ffcf4ac0044a75b285bc2197190efa",
      "ead38b58a26047039c9d686ec1b70cd6",
      "f0253232491f426eaeef599f7f65f0ec",
      "1d3d7fd19a6148f392268137fd0eede5"
     ]
    },
    "executionInfo": {
     "elapsed": 484,
     "status": "ok",
     "timestamp": 1748161186469,
     "user": {
      "displayName": "Paweł Żmudzki",
      "userId": "14388704116066394305"
     },
     "user_tz": -120
    },
    "id": "uH1IUSwCwFTW",
    "outputId": "336bc92a-12ee-499c-aad4-5d7f4085d546"
   },
   "outputs": [
    {
     "data": {
      "application/vnd.jupyter.widget-view+json": {
       "model_id": "ce93074f6ed9459b9dcb567d29a27a20",
       "version_major": 2,
       "version_minor": 0
      },
      "text/plain": [
       "VBox(children=(HTML(value='<center> <img\\nsrc=https://huggingface.co/front/assets/huggingface_logo-noborder.sv…"
      ]
     },
     "metadata": {},
     "output_type": "display_data"
    }
   ],
   "source": [
    "from transformers import AutoTokenizer\n",
    "from huggingface_hub import login\n",
    "\n",
    "login()"
   ]
  },
  {
   "cell_type": "code",
   "execution_count": 30,
   "metadata": {
    "colab": {
     "base_uri": "https://localhost:8080/",
     "height": 187,
     "referenced_widgets": [
      "506cb34fe0fa4004a43b19ce7b3eb552",
      "1c459f1caf9f4bc28df0433f6310b16c",
      "7bb152682b544a3b9c9e2d55cf765caa",
      "34bfc1285b024778950f86a9a1c8377d",
      "21349da442a34da0b9c45ad2641f4bb5",
      "dd70c87a8bd84ba2a6487636ff239f05",
      "9e8c4fc165ff448e95d71911c874ea5e",
      "55c93f7e4ac64075a49d66b7fa61f23d",
      "41b22f4256964c25a2f2f3d629a63fe0",
      "fa3fd9ff343b4842942a2857af4f153a",
      "013def97a70846dca85a92e7f0ff1e1c",
      "af74dfa370f548878e10ddf53eaf2699",
      "36ccf373aeb84d5cb54e8e0910a0d622",
      "9742c6e5c9e44ef9997893a36523eeab",
      "0bbd5eb7abbc4266b33504ec88dfb0aa",
      "8172ee28165b43248451ba9a1951cb3b",
      "b9694fbc0235452aac336b879b88aee3",
      "08deb70a1e5543ec91794d69bb2acb82",
      "f6cbf69a27a7499ba12c8aaedc6be24c",
      "4cced782c5d54d0599b34dda0713f969",
      "1f71c50eadb046cb9eb1777d743caf0e",
      "603c30ccd87c4717a84edc97ea8ad5d4",
      "f1d4eecb271c44daa53b1c4e23e7ead6",
      "611145c225374a228d86e5e3f2151ca3",
      "3141bac5d440460f88de039de44ce0fe",
      "b1b1bb1ab03a49e8b01fa6a457954f0f",
      "6a196be06c5b422cbd54015ebdb75f41",
      "ab7adde9ce924b8b833cb782c64af4f1",
      "15e91ddcd31a41ec9bfcb14fcab279a9",
      "bee65b5decaa4e99b6d7402959146982",
      "f05112516b7246e2b1efe7f2caa13645",
      "fa8816d156dc4e80b72e6f045cc61e1c",
      "8d181f53c4b944d7a94b4240330bc50e"
     ]
    },
    "executionInfo": {
     "elapsed": 1616,
     "status": "ok",
     "timestamp": 1748163791278,
     "user": {
      "displayName": "Paweł Żmudzki",
      "userId": "14388704116066394305"
     },
     "user_tz": -120
    },
    "id": "yJ3yiQP8wRR4",
    "outputId": "fba05ec0-3754-4c99-d953-1fd9d2d634ed"
   },
   "outputs": [
    {
     "name": "stderr",
     "output_type": "stream",
     "text": [
      "You are using the default legacy behaviour of the <class 'transformers.models.llama.tokenization_llama.LlamaTokenizer'>. This is expected, and simply means that the `legacy` (previous) behavior will be used so nothing changes for you. If you want to use the new behaviour, set `legacy=False`. This should only be set if you understand what it means, and thoroughly read the reason why this was added as explained in https://github.com/huggingface/transformers/pull/24565 - if you loaded a llama tokenizer from a GGUF file you can ignore this message\n",
      "You are using the default legacy behaviour of the <class 'transformers.models.llama.tokenization_llama_fast.LlamaTokenizerFast'>. This is expected, and simply means that the `legacy` (previous) behavior will be used so nothing changes for you. If you want to use the new behaviour, set `legacy=False`. This should only be set if you understand what it means, and thoroughly read the reason why this was added as explained in https://github.com/huggingface/transformers/pull/24565 - if you loaded a llama tokenizer from a GGUF file you can ignore this message.\n"
     ]
    },
    {
     "name": "stdout",
     "output_type": "stream",
     "text": [
      "32000\n"
     ]
    }
   ],
   "source": [
    "#tokenizer = AutoTokenizer.from_pretrained(\"meta-llama/Llama-2-7b-chat-hf\", add_eos_token = True)\n",
    "#tokenizer = AutoTokenizer.from_pretrained(\"gpt2\")\n",
    "tokenizer = AutoTokenizer.from_pretrained(\"openlm-research/open_llama_3b_v2\")\n",
    "print(tokenizer.vocab_size)  # Powinno dać 32000"
   ]
  },
  {
   "cell_type": "code",
   "execution_count": 31,
   "metadata": {
    "colab": {
     "base_uri": "https://localhost:8080/"
    },
    "executionInfo": {
     "elapsed": 8,
     "status": "ok",
     "timestamp": 1748163798907,
     "user": {
      "displayName": "Paweł Żmudzki",
      "userId": "14388704116066394305"
     },
     "user_tz": -120
    },
    "id": "nbA4N51Uw5Aa",
    "outputId": "4889e216-f771-4a13-ddfd-241d02053855"
   },
   "outputs": [
    {
     "data": {
      "text/plain": [
       "LlamaTokenizerFast(name_or_path='openlm-research/open_llama_3b_v2', vocab_size=32000, model_max_length=2048, is_fast=True, padding_side='left', truncation_side='right', special_tokens={'bos_token': '<s>', 'eos_token': '</s>', 'unk_token': '<unk>'}, clean_up_tokenization_spaces=False, added_tokens_decoder={\n",
       "\t0: AddedToken(\"<unk>\", rstrip=False, lstrip=False, single_word=False, normalized=True, special=True),\n",
       "\t1: AddedToken(\"<s>\", rstrip=False, lstrip=False, single_word=False, normalized=True, special=True),\n",
       "\t2: AddedToken(\"</s>\", rstrip=False, lstrip=False, single_word=False, normalized=True, special=True),\n",
       "}\n",
       ")"
      ]
     },
     "execution_count": 31,
     "metadata": {},
     "output_type": "execute_result"
    }
   ],
   "source": [
    "tokenizer"
   ]
  },
  {
   "cell_type": "code",
   "execution_count": 32,
   "metadata": {
    "executionInfo": {
     "elapsed": 12,
     "status": "ok",
     "timestamp": 1748163803343,
     "user": {
      "displayName": "Paweł Żmudzki",
      "userId": "14388704116066394305"
     },
     "user_tz": -120
    },
    "id": "S6OBjqg7ESEt"
   },
   "outputs": [],
   "source": [
    "tokenizer.pad_token = tokenizer.unk_token"
   ]
  },
  {
   "cell_type": "code",
   "execution_count": 33,
   "metadata": {
    "colab": {
     "base_uri": "https://localhost:8080/"
    },
    "executionInfo": {
     "elapsed": 34,
     "status": "ok",
     "timestamp": 1748163805284,
     "user": {
      "displayName": "Paweł Żmudzki",
      "userId": "14388704116066394305"
     },
     "user_tz": -120
    },
    "id": "P8rRe1dY27H1",
    "outputId": "02a2d26f-2d2c-448d-8e41-389520c5f1dc"
   },
   "outputs": [
    {
     "data": {
      "text/plain": [
       "['<s>', '▁Hi', '▁I', \"'\", 'm', '▁Paw', 'el', '▁Z', 'm', 'ud', 'z', 'ki']"
      ]
     },
     "execution_count": 33,
     "metadata": {},
     "output_type": "execute_result"
    }
   ],
   "source": [
    "text = \"Hi I'm Pawel Zmudzki\"\n",
    "tokenizer(text).tokens()"
   ]
  },
  {
   "cell_type": "code",
   "execution_count": 34,
   "metadata": {
    "colab": {
     "base_uri": "https://localhost:8080/"
    },
    "executionInfo": {
     "elapsed": 10,
     "status": "ok",
     "timestamp": 1748163838824,
     "user": {
      "displayName": "Paweł Żmudzki",
      "userId": "14388704116066394305"
     },
     "user_tz": -120
    },
    "id": "w4_yTZ23xJXZ",
    "outputId": "0e0a61c1-58a8-48c1-a478-6c7b9a7c189d"
   },
   "outputs": [
    {
     "name": "stdout",
     "output_type": "stream",
     "text": [
      "Input IDs length: 232\n",
      "Input chunk lengths: [10, 10, 10, 10, 10, 10, 10, 10, 10, 10, 10, 10, 10, 10, 10, 10, 10, 10, 10, 10, 10, 10, 10, 10, 10, 10, 10, 10, 10, 10, 10, 10, 10, 10, 10, 10, 10, 10, 10, 10, 10, 10, 10, 10, 10, 10, 10, 10, 10, 10, 10, 10, 10, 10, 10, 10, 10, 10, 10, 10, 10, 10, 10, 10, 10, 10, 10, 10, 10, 10, 10, 10, 10, 10, 10, 10, 10, 10, 10, 10, 10, 10, 10, 10, 10, 10, 10, 10, 10, 10, 10, 10, 10, 10, 10, 10, 10, 10, 10, 10, 10, 10, 10, 10, 10, 10, 10, 10, 10, 10, 10, 10, 10, 10, 10, 10, 10, 10, 10, 10, 10, 10, 10, 10, 10, 10, 10, 10, 10, 10, 10, 10, 10, 10, 10, 10, 10, 10, 10, 10, 10, 10, 10, 10, 10, 10, 10, 10, 10, 10, 10, 10, 10, 10, 10, 10, 10, 10, 10, 10, 10, 10, 10, 10, 10, 10, 10, 10, 10, 10, 10, 10, 10, 10, 10, 10, 10, 10, 10, 10, 10, 10, 10, 10, 10, 10, 10, 10, 10, 10, 10, 10, 10, 10, 10, 10, 10, 10, 10, 10, 10, 10, 10, 10, 10, 10, 10, 10, 10, 10, 10, 10, 10, 10, 10, 10, 10, 10, 10, 10, 10, 10, 10, 10, 10, 10, 10, 10, 10, 10, 10, 10]\n",
      "Chunk mapping: [0, 0, 0, 0, 0, 0, 0, 0, 0, 0, 0, 0, 0, 0, 0, 0, 0, 0, 0, 0, 0, 0, 0, 0, 0, 0, 0, 0, 0, 0, 0, 0, 0, 0, 0, 0, 0, 0, 0, 0, 0, 0, 0, 0, 0, 0, 0, 0, 0, 0, 0, 0, 0, 0, 0, 0, 0, 0, 0, 0, 0, 0, 0, 0, 0, 0, 0, 0, 0, 0, 0, 0, 0, 0, 0, 0, 0, 0, 0, 0, 0, 0, 0, 0, 0, 0, 0, 0, 0, 0, 0, 0, 0, 0, 0, 0, 0, 0, 0, 0, 0, 0, 0, 0, 0, 0, 0, 0, 0, 0, 0, 0, 0, 0, 0, 0, 0, 0, 0, 0, 0, 0, 0, 0, 0, 0, 0, 0, 0, 0, 0, 0, 0, 0, 0, 0, 0, 0, 0, 0, 0, 0, 0, 0, 0, 0, 0, 0, 0, 0, 0, 0, 0, 0, 0, 0, 0, 0, 0, 0, 0, 0, 0, 0, 0, 0, 0, 0, 0, 0, 0, 0, 0, 0, 0, 0, 0, 0, 0, 0, 0, 0, 0, 0, 0, 0, 0, 0, 0, 0, 0, 0, 0, 0, 0, 0, 0, 0, 0, 0, 0, 0, 0, 0, 0, 0, 0, 0, 0, 0, 0, 0, 0, 0, 0, 0, 0, 0, 0, 0, 0, 0, 0, 0, 0, 0, 0, 0, 0, 0, 0, 0]\n"
     ]
    }
   ],
   "source": [
    "context_length = 10\n",
    "tokens = tokenizer(\n",
    "    #train_dataset[\"train\"][1][\"content\"],\n",
    "    train_dataset[1][\"content\"],\n",
    "    padding=True,\n",
    "    truncation=True,\n",
    "    max_length=context_length,\n",
    "    return_overflowing_tokens=True,\n",
    "    return_length=True,\n",
    ")\n",
    "\n",
    "print(f\"Input IDs length: {len(tokens['input_ids'])}\")\n",
    "print(f\"Input chunk lengths: {(tokens['length'])}\")\n",
    "print(f\"Chunk mapping: {tokens['overflow_to_sample_mapping']}\")"
   ]
  },
  {
   "cell_type": "code",
   "execution_count": 35,
   "metadata": {
    "executionInfo": {
     "elapsed": 9,
     "status": "ok",
     "timestamp": 1748163842987,
     "user": {
      "displayName": "Paweł Żmudzki",
      "userId": "14388704116066394305"
     },
     "user_tz": -120
    },
    "id": "jIizZ1th7vo0"
   },
   "outputs": [],
   "source": [
    "from transformers import DataCollatorForLanguageModeling\n",
    "\n",
    "data_collator = DataCollatorForLanguageModeling(tokenizer, mlm=False, return_tensors=\"pt\")"
   ]
  },
  {
   "cell_type": "code",
   "execution_count": 36,
   "metadata": {
    "executionInfo": {
     "elapsed": 6,
     "status": "ok",
     "timestamp": 1748163844129,
     "user": {
      "displayName": "Paweł Żmudzki",
      "userId": "14388704116066394305"
     },
     "user_tz": -120
    },
    "id": "M5RSUI6Z-Syh"
   },
   "outputs": [],
   "source": [
    "sample = data_collator.torch_call([tokens])"
   ]
  },
  {
   "cell_type": "code",
   "execution_count": 37,
   "metadata": {
    "colab": {
     "base_uri": "https://localhost:8080/"
    },
    "executionInfo": {
     "elapsed": 10,
     "status": "ok",
     "timestamp": 1748163845446,
     "user": {
      "displayName": "Paweł Żmudzki",
      "userId": "14388704116066394305"
     },
     "user_tz": -120
    },
    "id": "eqzr9lGy-u5I",
    "outputId": "4183dedc-3eec-4d7d-f21b-8bb9daa9b84a"
   },
   "outputs": [
    {
     "data": {
      "text/plain": [
       "{'input_ids': tensor([[[    1, 11414,    13,  ..., 24842,    13,  8315],\n",
       "         [    1,  5992,   293,  ...,  2184,  1104,  1048],\n",
       "         [    1,   268,  8644,  ..., 29531,  4491, 29533],\n",
       "         ...,\n",
       "         [    1, 23218,  4322,  ...,    13,   498, 29512],\n",
       "         [    1,  3309, 29554,  ..., 29520, 29544,  4833],\n",
       "         [    0,     0,     0,  ...,     1, 29533,    13]]]), 'attention_mask': tensor([[[1, 1, 1,  ..., 1, 1, 1],\n",
       "         [1, 1, 1,  ..., 1, 1, 1],\n",
       "         [1, 1, 1,  ..., 1, 1, 1],\n",
       "         ...,\n",
       "         [1, 1, 1,  ..., 1, 1, 1],\n",
       "         [1, 1, 1,  ..., 1, 1, 1],\n",
       "         [0, 0, 0,  ..., 1, 1, 1]]]), 'length': tensor([[10, 10, 10, 10, 10, 10, 10, 10, 10, 10, 10, 10, 10, 10, 10, 10, 10, 10,\n",
       "         10, 10, 10, 10, 10, 10, 10, 10, 10, 10, 10, 10, 10, 10, 10, 10, 10, 10,\n",
       "         10, 10, 10, 10, 10, 10, 10, 10, 10, 10, 10, 10, 10, 10, 10, 10, 10, 10,\n",
       "         10, 10, 10, 10, 10, 10, 10, 10, 10, 10, 10, 10, 10, 10, 10, 10, 10, 10,\n",
       "         10, 10, 10, 10, 10, 10, 10, 10, 10, 10, 10, 10, 10, 10, 10, 10, 10, 10,\n",
       "         10, 10, 10, 10, 10, 10, 10, 10, 10, 10, 10, 10, 10, 10, 10, 10, 10, 10,\n",
       "         10, 10, 10, 10, 10, 10, 10, 10, 10, 10, 10, 10, 10, 10, 10, 10, 10, 10,\n",
       "         10, 10, 10, 10, 10, 10, 10, 10, 10, 10, 10, 10, 10, 10, 10, 10, 10, 10,\n",
       "         10, 10, 10, 10, 10, 10, 10, 10, 10, 10, 10, 10, 10, 10, 10, 10, 10, 10,\n",
       "         10, 10, 10, 10, 10, 10, 10, 10, 10, 10, 10, 10, 10, 10, 10, 10, 10, 10,\n",
       "         10, 10, 10, 10, 10, 10, 10, 10, 10, 10, 10, 10, 10, 10, 10, 10, 10, 10,\n",
       "         10, 10, 10, 10, 10, 10, 10, 10, 10, 10, 10, 10, 10, 10, 10, 10, 10, 10,\n",
       "         10, 10, 10, 10, 10, 10, 10, 10, 10, 10, 10, 10, 10, 10, 10, 10]]), 'overflow_to_sample_mapping': tensor([[0, 0, 0, 0, 0, 0, 0, 0, 0, 0, 0, 0, 0, 0, 0, 0, 0, 0, 0, 0, 0, 0, 0, 0,\n",
       "         0, 0, 0, 0, 0, 0, 0, 0, 0, 0, 0, 0, 0, 0, 0, 0, 0, 0, 0, 0, 0, 0, 0, 0,\n",
       "         0, 0, 0, 0, 0, 0, 0, 0, 0, 0, 0, 0, 0, 0, 0, 0, 0, 0, 0, 0, 0, 0, 0, 0,\n",
       "         0, 0, 0, 0, 0, 0, 0, 0, 0, 0, 0, 0, 0, 0, 0, 0, 0, 0, 0, 0, 0, 0, 0, 0,\n",
       "         0, 0, 0, 0, 0, 0, 0, 0, 0, 0, 0, 0, 0, 0, 0, 0, 0, 0, 0, 0, 0, 0, 0, 0,\n",
       "         0, 0, 0, 0, 0, 0, 0, 0, 0, 0, 0, 0, 0, 0, 0, 0, 0, 0, 0, 0, 0, 0, 0, 0,\n",
       "         0, 0, 0, 0, 0, 0, 0, 0, 0, 0, 0, 0, 0, 0, 0, 0, 0, 0, 0, 0, 0, 0, 0, 0,\n",
       "         0, 0, 0, 0, 0, 0, 0, 0, 0, 0, 0, 0, 0, 0, 0, 0, 0, 0, 0, 0, 0, 0, 0, 0,\n",
       "         0, 0, 0, 0, 0, 0, 0, 0, 0, 0, 0, 0, 0, 0, 0, 0, 0, 0, 0, 0, 0, 0, 0, 0,\n",
       "         0, 0, 0, 0, 0, 0, 0, 0, 0, 0, 0, 0, 0, 0, 0, 0]]), 'labels': tensor([[[    1, 11414,    13,  ..., 24842,    13,  8315],\n",
       "         [    1,  5992,   293,  ...,  2184,  1104,  1048],\n",
       "         [    1,   268,  8644,  ..., 29531,  4491, 29533],\n",
       "         ...,\n",
       "         [    1, 23218,  4322,  ...,    13,   498, 29512],\n",
       "         [    1,  3309, 29554,  ..., 29520, 29544,  4833],\n",
       "         [ -100,  -100,  -100,  ...,     1, 29533,    13]]])}"
      ]
     },
     "execution_count": 37,
     "metadata": {},
     "output_type": "execute_result"
    }
   ],
   "source": [
    "sample"
   ]
  },
  {
   "cell_type": "code",
   "execution_count": 38,
   "metadata": {
    "colab": {
     "base_uri": "https://localhost:8080/"
    },
    "executionInfo": {
     "elapsed": 19,
     "status": "ok",
     "timestamp": 1748163849104,
     "user": {
      "displayName": "Paweł Żmudzki",
      "userId": "14388704116066394305"
     },
     "user_tz": -120
    },
    "id": "9l09TYJLCptq",
    "outputId": "3fb3b362-e6b8-41fc-f81f-1e01b5f423ed"
   },
   "outputs": [
    {
     "data": {
      "text/plain": [
       "torch.Size([232, 10])"
      ]
     },
     "execution_count": 38,
     "metadata": {},
     "output_type": "execute_result"
    }
   ],
   "source": [
    "sample['input_ids'][0].shape"
   ]
  },
  {
   "cell_type": "code",
   "execution_count": 39,
   "metadata": {
    "colab": {
     "base_uri": "https://localhost:8080/"
    },
    "executionInfo": {
     "elapsed": 6263,
     "status": "ok",
     "timestamp": 1748163868921,
     "user": {
      "displayName": "Paweł Żmudzki",
      "userId": "14388704116066394305"
     },
     "user_tz": -120
    },
    "id": "AWJ9p6SEBOKP",
    "outputId": "b1dd243e-a938-4ca1-97fb-4ca8dbb7f332"
   },
   "outputs": [
    {
     "name": "stdout",
     "output_type": "stream",
     "text": [
      "\n",
      "\n",
      "\n",
      "\n",
      "\n",
      "\n"
     ]
    }
   ],
   "source": [
    "outputs = llm(input_ids=sample['input_ids'][0], labels=sample['labels'][0])"
   ]
  },
  {
   "cell_type": "code",
   "execution_count": 40,
   "metadata": {
    "colab": {
     "base_uri": "https://localhost:8080/"
    },
    "executionInfo": {
     "elapsed": 72,
     "status": "ok",
     "timestamp": 1748163882133,
     "user": {
      "displayName": "Paweł Żmudzki",
      "userId": "14388704116066394305"
     },
     "user_tz": -120
    },
    "id": "VXTGA5ogE1-i",
    "outputId": "3d9c4495-5795-4a86-a15d-3a976e231698"
   },
   "outputs": [
    {
     "data": {
      "text/plain": [
       "CausalLMOutputWithPast(loss=tensor(10.4641, grad_fn=<NllLossBackward0>), logits=tensor([[[-0.8321, -0.0199, -0.2282,  ...,  0.0031, -0.5613,  0.3946],\n",
       "         [-1.2184,  0.1617,  0.0972,  ...,  0.0572, -0.9512, -0.0486],\n",
       "         [-1.2542,  0.5775, -0.1490,  ...,  0.2890, -1.2170, -0.2354],\n",
       "         ...,\n",
       "         [-0.4977,  0.0765, -0.1362,  ..., -0.1286, -0.6560,  0.3616],\n",
       "         [-0.3581, -0.1138,  0.1083,  ..., -0.1130, -1.0323,  0.5943],\n",
       "         [-0.5567,  0.0532, -0.0778,  ..., -0.0734, -1.1672,  0.4567]],\n",
       "\n",
       "        [[-0.8321, -0.0199, -0.2282,  ...,  0.0031, -0.5613,  0.3946],\n",
       "         [-0.9914, -0.1997, -0.2397,  ..., -0.4204, -0.9539,  0.4669],\n",
       "         [-0.9627, -0.4232, -0.5340,  ..., -0.4507, -0.6043,  0.6417],\n",
       "         ...,\n",
       "         [-0.8332, -0.2636, -1.2143,  ..., -0.6330, -0.8571,  0.9407],\n",
       "         [-0.7845, -0.5325, -1.4863,  ..., -0.5898, -1.0124,  1.2472],\n",
       "         [-1.2895, -0.7158, -1.2925,  ..., -0.6661, -1.1781,  0.8332]],\n",
       "\n",
       "        [[-0.8321, -0.0199, -0.2282,  ...,  0.0031, -0.5613,  0.3946],\n",
       "         [-0.9977, -0.3790, -0.7199,  ..., -0.3857, -0.5882, -0.3180],\n",
       "         [-1.5814, -0.6053, -0.6550,  ..., -0.4299, -0.3644,  0.1449],\n",
       "         ...,\n",
       "         [-1.1563, -0.2929, -0.2723,  ..., -0.5266,  0.3387,  0.6671],\n",
       "         [-1.4695, -0.0335, -0.6312,  ..., -0.5937, -0.2461,  0.3287],\n",
       "         [-1.5721,  0.1212, -0.2983,  ..., -0.3608, -0.4837,  0.5911]],\n",
       "\n",
       "        ...,\n",
       "\n",
       "        [[-0.8321, -0.0199, -0.2282,  ...,  0.0031, -0.5613,  0.3946],\n",
       "         [-0.4132, -0.1227, -0.3518,  ...,  0.0576, -0.5321,  0.4621],\n",
       "         [-0.1055,  0.1197, -0.5172,  ..., -0.0838, -0.3632,  0.6120],\n",
       "         ...,\n",
       "         [-0.4436, -0.0580,  0.0500,  ...,  0.1731, -0.8378,  0.5894],\n",
       "         [-0.3372, -0.3067, -0.2888,  ...,  0.6389, -0.7203,  0.9145],\n",
       "         [-0.5840, -0.1246,  0.0305,  ...,  0.4479, -0.7065,  0.6129]],\n",
       "\n",
       "        [[-0.8321, -0.0199, -0.2282,  ...,  0.0031, -0.5613,  0.3946],\n",
       "         [-1.1665,  0.0248, -0.2713,  ..., -0.0448, -0.5801,  0.0668],\n",
       "         [-1.1953,  0.4193, -0.2953,  ...,  0.2691, -0.4853, -0.0347],\n",
       "         ...,\n",
       "         [-1.0887,  0.2091, -0.7221,  ...,  0.8393, -0.0979, -0.2336],\n",
       "         [-1.1132, -0.2087, -0.7019,  ...,  0.9093, -0.3550,  0.1637],\n",
       "         [-0.9653,  0.0463, -0.5696,  ...,  0.9733, -0.2585,  0.1495]],\n",
       "\n",
       "        [[-0.1825,  0.3018, -0.2218,  ...,  0.3098, -0.4067, -0.0705],\n",
       "         [-0.1825,  0.3018, -0.2218,  ...,  0.3098, -0.4067, -0.0705],\n",
       "         [-0.1825,  0.3018, -0.2218,  ...,  0.3098, -0.4067, -0.0705],\n",
       "         ...,\n",
       "         [-0.1856,  0.4773, -0.3063,  ...,  0.2372, -0.4365, -0.0247],\n",
       "         [-0.1404,  0.4800, -0.3094,  ...,  0.1712, -0.4947, -0.0095],\n",
       "         [-0.1957,  0.6745, -0.2110,  ...,  0.3572, -0.5031,  0.0083]]],\n",
       "       grad_fn=<UnsafeViewBackward0>), past_key_values=None, hidden_states=None, attentions=None)"
      ]
     },
     "execution_count": 40,
     "metadata": {},
     "output_type": "execute_result"
    }
   ],
   "source": [
    "outputs"
   ]
  },
  {
   "cell_type": "code",
   "execution_count": 41,
   "metadata": {
    "colab": {
     "base_uri": "https://localhost:8080/"
    },
    "executionInfo": {
     "elapsed": 18,
     "status": "ok",
     "timestamp": 1748163886049,
     "user": {
      "displayName": "Paweł Żmudzki",
      "userId": "14388704116066394305"
     },
     "user_tz": -120
    },
    "id": "ITMLRXiUKnNW",
    "outputId": "29b4d6d9-2ce5-4678-83c2-1591c0a0ee68"
   },
   "outputs": [
    {
     "data": {
      "text/plain": [
       "torch.Size([232, 10, 32000])"
      ]
     },
     "execution_count": 41,
     "metadata": {},
     "output_type": "execute_result"
    }
   ],
   "source": [
    "outputs.logits.shape"
   ]
  },
  {
   "cell_type": "code",
   "execution_count": 42,
   "metadata": {
    "colab": {
     "base_uri": "https://localhost:8080/"
    },
    "executionInfo": {
     "elapsed": 29,
     "status": "ok",
     "timestamp": 1748163887821,
     "user": {
      "displayName": "Paweł Żmudzki",
      "userId": "14388704116066394305"
     },
     "user_tz": -120
    },
    "id": "Hdd5fR_xHpEc",
    "outputId": "4aeab2fe-bd4c-4575-f83b-883f5d98130e"
   },
   "outputs": [
    {
     "data": {
      "text/plain": [
       "tensor([15062,  1170, 15062, 31389, 25858, 25858, 25858,    36, 14988, 11240])"
      ]
     },
     "execution_count": 42,
     "metadata": {},
     "output_type": "execute_result"
    }
   ],
   "source": [
    "torch.argmax(F.softmax(outputs.logits[0], dim=-1), dim=-1)"
   ]
  },
  {
   "cell_type": "code",
   "execution_count": 43,
   "metadata": {
    "colab": {
     "base_uri": "https://localhost:8080/"
    },
    "executionInfo": {
     "elapsed": 69,
     "status": "ok",
     "timestamp": 1748163889014,
     "user": {
      "displayName": "Paweł Żmudzki",
      "userId": "14388704116066394305"
     },
     "user_tz": -120
    },
    "id": "7kN_PslwMZDw",
    "outputId": "ef4ddfbc-ec0b-4a0c-d76f-03964d4774fa"
   },
   "outputs": [
    {
     "data": {
      "text/plain": [
       "['\">\\r',\n",
       " 'allerg',\n",
       " 'butt',\n",
       " 'brightness',\n",
       " 'lication',\n",
       " '警',\n",
       " 'Arena',\n",
       " 'accounting',\n",
       " 'marketplace',\n",
       " 'Processor',\n",
       " 'arrass',\n",
       " 'latest',\n",
       " 'isible',\n",
       " 'Aven',\n",
       " 'ista',\n",
       " 'Κ',\n",
       " 'Avoid',\n",
       " 'grown',\n",
       " 'ritual',\n",
       " 'Range',\n",
       " 'phant',\n",
       " 'Browse',\n",
       " 'not',\n",
       " 'maintenance',\n",
       " 'comic',\n",
       " '介',\n",
       " 'ucl',\n",
       " 'sal',\n",
       " 'child',\n",
       " 'сі',\n",
       " 'ylv',\n",
       " 'ylv',\n",
       " 'TCP',\n",
       " 'Bre',\n",
       " 'arrass',\n",
       " 'pound',\n",
       " 'Fox',\n",
       " 'equipped',\n",
       " 'prophe',\n",
       " 'Depart',\n",
       " 'yond',\n",
       " 'δ',\n",
       " '__.',\n",
       " '搜',\n",
       " 'oke',\n",
       " 'thur',\n",
       " 'maintenance',\n",
       " 'financially',\n",
       " 'scandal',\n",
       " 'wait',\n",
       " 'achusetts',\n",
       " 'omitempty',\n",
       " '>#',\n",
       " '▀',\n",
       " 'regardless',\n",
       " 'Received',\n",
       " 'LIC',\n",
       " 'HD',\n",
       " 'asons',\n",
       " 'Interior',\n",
       " 'folk',\n",
       " 'severity',\n",
       " 'Chrome',\n",
       " 'application',\n",
       " 'decision',\n",
       " 'relationship',\n",
       " 'folk',\n",
       " '≥',\n",
       " 'pound',\n",
       " 'lication',\n",
       " 'ides',\n",
       " 'DH',\n",
       " 'accent',\n",
       " 'specializes',\n",
       " 'ienne',\n",
       " 'ic',\n",
       " 'Pa',\n",
       " 'planet',\n",
       " 'Sharp',\n",
       " 'activist',\n",
       " 'Aven',\n",
       " 'speakers',\n",
       " 'Swift',\n",
       " 'folk',\n",
       " 'Depart',\n",
       " 'specializes',\n",
       " 'Compare',\n",
       " 'brightness',\n",
       " 'accounting',\n",
       " 'crown',\n",
       " 'folk',\n",
       " 'financially',\n",
       " 'insulin',\n",
       " 'considerable',\n",
       " 'uniqu',\n",
       " 'magnitude',\n",
       " 'Riv',\n",
       " '青',\n",
       " 'supporting',\n",
       " 'inevitably',\n",
       " 'brands',\n",
       " 'professionalism',\n",
       " 'δ',\n",
       " 'ten',\n",
       " 'planet',\n",
       " 'rupted',\n",
       " 'aca',\n",
       " 'compute',\n",
       " 'butt',\n",
       " 'accounting',\n",
       " 'Av',\n",
       " 'nit',\n",
       " 'observer',\n",
       " 'Ober',\n",
       " 'Theater',\n",
       " 'brands',\n",
       " '\\'\"',\n",
       " 'longer',\n",
       " 'Colon',\n",
       " 'igible',\n",
       " 'ython',\n",
       " 'planet',\n",
       " '생',\n",
       " 'lication',\n",
       " 'IA',\n",
       " 'photographers',\n",
       " 'exhibited',\n",
       " 'storms',\n",
       " 'Vote',\n",
       " 'generous',\n",
       " 'financially',\n",
       " 'perty',\n",
       " '際',\n",
       " 'lynn',\n",
       " 'lynn',\n",
       " 'folk',\n",
       " 'genres',\n",
       " 'ние',\n",
       " 'Kil',\n",
       " 'ще',\n",
       " 'Exper',\n",
       " 'Received',\n",
       " 'Ober',\n",
       " 'asp',\n",
       " 'Points',\n",
       " 'safegu',\n",
       " 'uss',\n",
       " 'pudd',\n",
       " 'som',\n",
       " 'planet',\n",
       " 'handed',\n",
       " 'Es',\n",
       " 'feelings',\n",
       " 'Dem',\n",
       " '際',\n",
       " 'planet',\n",
       " 'texts',\n",
       " 'scandal',\n",
       " 'proport',\n",
       " 'mot',\n",
       " 'ienne',\n",
       " 'war',\n",
       " 'brightness',\n",
       " 'summar',\n",
       " 'lando',\n",
       " 'decision',\n",
       " '!',\n",
       " 'condition',\n",
       " 'bucks',\n",
       " 'Ok',\n",
       " 'accounting',\n",
       " 'generous',\n",
       " 'Collect',\n",
       " 'serves',\n",
       " 'aca',\n",
       " 'refresh',\n",
       " 'rapid',\n",
       " 'Morning',\n",
       " 'mathscr',\n",
       " '\\x02',\n",
       " 'icip',\n",
       " 'シ',\n",
       " 'financially',\n",
       " 'vine',\n",
       " 'agn',\n",
       " 'Document',\n",
       " '官',\n",
       " 'gie',\n",
       " 'Quest',\n",
       " 'Ware',\n",
       " 'Painting',\n",
       " 'reminis',\n",
       " 'Processor',\n",
       " 'ienne',\n",
       " 'diss',\n",
       " 'shoot',\n",
       " 'continued',\n",
       " 'Avoid',\n",
       " 'als',\n",
       " 'ns',\n",
       " 'submission',\n",
       " 'Promise',\n",
       " 'xton',\n",
       " 'displ',\n",
       " 'LA',\n",
       " 'scholars',\n",
       " 'achine',\n",
       " 'Processor',\n",
       " 'SQL',\n",
       " 'сі',\n",
       " 'Primary',\n",
       " 'pet',\n",
       " 'oka',\n",
       " 'Positive',\n",
       " 'createElement',\n",
       " 'テ',\n",
       " 'editions',\n",
       " 'move',\n",
       " 'beverages',\n",
       " 'serves',\n",
       " 'caster',\n",
       " 'routing',\n",
       " 'energies',\n",
       " 'Mode',\n",
       " 'raw',\n",
       " 'mot',\n",
       " 'fault',\n",
       " 'Fresh',\n",
       " 'accounting',\n",
       " 'lication',\n",
       " 'b',\n",
       " 'opens']"
      ]
     },
     "execution_count": 43,
     "metadata": {},
     "output_type": "execute_result"
    }
   ],
   "source": [
    "tokenizer.batch_decode(torch.argmax(F.softmax(outputs.logits[:, -1, :], dim=-1), dim=-1))"
   ]
  },
  {
   "cell_type": "code",
   "execution_count": 44,
   "metadata": {
    "executionInfo": {
     "elapsed": 4,
     "status": "ok",
     "timestamp": 1748163940982,
     "user": {
      "displayName": "Paweł Żmudzki",
      "userId": "14388704116066394305"
     },
     "user_tz": -120
    },
    "id": "7-y9XWB1OJGI"
   },
   "outputs": [],
   "source": [
    "def tokenize(item):\n",
    "    context_length = config.max_position_embeddings\n",
    "    outputs = tokenizer(\n",
    "        item['content'],\n",
    "        padding=True,\n",
    "        truncation=True,\n",
    "        max_length=context_length,\n",
    "        return_overflowing_tokens=True,\n",
    "        return_length=True,\n",
    "    )\n",
    "    input_batch = []\n",
    "    for length, input_ids in zip(outputs[\"length\"], outputs[\"input_ids\"]):\n",
    "        if length == context_length:\n",
    "            input_batch.append(input_ids)\n",
    "\n",
    "    return {\"input_ids\": input_batch}"
   ]
  },
  {
   "cell_type": "code",
   "execution_count": 45,
   "metadata": {
    "colab": {
     "base_uri": "https://localhost:8080/",
     "height": 182
    },
    "executionInfo": {
     "elapsed": 39,
     "status": "error",
     "timestamp": 1748163943324,
     "user": {
      "displayName": "Paweł Żmudzki",
      "userId": "14388704116066394305"
     },
     "user_tz": -120
    },
    "id": "iyx5qHPCQvS_",
    "outputId": "537aeed1-a9c7-4e1f-ba78-a509b532fd35"
   },
   "outputs": [],
   "source": [
    "tokenized_train_dataset = train_dataset.map(\n",
    "    tokenize, batched=True, remove_columns=train_dataset.column_names\n",
    ")"
   ]
  },
  {
   "cell_type": "code",
   "execution_count": 46,
   "metadata": {
    "id": "VdWTCti5WBII"
   },
   "outputs": [],
   "source": [
    "flush()"
   ]
  },
  {
   "cell_type": "markdown",
   "metadata": {
    "id": "wZJtxpH86T1M"
   },
   "source": [
    "## Training"
   ]
  },
  {
   "cell_type": "code",
   "execution_count": 48,
   "metadata": {},
   "outputs": [
    {
     "name": "stdout",
     "output_type": "stream",
     "text": [
      "Collecting tf-keras\n",
      "  Using cached tf_keras-2.19.0-py3-none-any.whl.metadata (1.8 kB)\n",
      "Requirement already satisfied: tensorflow<2.20,>=2.19 in c:\\users\\pz197\\appdata\\roaming\\python\\python312\\site-packages (from tf-keras) (2.19.0)\n",
      "Requirement already satisfied: absl-py>=1.0.0 in c:\\users\\pz197\\anaconda3\\envs\\ml\\lib\\site-packages (from tensorflow<2.20,>=2.19->tf-keras) (2.1.0)\n",
      "Requirement already satisfied: astunparse>=1.6.0 in c:\\users\\pz197\\anaconda3\\envs\\ml\\lib\\site-packages (from tensorflow<2.20,>=2.19->tf-keras) (1.6.3)\n",
      "Requirement already satisfied: flatbuffers>=24.3.25 in c:\\users\\pz197\\anaconda3\\envs\\ml\\lib\\site-packages (from tensorflow<2.20,>=2.19->tf-keras) (24.3.25)\n",
      "Requirement already satisfied: gast!=0.5.0,!=0.5.1,!=0.5.2,>=0.2.1 in c:\\users\\pz197\\anaconda3\\envs\\ml\\lib\\site-packages (from tensorflow<2.20,>=2.19->tf-keras) (0.6.0)\n",
      "Requirement already satisfied: google-pasta>=0.1.1 in c:\\users\\pz197\\anaconda3\\envs\\ml\\lib\\site-packages (from tensorflow<2.20,>=2.19->tf-keras) (0.2.0)\n",
      "Requirement already satisfied: libclang>=13.0.0 in c:\\users\\pz197\\anaconda3\\envs\\ml\\lib\\site-packages (from tensorflow<2.20,>=2.19->tf-keras) (18.1.1)\n",
      "Requirement already satisfied: opt-einsum>=2.3.2 in c:\\users\\pz197\\anaconda3\\envs\\ml\\lib\\site-packages (from tensorflow<2.20,>=2.19->tf-keras) (3.4.0)\n",
      "Requirement already satisfied: packaging in c:\\users\\pz197\\anaconda3\\envs\\ml\\lib\\site-packages (from tensorflow<2.20,>=2.19->tf-keras) (24.1)\n",
      "Requirement already satisfied: protobuf!=4.21.0,!=4.21.1,!=4.21.2,!=4.21.3,!=4.21.4,!=4.21.5,<6.0.0dev,>=3.20.3 in c:\\users\\pz197\\anaconda3\\envs\\ml\\lib\\site-packages (from tensorflow<2.20,>=2.19->tf-keras) (5.29.1)\n",
      "Requirement already satisfied: requests<3,>=2.21.0 in c:\\users\\pz197\\anaconda3\\envs\\ml\\lib\\site-packages (from tensorflow<2.20,>=2.19->tf-keras) (2.32.3)\n",
      "Requirement already satisfied: setuptools in c:\\users\\pz197\\anaconda3\\envs\\ml\\lib\\site-packages (from tensorflow<2.20,>=2.19->tf-keras) (75.1.0)\n",
      "Requirement already satisfied: six>=1.12.0 in c:\\users\\pz197\\anaconda3\\envs\\ml\\lib\\site-packages (from tensorflow<2.20,>=2.19->tf-keras) (1.16.0)\n",
      "Requirement already satisfied: termcolor>=1.1.0 in c:\\users\\pz197\\anaconda3\\envs\\ml\\lib\\site-packages (from tensorflow<2.20,>=2.19->tf-keras) (2.5.0)\n",
      "Requirement already satisfied: typing-extensions>=3.6.6 in c:\\users\\pz197\\anaconda3\\envs\\ml\\lib\\site-packages (from tensorflow<2.20,>=2.19->tf-keras) (4.11.0)\n",
      "Requirement already satisfied: wrapt>=1.11.0 in c:\\users\\pz197\\anaconda3\\envs\\ml\\lib\\site-packages (from tensorflow<2.20,>=2.19->tf-keras) (1.17.0)\n",
      "Requirement already satisfied: grpcio<2.0,>=1.24.3 in c:\\users\\pz197\\anaconda3\\envs\\ml\\lib\\site-packages (from tensorflow<2.20,>=2.19->tf-keras) (1.68.1)\n",
      "Requirement already satisfied: tensorboard~=2.19.0 in c:\\users\\pz197\\anaconda3\\envs\\ml\\lib\\site-packages (from tensorflow<2.20,>=2.19->tf-keras) (2.19.0)\n",
      "Requirement already satisfied: keras>=3.5.0 in c:\\users\\pz197\\anaconda3\\envs\\ml\\lib\\site-packages (from tensorflow<2.20,>=2.19->tf-keras) (3.7.0)\n",
      "Requirement already satisfied: numpy<2.2.0,>=1.26.0 in c:\\users\\pz197\\anaconda3\\envs\\ml\\lib\\site-packages (from tensorflow<2.20,>=2.19->tf-keras) (2.0.2)\n",
      "Requirement already satisfied: h5py>=3.11.0 in c:\\users\\pz197\\anaconda3\\envs\\ml\\lib\\site-packages (from tensorflow<2.20,>=2.19->tf-keras) (3.12.1)\n",
      "Requirement already satisfied: ml-dtypes<1.0.0,>=0.5.1 in c:\\users\\pz197\\anaconda3\\envs\\ml\\lib\\site-packages (from tensorflow<2.20,>=2.19->tf-keras) (0.5.1)\n",
      "Requirement already satisfied: wheel<1.0,>=0.23.0 in c:\\users\\pz197\\anaconda3\\envs\\ml\\lib\\site-packages (from astunparse>=1.6.0->tensorflow<2.20,>=2.19->tf-keras) (0.44.0)\n",
      "Requirement already satisfied: rich in c:\\users\\pz197\\anaconda3\\envs\\ml\\lib\\site-packages (from keras>=3.5.0->tensorflow<2.20,>=2.19->tf-keras) (13.9.4)\n",
      "Requirement already satisfied: namex in c:\\users\\pz197\\anaconda3\\envs\\ml\\lib\\site-packages (from keras>=3.5.0->tensorflow<2.20,>=2.19->tf-keras) (0.0.8)\n",
      "Requirement already satisfied: optree in c:\\users\\pz197\\anaconda3\\envs\\ml\\lib\\site-packages (from keras>=3.5.0->tensorflow<2.20,>=2.19->tf-keras) (0.13.1)\n",
      "Requirement already satisfied: charset-normalizer<4,>=2 in c:\\users\\pz197\\anaconda3\\envs\\ml\\lib\\site-packages (from requests<3,>=2.21.0->tensorflow<2.20,>=2.19->tf-keras) (3.3.2)\n",
      "Requirement already satisfied: idna<4,>=2.5 in c:\\users\\pz197\\anaconda3\\envs\\ml\\lib\\site-packages (from requests<3,>=2.21.0->tensorflow<2.20,>=2.19->tf-keras) (3.7)\n",
      "Requirement already satisfied: urllib3<3,>=1.21.1 in c:\\users\\pz197\\anaconda3\\envs\\ml\\lib\\site-packages (from requests<3,>=2.21.0->tensorflow<2.20,>=2.19->tf-keras) (2.2.3)\n",
      "Requirement already satisfied: certifi>=2017.4.17 in c:\\users\\pz197\\anaconda3\\envs\\ml\\lib\\site-packages (from requests<3,>=2.21.0->tensorflow<2.20,>=2.19->tf-keras) (2024.8.30)\n",
      "Requirement already satisfied: markdown>=2.6.8 in c:\\users\\pz197\\anaconda3\\envs\\ml\\lib\\site-packages (from tensorboard~=2.19.0->tensorflow<2.20,>=2.19->tf-keras) (3.7)\n",
      "Requirement already satisfied: tensorboard-data-server<0.8.0,>=0.7.0 in c:\\users\\pz197\\anaconda3\\envs\\ml\\lib\\site-packages (from tensorboard~=2.19.0->tensorflow<2.20,>=2.19->tf-keras) (0.7.2)\n",
      "Requirement already satisfied: werkzeug>=1.0.1 in c:\\users\\pz197\\anaconda3\\envs\\ml\\lib\\site-packages (from tensorboard~=2.19.0->tensorflow<2.20,>=2.19->tf-keras) (3.1.3)\n",
      "Requirement already satisfied: MarkupSafe>=2.1.1 in c:\\users\\pz197\\anaconda3\\envs\\ml\\lib\\site-packages (from werkzeug>=1.0.1->tensorboard~=2.19.0->tensorflow<2.20,>=2.19->tf-keras) (2.1.3)\n",
      "Requirement already satisfied: markdown-it-py>=2.2.0 in c:\\users\\pz197\\anaconda3\\envs\\ml\\lib\\site-packages (from rich->keras>=3.5.0->tensorflow<2.20,>=2.19->tf-keras) (3.0.0)\n",
      "Requirement already satisfied: pygments<3.0.0,>=2.13.0 in c:\\users\\pz197\\anaconda3\\envs\\ml\\lib\\site-packages (from rich->keras>=3.5.0->tensorflow<2.20,>=2.19->tf-keras) (2.15.1)\n",
      "Requirement already satisfied: mdurl~=0.1 in c:\\users\\pz197\\anaconda3\\envs\\ml\\lib\\site-packages (from markdown-it-py>=2.2.0->rich->keras>=3.5.0->tensorflow<2.20,>=2.19->tf-keras) (0.1.2)\n",
      "Using cached tf_keras-2.19.0-py3-none-any.whl (1.7 MB)\n",
      "Installing collected packages: tf-keras\n",
      "Successfully installed tf-keras-2.19.0\n",
      "Note: you may need to restart the kernel to use updated packages.\n"
     ]
    }
   ],
   "source": [
    "pip install tf-keras"
   ]
  },
  {
   "cell_type": "code",
   "execution_count": 49,
   "metadata": {
    "id": "A3Ik3FsQNRh1"
   },
   "outputs": [
    {
     "name": "stdout",
     "output_type": "stream",
     "text": [
      "WARNING:tensorflow:From C:\\Users\\pz197\\anaconda3\\envs\\ml\\Lib\\site-packages\\tf_keras\\src\\losses.py:2976: The name tf.losses.sparse_softmax_cross_entropy is deprecated. Please use tf.compat.v1.losses.sparse_softmax_cross_entropy instead.\n",
      "\n"
     ]
    }
   ],
   "source": [
    "from transformers import TrainingArguments, Trainer\n",
    "\n",
    "args = TrainingArguments(\n",
    "    \"./babyLlama\",\n",
    "    per_device_train_batch_size=32,\n",
    "    max_steps=10, #20000\n",
    "    # num_train_epochs=2,\n",
    "    logging_steps=10,\n",
    "    gradient_accumulation_steps=2,\n",
    "    weight_decay=0.1,\n",
    "    warmup_steps= 1_000,\n",
    "    lr_scheduler_type=\"cosine\",\n",
    "    learning_rate=5e-4,\n",
    "    # save_steps=500,\n",
    "    fp16=True,\n",
    "    push_to_hub=False,\n",
    ")"
   ]
  },
  {
   "cell_type": "code",
   "execution_count": 50,
   "metadata": {
    "id": "lAlbvx8-OITv"
   },
   "outputs": [
    {
     "name": "stderr",
     "output_type": "stream",
     "text": [
      "C:\\Users\\pz197\\AppData\\Local\\Temp\\ipykernel_4132\\306093295.py:1: FutureWarning: `tokenizer` is deprecated and will be removed in version 5.0.0 for `Trainer.__init__`. Use `processing_class` instead.\n",
      "  trainer = Trainer(\n"
     ]
    }
   ],
   "source": [
    "trainer = Trainer(\n",
    "    model=llm,\n",
    "    tokenizer=tokenizer,\n",
    "    args=args,\n",
    "    data_collator=data_collator,\n",
    "    train_dataset=tokenized_train_dataset\n",
    ")"
   ]
  },
  {
   "cell_type": "code",
   "execution_count": 51,
   "metadata": {
    "colab": {
     "base_uri": "https://localhost:8080/",
     "height": 1000
    },
    "executionInfo": {
     "elapsed": 2349585,
     "status": "error",
     "timestamp": 1710102478547,
     "user": {
      "displayName": "Prince Canuma",
      "userId": "03959387570197932913"
     },
     "user_tz": -60
    },
    "id": "MJSfGx2I2Io6",
    "outputId": "db452b06-796f-4be0-e753-8772db59ece2"
   },
   "outputs": [
    {
     "name": "stdout",
     "output_type": "stream",
     "text": [
      "\n",
      "\n",
      "\n",
      "\n",
      "\n",
      "\n",
      "\n",
      "\n",
      "\n",
      "\n",
      "\n",
      "\n"
     ]
    },
    {
     "data": {
      "text/html": [
       "\n",
       "    <div>\n",
       "      \n",
       "      <progress value='10' max='10' style='width:300px; height:20px; vertical-align: middle;'></progress>\n",
       "      [10/10 1:36:15, Epoch 0/1]\n",
       "    </div>\n",
       "    <table border=\"1\" class=\"dataframe\">\n",
       "  <thead>\n",
       " <tr style=\"text-align: left;\">\n",
       "      <th>Step</th>\n",
       "      <th>Training Loss</th>\n",
       "    </tr>\n",
       "  </thead>\n",
       "  <tbody>\n",
       "    <tr>\n",
       "      <td>10</td>\n",
       "      <td>10.451000</td>\n",
       "    </tr>\n",
       "  </tbody>\n",
       "</table><p>"
      ],
      "text/plain": [
       "<IPython.core.display.HTML object>"
      ]
     },
     "metadata": {},
     "output_type": "display_data"
    },
    {
     "name": "stdout",
     "output_type": "stream",
     "text": [
      "\n",
      "\n",
      "\n",
      "\n",
      "\n",
      "\n",
      "\n",
      "\n",
      "\n",
      "\n",
      "\n",
      "\n",
      "\n",
      "\n",
      "\n",
      "\n",
      "\n",
      "\n",
      "\n",
      "\n",
      "\n",
      "\n",
      "\n",
      "\n",
      "\n",
      "\n",
      "\n",
      "\n",
      "\n",
      "\n",
      "\n",
      "\n",
      "\n",
      "\n",
      "\n",
      "\n",
      "\n",
      "\n",
      "\n",
      "\n",
      "\n",
      "\n",
      "\n",
      "\n",
      "\n",
      "\n",
      "\n",
      "\n",
      "\n",
      "\n",
      "\n",
      "\n",
      "\n",
      "\n",
      "\n",
      "\n",
      "\n",
      "\n",
      "\n",
      "\n",
      "\n",
      "\n",
      "\n",
      "\n",
      "\n",
      "\n",
      "\n",
      "\n",
      "\n",
      "\n",
      "\n",
      "\n",
      "\n",
      "\n",
      "\n",
      "\n",
      "\n",
      "\n",
      "\n",
      "\n",
      "\n",
      "\n",
      "\n",
      "\n",
      "\n",
      "\n",
      "\n",
      "\n",
      "\n",
      "\n",
      "\n",
      "\n",
      "\n",
      "\n",
      "\n",
      "\n",
      "\n",
      "\n",
      "\n",
      "\n",
      "\n",
      "\n",
      "\n",
      "\n",
      "\n",
      "\n",
      "\n",
      "\n"
     ]
    },
    {
     "data": {
      "text/plain": [
       "TrainOutput(global_step=10, training_loss=10.450957489013671, metrics={'train_runtime': 6390.1674, 'train_samples_per_second': 0.1, 'train_steps_per_second': 0.002, 'total_flos': 666238011310080.0, 'train_loss': 10.450957489013671, 'epoch': 0.03898635477582846})"
      ]
     },
     "execution_count": 51,
     "metadata": {},
     "output_type": "execute_result"
    }
   ],
   "source": [
    "trainer.train()"
   ]
  },
  {
   "cell_type": "code",
   "execution_count": 52,
   "metadata": {
    "id": "AFoG7j-QvfUu"
   },
   "outputs": [],
   "source": [
    "#tokenizer = AutoTokenizer.from_pretrained(\"meta-llama/Llama-2-7b-chat-hf\")\n",
    "\n",
    "tokenizer = AutoTokenizer.from_pretrained(\"openlm-research/open_llama_3b_v2\")\n"
   ]
  },
  {
   "cell_type": "code",
   "execution_count": 53,
   "metadata": {
    "id": "Znrrre8Gwoye"
   },
   "outputs": [],
   "source": [
    "tokenizer.pad_token = tokenizer.eos_token"
   ]
  },
  {
   "cell_type": "code",
   "execution_count": 55,
   "metadata": {
    "colab": {
     "base_uri": "https://localhost:8080/"
    },
    "executionInfo": {
     "elapsed": 409,
     "status": "ok",
     "timestamp": 1710104610977,
     "user": {
      "displayName": "Prince Canuma",
      "userId": "03959387570197932913"
     },
     "user_tz": -60
    },
    "id": "LLF-U1m6E_Oq",
    "outputId": "c01f61e4-e99c-4f36-b8f7-bd830bb88000"
   },
   "outputs": [
    {
     "name": "stdout",
     "output_type": "stream",
     "text": [
      "\n",
      "\n",
      "\n",
      "\n",
      "\n",
      "\n",
      "\n",
      "\n",
      "\n",
      "\n",
      "\n",
      "\n",
      "\n",
      "\n",
      "\n",
      "\n",
      "\n",
      "\n",
      "\n",
      "\n",
      "\n",
      "\n",
      "\n",
      "\n",
      "\n",
      "\n",
      "\n",
      "\n",
      "\n",
      "\n",
      "\n",
      "\n",
      "\n",
      "\n",
      "\n",
      "\n",
      "\n",
      "\n",
      "\n",
      "\n",
      "\n",
      "\n",
      "\n",
      "\n",
      "\n",
      "\n",
      "\n",
      "\n",
      "\n",
      "\n",
      "\n",
      "\n",
      "\n",
      "\n",
      "\n",
      "\n",
      "\n",
      "\n",
      "\n",
      "\n"
     ]
    }
   ],
   "source": [
    "tokens = tokenizer(\n",
    "    \"import numpy\",\n",
    "    return_tensors='pt'\n",
    ")#.to('cuda')\n",
    "input_ids = tokens['input_ids']\n",
    "\n",
    "temperature = 1\n",
    "top_k = None\n",
    "top_p = None\n",
    "\n",
    "# Generate the tokens one by one\n",
    "for _ in range(10):\n",
    "    # Get the logits from the model\n",
    "    outputs = llm(input_ids)\n",
    "    logits = outputs.logits[:, -1, :]\n",
    "\n",
    "    # Apply temperature scaling\n",
    "    logits = logits / temperature\n",
    "\n",
    "    # Apply top-k or top-p sampling if specified\n",
    "    if top_k is not None:\n",
    "        logits = logits.topk(top_k, dim=-1)[0]\n",
    "    elif top_p is not None:\n",
    "        sorted_logits, sorted_indices = torch.sort(logits, descending=True)\n",
    "        cumulative_probs = torch.cumsum(F.softmax(sorted_logits, dim=-1), dim=-1)\n",
    "        sorted_indices_to_remove = cumulative_probs > top_p\n",
    "        sorted_indices_to_remove[:, 1:] = sorted_indices_to_remove[:, :-1].clone()\n",
    "        sorted_indices_to_remove[:, 0] = 0\n",
    "        indices_to_remove = sorted_indices_to_remove.scatter(1, sorted_indices, sorted_indices_to_remove)\n",
    "        logits = logits.masked_fill(indices_to_remove, -float('inf'))\n",
    "\n",
    "    # Sample the next token from the logits\n",
    "    next_token_id = torch.multinomial(F.softmax(logits, dim=-1), num_samples=1)\n",
    "\n",
    "    # Update the input with the new token\n",
    "    input_ids = torch.cat([input_ids, next_token_id], dim=-1)\n",
    "\n",
    "# Decode the generated text\n",
    "generated_text = tokenizer.decode(input_ids[0], skip_special_tokens=True)\n"
   ]
  },
  {
   "cell_type": "code",
   "execution_count": 56,
   "metadata": {
    "colab": {
     "base_uri": "https://localhost:8080/",
     "height": 35
    },
    "executionInfo": {
     "elapsed": 422,
     "status": "ok",
     "timestamp": 1710104544048,
     "user": {
      "displayName": "Prince Canuma",
      "userId": "03959387570197932913"
     },
     "user_tz": -60
    },
    "id": "7pwPUlggLHR5",
    "outputId": "7248401c-e74b-445d-c364-795c0ec772db"
   },
   "outputs": [
    {
     "data": {
      "text/plain": [
       "'BabyLlama size: 117.48M parameters'"
      ]
     },
     "execution_count": 56,
     "metadata": {},
     "output_type": "execute_result"
    }
   ],
   "source": [
    "count_parameters(llm)"
   ]
  },
  {
   "cell_type": "code",
   "execution_count": 57,
   "metadata": {
    "colab": {
     "base_uri": "https://localhost:8080/"
    },
    "executionInfo": {
     "elapsed": 528,
     "status": "ok",
     "timestamp": 1710104615804,
     "user": {
      "displayName": "Prince Canuma",
      "userId": "03959387570197932913"
     },
     "user_tz": -60
    },
    "id": "3C8CWKQBGhCN",
    "outputId": "cc5d058a-ce65-4dfc-8fe8-c14b9f0baaed"
   },
   "outputs": [
    {
     "name": "stdout",
     "output_type": "stream",
     "text": [
      "import numpy Job ter Batterylibraryativity remarkableAHMonCollect ACTION\n"
     ]
    }
   ],
   "source": [
    "print(generated_text)"
   ]
  },
  {
   "cell_type": "code",
   "execution_count": 59,
   "metadata": {
    "colab": {
     "base_uri": "https://localhost:8080/",
     "height": 263,
     "referenced_widgets": [
      "a0cf08c06eff43aeba754b7b3620e1b0",
      "1c88696e222b4ad2bdfdb426c3413a52",
      "e7e175726dd84a34b87adf3e0a8d6589",
      "7ac6a2481d684e76a7b3f0680921f36f",
      "3f2b1d60871e40f5ad3e3c4f2c6ea5cb",
      "bad2c46ba079437ba749e797a731668e",
      "6c42a9b0a13448d5802d33aa6fb322ee",
      "5e102b9d4fb2427d917ec81df07e36d2",
      "d92aa99340974a0aad6eb2a150795df7",
      "2af69cd4547043bbbba2368e812b2a13",
      "b2f39cf1e6734909ac4ca3f7acc80abc",
      "fa5b58d99b894f44a173159f3d593d38",
      "b354a319de8546c29b0d940f42b559d3",
      "9ee96c6b2e2c49f983caa72d9761a1ad",
      "3413638c840f4309adef4b24366834e0",
      "41479a53f99648f69b03b0903424310d",
      "7ae12c31352a4e828fa7fdaba052dbed",
      "f7b403792cb44835a0aeeb1e656175df",
      "22080dcbae6a4ef4b4935b3c5804b24e",
      "26cb9910e02d4fcea4e2ed3f3627db1c",
      "03000ab275514c08ab652bb466b74055",
      "4463e51a986440d4bf3a268b021cda91",
      "7bb128b0ffa94dccb769d2d5437d6dab",
      "0a9574a08f074204b7ca3de855b08150",
      "1eca531dcd63435db110ffda015516c5",
      "c2f31443295344bc8180b28b1483c26f",
      "07001192749d41b0abd6d748bbaf3cd9",
      "98feee5406c048b6949aa2c58b791d15",
      "dad76e27a1224dd6ac34214d5cf18fdd",
      "8769473aee0e40538bc39d42d2cf56b6",
      "14c36749d17c4eb59f691afc89a8d999",
      "34bab208d91645b8b5c063c3056d443f",
      "a031113f764e47fa881798edeabea5b8",
      "5e38ace609f64b15bcfce806ee3065dc",
      "d8f9b64f268544d5bafa46074c2ff35a",
      "cbc482bad7af48f397cddf558e9257ee",
      "21adffcfff844f30a5b0de5acd29d17a",
      "b0e71efba7654971bb83e09028f4dcc9",
      "7d321aeffb814d92b4646954ad409c99",
      "4262eed1c0c14edd9cc11770859e6c0c",
      "e11e7fc2d58a44e5950898643bbed894",
      "c661c7f9ce274db3a6c6c0699d6d4b42",
      "f0c37304c96e400e91c56f808de412af",
      "68c07fdfb2294f7583d41c76b3b6d011",
      "b4487bf76f2742c08eba0b1105e30661",
      "c9bf036ffe14460a8411bea639931bad",
      "f95158765b774889978b0ce0e9086dc8",
      "0e34c1d9ccd043f3890a97fedb5dec10",
      "fea5c026977144a38db95f1159fb4573",
      "1e9b545e32af43e0af906b3bcf01b576",
      "1d2559f40fbd4a308bcbdc290844445a",
      "78fd4028057e46668c1735b194e32404",
      "cf74a1ab85034f53b37c3e9a9d6d0d83",
      "7305b0cde6dd487d8350914c2d28d2c4",
      "e0b5f7dd4d6448eb89fdee49324ebccf",
      "d630025881c44bf0bef2bc895f71a6e3",
      "d316e691c15c447e8a44236cce60456c",
      "1b245d7b64014a26bec5cabc98e6dc3e",
      "c2a8f5b18b884ebea554fd111663e4ea",
      "24660e8628ba48cab9d04624cdbed1e6",
      "ce268b5dd5024202bdd5c3b75a35cb61",
      "c9d754ef987847e0b237f3999be97646",
      "a6f80a5de7a14ebbbad996005be6b41a",
      "58fd99b27ef648f0a42f93244a41e72b",
      "c238b4e00a9b458a8b6f32237fae7a88",
      "338f82f3d49541d7ae9e2c9c8d72708e"
     ]
    },
    "executionInfo": {
     "elapsed": 41985,
     "status": "ok",
     "timestamp": 1710105356942,
     "user": {
      "displayName": "Prince Canuma",
      "userId": "03959387570197932913"
     },
     "user_tz": -60
    },
    "id": "F86zgF2uGXIV",
    "outputId": "aad29a0e-810a-46e4-bd34-37c46cd9e568"
   },
   "outputs": [
    {
     "data": {
      "application/vnd.jupyter.widget-view+json": {
       "model_id": "7f43159fcc0f4739858eb8f9b2b30b26",
       "version_major": 2,
       "version_minor": 0
      },
      "text/plain": [
       "events.out.tfevents.1748179885.MSI.24948.0:   0%|          | 0.00/9.71k [00:00<?, ?B/s]"
      ]
     },
     "metadata": {},
     "output_type": "display_data"
    },
    {
     "data": {
      "application/vnd.jupyter.widget-view+json": {
       "model_id": "428a6aa306024cc7b6c45c6c24aefdea",
       "version_major": 2,
       "version_minor": 0
      },
      "text/plain": [
       "model.safetensors:   0%|          | 0.00/470M [00:00<?, ?B/s]"
      ]
     },
     "metadata": {},
     "output_type": "display_data"
    },
    {
     "data": {
      "application/vnd.jupyter.widget-view+json": {
       "model_id": "b0336bc0df804d1fa3fef7aaf22cbf22",
       "version_major": 2,
       "version_minor": 0
      },
      "text/plain": [
       "events.out.tfevents.1748168188.MSI.24468.0:   0%|          | 0.00/5.09k [00:00<?, ?B/s]"
      ]
     },
     "metadata": {},
     "output_type": "display_data"
    },
    {
     "data": {
      "application/vnd.jupyter.widget-view+json": {
       "model_id": "ef5a9945c5cb43459dcc7a133f5bf7a2",
       "version_major": 2,
       "version_minor": 0
      },
      "text/plain": [
       "events.out.tfevents.1748634594.Lenovo-Legion.4132.0:   0%|          | 0.00/5.43k [00:00<?, ?B/s]"
      ]
     },
     "metadata": {},
     "output_type": "display_data"
    },
    {
     "data": {
      "application/vnd.jupyter.widget-view+json": {
       "model_id": "9b905724dc4c4e37bf278954921e9495",
       "version_major": 2,
       "version_minor": 0
      },
      "text/plain": [
       "tokenizer.model:   0%|          | 0.00/512k [00:00<?, ?B/s]"
      ]
     },
     "metadata": {},
     "output_type": "display_data"
    },
    {
     "data": {
      "application/vnd.jupyter.widget-view+json": {
       "model_id": "46304a97bfc64f8ebf1b908604b04f9b",
       "version_major": 2,
       "version_minor": 0
      },
      "text/plain": [
       "Upload 6 LFS files:   0%|          | 0/6 [00:00<?, ?it/s]"
      ]
     },
     "metadata": {},
     "output_type": "display_data"
    },
    {
     "data": {
      "application/vnd.jupyter.widget-view+json": {
       "model_id": "f9f86ffea8eb4d1f90ab30fb119117f1",
       "version_major": 2,
       "version_minor": 0
      },
      "text/plain": [
       "training_args.bin:   0%|          | 0.00/5.30k [00:00<?, ?B/s]"
      ]
     },
     "metadata": {},
     "output_type": "display_data"
    },
    {
     "data": {
      "text/plain": [
       "CommitInfo(commit_url='https://huggingface.co/pawelzm/babyLlama/commit/048e54c04103fb27062aa02114811e4a4a757d4c', commit_message='End of training', commit_description='', oid='048e54c04103fb27062aa02114811e4a4a757d4c', pr_url=None, repo_url=RepoUrl('https://huggingface.co/pawelzm/babyLlama', endpoint='https://huggingface.co', repo_type='model', repo_id='pawelzm/babyLlama'), pr_revision=None, pr_num=None)"
      ]
     },
     "execution_count": 59,
     "metadata": {},
     "output_type": "execute_result"
    }
   ],
   "source": [
    "trainer.push_to_hub()"
   ]
  },
  {
   "cell_type": "markdown",
   "metadata": {
    "id": "482grkC5PzeF"
   },
   "source": [
    "## Register Config and Model to HF Auto Class\n",
    "\n",
    "If your model is very similar to a model inside the library, you can re-use the same configuration as this model."
   ]
  },
  {
   "cell_type": "code",
   "execution_count": 60,
   "metadata": {
    "id": "ykM2oWchOELR"
   },
   "outputs": [],
   "source": [
    "from transformers import CONFIG_MAPPING, MODEL_MAPPING\n",
    "\n",
    "# Zarejestruj własny config pod unikalnym typem\n",
    "CONFIG_MAPPING.register(\"baby-llama\", BabyLlamaConfig)\n",
    "# Zmapuj config na własny model\n",
    "MODEL_MAPPING.register(BabyLlamaConfig, BabyLlamaModel)\n"
   ]
  },
  {
   "cell_type": "code",
   "execution_count": null,
   "metadata": {},
   "outputs": [],
   "source": []
  }
 ],
 "metadata": {
  "accelerator": "GPU",
  "colab": {
   "gpuType": "T4",
   "provenance": [
    {
     "file_id": "12QKBF8d0-cOovf3s7zDK-yMh08f5q2eG",
     "timestamp": 1748118111408
    }
   ]
  },
  "kernelspec": {
   "display_name": "Python 3 (ipykernel)",
   "language": "python",
   "name": "python3"
  },
  "language_info": {
   "codemirror_mode": {
    "name": "ipython",
    "version": 3
   },
   "file_extension": ".py",
   "mimetype": "text/x-python",
   "name": "python",
   "nbconvert_exporter": "python",
   "pygments_lexer": "ipython3",
   "version": "3.12.7"
  },
  "widgets": {
   "application/vnd.jupyter.widget-state+json": {
    "013def97a70846dca85a92e7f0ff1e1c": {
     "model_module": "@jupyter-widgets/controls",
     "model_module_version": "1.5.0",
     "model_name": "DescriptionStyleModel",
     "state": {
      "_model_module": "@jupyter-widgets/controls",
      "_model_module_version": "1.5.0",
      "_model_name": "DescriptionStyleModel",
      "_view_count": null,
      "_view_module": "@jupyter-widgets/base",
      "_view_module_version": "1.2.0",
      "_view_name": "StyleView",
      "description_width": ""
     }
    },
    "02cc52ce26814dffb508b941bc130390": {
     "model_module": "@jupyter-widgets/controls",
     "model_module_version": "1.5.0",
     "model_name": "DescriptionStyleModel",
     "state": {
      "_model_module": "@jupyter-widgets/controls",
      "_model_module_version": "1.5.0",
      "_model_name": "DescriptionStyleModel",
      "_view_count": null,
      "_view_module": "@jupyter-widgets/base",
      "_view_module_version": "1.2.0",
      "_view_name": "StyleView",
      "description_width": ""
     }
    },
    "03000ab275514c08ab652bb466b74055": {
     "model_module": "@jupyter-widgets/base",
     "model_module_version": "1.2.0",
     "model_name": "LayoutModel",
     "state": {
      "_model_module": "@jupyter-widgets/base",
      "_model_module_version": "1.2.0",
      "_model_name": "LayoutModel",
      "_view_count": null,
      "_view_module": "@jupyter-widgets/base",
      "_view_module_version": "1.2.0",
      "_view_name": "LayoutView",
      "align_content": null,
      "align_items": null,
      "align_self": null,
      "border": null,
      "bottom": null,
      "display": null,
      "flex": null,
      "flex_flow": null,
      "grid_area": null,
      "grid_auto_columns": null,
      "grid_auto_flow": null,
      "grid_auto_rows": null,
      "grid_column": null,
      "grid_gap": null,
      "grid_row": null,
      "grid_template_areas": null,
      "grid_template_columns": null,
      "grid_template_rows": null,
      "height": null,
      "justify_content": null,
      "justify_items": null,
      "left": null,
      "margin": null,
      "max_height": null,
      "max_width": null,
      "min_height": null,
      "min_width": null,
      "object_fit": null,
      "object_position": null,
      "order": null,
      "overflow": null,
      "overflow_x": null,
      "overflow_y": null,
      "padding": null,
      "right": null,
      "top": null,
      "visibility": null,
      "width": null
     }
    },
    "03c39e7c37d849fca3ee7b063c9d8206": {
     "model_module": "@jupyter-widgets/controls",
     "model_module_version": "1.5.0",
     "model_name": "CheckboxModel",
     "state": {
      "_dom_classes": [],
      "_model_module": "@jupyter-widgets/controls",
      "_model_module_version": "1.5.0",
      "_model_name": "CheckboxModel",
      "_view_count": null,
      "_view_module": "@jupyter-widgets/controls",
      "_view_module_version": "1.5.0",
      "_view_name": "CheckboxView",
      "description": "Add token as git credential?",
      "description_tooltip": null,
      "disabled": false,
      "indent": true,
      "layout": "IPY_MODEL_806df11519e1403780a43708018915df",
      "style": "IPY_MODEL_bf238fb64da24113a038959bf541b661",
      "value": false
     }
    },
    "07001192749d41b0abd6d748bbaf3cd9": {
     "model_module": "@jupyter-widgets/base",
     "model_module_version": "1.2.0",
     "model_name": "LayoutModel",
     "state": {
      "_model_module": "@jupyter-widgets/base",
      "_model_module_version": "1.2.0",
      "_model_name": "LayoutModel",
      "_view_count": null,
      "_view_module": "@jupyter-widgets/base",
      "_view_module_version": "1.2.0",
      "_view_name": "LayoutView",
      "align_content": null,
      "align_items": null,
      "align_self": null,
      "border": null,
      "bottom": null,
      "display": null,
      "flex": null,
      "flex_flow": null,
      "grid_area": null,
      "grid_auto_columns": null,
      "grid_auto_flow": null,
      "grid_auto_rows": null,
      "grid_column": null,
      "grid_gap": null,
      "grid_row": null,
      "grid_template_areas": null,
      "grid_template_columns": null,
      "grid_template_rows": null,
      "height": null,
      "justify_content": null,
      "justify_items": null,
      "left": null,
      "margin": null,
      "max_height": null,
      "max_width": null,
      "min_height": null,
      "min_width": null,
      "object_fit": null,
      "object_position": null,
      "order": null,
      "overflow": null,
      "overflow_x": null,
      "overflow_y": null,
      "padding": null,
      "right": null,
      "top": null,
      "visibility": null,
      "width": null
     }
    },
    "08deb70a1e5543ec91794d69bb2acb82": {
     "model_module": "@jupyter-widgets/controls",
     "model_module_version": "1.5.0",
     "model_name": "DescriptionStyleModel",
     "state": {
      "_model_module": "@jupyter-widgets/controls",
      "_model_module_version": "1.5.0",
      "_model_name": "DescriptionStyleModel",
      "_view_count": null,
      "_view_module": "@jupyter-widgets/base",
      "_view_module_version": "1.2.0",
      "_view_name": "StyleView",
      "description_width": ""
     }
    },
    "0a9574a08f074204b7ca3de855b08150": {
     "model_module": "@jupyter-widgets/controls",
     "model_module_version": "1.5.0",
     "model_name": "HTMLModel",
     "state": {
      "_dom_classes": [],
      "_model_module": "@jupyter-widgets/controls",
      "_model_module_version": "1.5.0",
      "_model_name": "HTMLModel",
      "_view_count": null,
      "_view_module": "@jupyter-widgets/controls",
      "_view_module_version": "1.5.0",
      "_view_name": "HTMLView",
      "description": "",
      "description_tooltip": null,
      "layout": "IPY_MODEL_98feee5406c048b6949aa2c58b791d15",
      "placeholder": "​",
      "style": "IPY_MODEL_dad76e27a1224dd6ac34214d5cf18fdd",
      "value": "events.out.tfevents.1710096969.2320e368804f.711.0: 100%"
     }
    },
    "0bbd5eb7abbc4266b33504ec88dfb0aa": {
     "model_module": "@jupyter-widgets/controls",
     "model_module_version": "1.5.0",
     "model_name": "HTMLModel",
     "state": {
      "_dom_classes": [],
      "_model_module": "@jupyter-widgets/controls",
      "_model_module_version": "1.5.0",
      "_model_name": "HTMLModel",
      "_view_count": null,
      "_view_module": "@jupyter-widgets/controls",
      "_view_module_version": "1.5.0",
      "_view_name": "HTMLView",
      "description": "",
      "description_tooltip": null,
      "layout": "IPY_MODEL_1f71c50eadb046cb9eb1777d743caf0e",
      "placeholder": "​",
      "style": "IPY_MODEL_603c30ccd87c4717a84edc97ea8ad5d4",
      "value": " 512k/512k [00:00&lt;00:00, 7.33MB/s]"
     }
    },
    "0bf0111b6fa44d80b59a7b66613651ed": {
     "model_module": "@jupyter-widgets/controls",
     "model_module_version": "1.5.0",
     "model_name": "DescriptionStyleModel",
     "state": {
      "_model_module": "@jupyter-widgets/controls",
      "_model_module_version": "1.5.0",
      "_model_name": "DescriptionStyleModel",
      "_view_count": null,
      "_view_module": "@jupyter-widgets/base",
      "_view_module_version": "1.2.0",
      "_view_name": "StyleView",
      "description_width": ""
     }
    },
    "0e34c1d9ccd043f3890a97fedb5dec10": {
     "model_module": "@jupyter-widgets/controls",
     "model_module_version": "1.5.0",
     "model_name": "HTMLModel",
     "state": {
      "_dom_classes": [],
      "_model_module": "@jupyter-widgets/controls",
      "_model_module_version": "1.5.0",
      "_model_name": "HTMLModel",
      "_view_count": null,
      "_view_module": "@jupyter-widgets/controls",
      "_view_module_version": "1.5.0",
      "_view_name": "HTMLView",
      "description": "",
      "description_tooltip": null,
      "layout": "IPY_MODEL_7305b0cde6dd487d8350914c2d28d2c4",
      "placeholder": "​",
      "style": "IPY_MODEL_e0b5f7dd4d6448eb89fdee49324ebccf",
      "value": " 35.5k/35.5k [00:01&lt;00:00, 27.4kB/s]"
     }
    },
    "113c110fda9f42f0bfa14a1a7efb937e": {
     "model_module": "@jupyter-widgets/base",
     "model_module_version": "1.2.0",
     "model_name": "LayoutModel",
     "state": {
      "_model_module": "@jupyter-widgets/base",
      "_model_module_version": "1.2.0",
      "_model_name": "LayoutModel",
      "_view_count": null,
      "_view_module": "@jupyter-widgets/base",
      "_view_module_version": "1.2.0",
      "_view_name": "LayoutView",
      "align_content": null,
      "align_items": null,
      "align_self": null,
      "border": null,
      "bottom": null,
      "display": null,
      "flex": null,
      "flex_flow": null,
      "grid_area": null,
      "grid_auto_columns": null,
      "grid_auto_flow": null,
      "grid_auto_rows": null,
      "grid_column": null,
      "grid_gap": null,
      "grid_row": null,
      "grid_template_areas": null,
      "grid_template_columns": null,
      "grid_template_rows": null,
      "height": null,
      "justify_content": null,
      "justify_items": null,
      "left": null,
      "margin": null,
      "max_height": null,
      "max_width": null,
      "min_height": null,
      "min_width": null,
      "object_fit": null,
      "object_position": null,
      "order": null,
      "overflow": null,
      "overflow_x": null,
      "overflow_y": null,
      "padding": null,
      "right": null,
      "top": null,
      "visibility": null,
      "width": null
     }
    },
    "13521de9cf60468dad6d30f07c10fb17": {
     "model_module": "@jupyter-widgets/controls",
     "model_module_version": "1.5.0",
     "model_name": "HTMLModel",
     "state": {
      "_dom_classes": [],
      "_model_module": "@jupyter-widgets/controls",
      "_model_module_version": "1.5.0",
      "_model_name": "HTMLModel",
      "_view_count": null,
      "_view_module": "@jupyter-widgets/controls",
      "_view_module_version": "1.5.0",
      "_view_name": "HTMLView",
      "description": "",
      "description_tooltip": null,
      "layout": "IPY_MODEL_9b3478eb92dc4f96859bc2bda3938537",
      "placeholder": "​",
      "style": "IPY_MODEL_9a67375bdb054dea98f968f3b4cfb87c",
      "value": "<center> <img\nsrc=https://huggingface.co/front/assets/huggingface_logo-noborder.svg\nalt='Hugging Face'> <br> Copy a token from <a\nhref=\"https://huggingface.co/settings/tokens\" target=\"_blank\">your Hugging Face\ntokens page</a> and paste it below. <br> Immediately click login after copying\nyour token or it might be stored in plain text in this notebook file. </center>"
     }
    },
    "14c36749d17c4eb59f691afc89a8d999": {
     "model_module": "@jupyter-widgets/controls",
     "model_module_version": "1.5.0",
     "model_name": "ProgressStyleModel",
     "state": {
      "_model_module": "@jupyter-widgets/controls",
      "_model_module_version": "1.5.0",
      "_model_name": "ProgressStyleModel",
      "_view_count": null,
      "_view_module": "@jupyter-widgets/base",
      "_view_module_version": "1.2.0",
      "_view_name": "StyleView",
      "bar_color": null,
      "description_width": ""
     }
    },
    "15e91ddcd31a41ec9bfcb14fcab279a9": {
     "model_module": "@jupyter-widgets/controls",
     "model_module_version": "1.5.0",
     "model_name": "DescriptionStyleModel",
     "state": {
      "_model_module": "@jupyter-widgets/controls",
      "_model_module_version": "1.5.0",
      "_model_name": "DescriptionStyleModel",
      "_view_count": null,
      "_view_module": "@jupyter-widgets/base",
      "_view_module_version": "1.2.0",
      "_view_name": "StyleView",
      "description_width": ""
     }
    },
    "163e4c2ef4574e0aaac49e1eb8bbec86": {
     "model_module": "@jupyter-widgets/controls",
     "model_module_version": "1.5.0",
     "model_name": "HTMLModel",
     "state": {
      "_dom_classes": [],
      "_model_module": "@jupyter-widgets/controls",
      "_model_module_version": "1.5.0",
      "_model_name": "HTMLModel",
      "_view_count": null,
      "_view_module": "@jupyter-widgets/controls",
      "_view_module_version": "1.5.0",
      "_view_name": "HTMLView",
      "description": "",
      "description_tooltip": null,
      "layout": "IPY_MODEL_5920689665e14d58ae570d785df7ddd1",
      "placeholder": "​",
      "style": "IPY_MODEL_e50becb5a5294908a735f4ced06cb8b2",
      "value": "Generating validation split: 100%"
     }
    },
    "1a3b415224c94059b2dd58aad5e934d8": {
     "model_module": "@jupyter-widgets/controls",
     "model_module_version": "1.5.0",
     "model_name": "ProgressStyleModel",
     "state": {
      "_model_module": "@jupyter-widgets/controls",
      "_model_module_version": "1.5.0",
      "_model_name": "ProgressStyleModel",
      "_view_count": null,
      "_view_module": "@jupyter-widgets/base",
      "_view_module_version": "1.2.0",
      "_view_name": "StyleView",
      "bar_color": null,
      "description_width": ""
     }
    },
    "1b245d7b64014a26bec5cabc98e6dc3e": {
     "model_module": "@jupyter-widgets/controls",
     "model_module_version": "1.5.0",
     "model_name": "FloatProgressModel",
     "state": {
      "_dom_classes": [],
      "_model_module": "@jupyter-widgets/controls",
      "_model_module_version": "1.5.0",
      "_model_name": "FloatProgressModel",
      "_view_count": null,
      "_view_module": "@jupyter-widgets/controls",
      "_view_module_version": "1.5.0",
      "_view_name": "ProgressView",
      "bar_style": "success",
      "description": "",
      "description_tooltip": null,
      "layout": "IPY_MODEL_a6f80a5de7a14ebbbad996005be6b41a",
      "max": 4856,
      "min": 0,
      "orientation": "horizontal",
      "style": "IPY_MODEL_58fd99b27ef648f0a42f93244a41e72b",
      "value": 4856
     }
    },
    "1c459f1caf9f4bc28df0433f6310b16c": {
     "model_module": "@jupyter-widgets/controls",
     "model_module_version": "1.5.0",
     "model_name": "HTMLModel",
     "state": {
      "_dom_classes": [],
      "_model_module": "@jupyter-widgets/controls",
      "_model_module_version": "1.5.0",
      "_model_name": "HTMLModel",
      "_view_count": null,
      "_view_module": "@jupyter-widgets/controls",
      "_view_module_version": "1.5.0",
      "_view_name": "HTMLView",
      "description": "",
      "description_tooltip": null,
      "layout": "IPY_MODEL_dd70c87a8bd84ba2a6487636ff239f05",
      "placeholder": "​",
      "style": "IPY_MODEL_9e8c4fc165ff448e95d71911c874ea5e",
      "value": "tokenizer_config.json: 100%"
     }
    },
    "1c88696e222b4ad2bdfdb426c3413a52": {
     "model_module": "@jupyter-widgets/controls",
     "model_module_version": "1.5.0",
     "model_name": "HTMLModel",
     "state": {
      "_dom_classes": [],
      "_model_module": "@jupyter-widgets/controls",
      "_model_module_version": "1.5.0",
      "_model_name": "HTMLModel",
      "_view_count": null,
      "_view_module": "@jupyter-widgets/controls",
      "_view_module_version": "1.5.0",
      "_view_name": "HTMLView",
      "description": "",
      "description_tooltip": null,
      "layout": "IPY_MODEL_bad2c46ba079437ba749e797a731668e",
      "placeholder": "​",
      "style": "IPY_MODEL_6c42a9b0a13448d5802d33aa6fb322ee",
      "value": "tokenizer.model: 100%"
     }
    },
    "1d2559f40fbd4a308bcbdc290844445a": {
     "model_module": "@jupyter-widgets/controls",
     "model_module_version": "1.5.0",
     "model_name": "DescriptionStyleModel",
     "state": {
      "_model_module": "@jupyter-widgets/controls",
      "_model_module_version": "1.5.0",
      "_model_name": "DescriptionStyleModel",
      "_view_count": null,
      "_view_module": "@jupyter-widgets/base",
      "_view_module_version": "1.2.0",
      "_view_name": "StyleView",
      "description_width": ""
     }
    },
    "1d3d7fd19a6148f392268137fd0eede5": {
     "model_module": "@jupyter-widgets/controls",
     "model_module_version": "1.5.0",
     "model_name": "DescriptionStyleModel",
     "state": {
      "_model_module": "@jupyter-widgets/controls",
      "_model_module_version": "1.5.0",
      "_model_name": "DescriptionStyleModel",
      "_view_count": null,
      "_view_module": "@jupyter-widgets/base",
      "_view_module_version": "1.2.0",
      "_view_name": "StyleView",
      "description_width": ""
     }
    },
    "1dde6274c1254f0dbc43347176514b12": {
     "model_module": "@jupyter-widgets/base",
     "model_module_version": "1.2.0",
     "model_name": "LayoutModel",
     "state": {
      "_model_module": "@jupyter-widgets/base",
      "_model_module_version": "1.2.0",
      "_model_name": "LayoutModel",
      "_view_count": null,
      "_view_module": "@jupyter-widgets/base",
      "_view_module_version": "1.2.0",
      "_view_name": "LayoutView",
      "align_content": null,
      "align_items": null,
      "align_self": null,
      "border": null,
      "bottom": null,
      "display": null,
      "flex": null,
      "flex_flow": null,
      "grid_area": null,
      "grid_auto_columns": null,
      "grid_auto_flow": null,
      "grid_auto_rows": null,
      "grid_column": null,
      "grid_gap": null,
      "grid_row": null,
      "grid_template_areas": null,
      "grid_template_columns": null,
      "grid_template_rows": null,
      "height": null,
      "justify_content": null,
      "justify_items": null,
      "left": null,
      "margin": null,
      "max_height": null,
      "max_width": null,
      "min_height": null,
      "min_width": null,
      "object_fit": null,
      "object_position": null,
      "order": null,
      "overflow": null,
      "overflow_x": null,
      "overflow_y": null,
      "padding": null,
      "right": null,
      "top": null,
      "visibility": null,
      "width": null
     }
    },
    "1e9b545e32af43e0af906b3bcf01b576": {
     "model_module": "@jupyter-widgets/base",
     "model_module_version": "1.2.0",
     "model_name": "LayoutModel",
     "state": {
      "_model_module": "@jupyter-widgets/base",
      "_model_module_version": "1.2.0",
      "_model_name": "LayoutModel",
      "_view_count": null,
      "_view_module": "@jupyter-widgets/base",
      "_view_module_version": "1.2.0",
      "_view_name": "LayoutView",
      "align_content": null,
      "align_items": null,
      "align_self": null,
      "border": null,
      "bottom": null,
      "display": null,
      "flex": null,
      "flex_flow": null,
      "grid_area": null,
      "grid_auto_columns": null,
      "grid_auto_flow": null,
      "grid_auto_rows": null,
      "grid_column": null,
      "grid_gap": null,
      "grid_row": null,
      "grid_template_areas": null,
      "grid_template_columns": null,
      "grid_template_rows": null,
      "height": null,
      "justify_content": null,
      "justify_items": null,
      "left": null,
      "margin": null,
      "max_height": null,
      "max_width": null,
      "min_height": null,
      "min_width": null,
      "object_fit": null,
      "object_position": null,
      "order": null,
      "overflow": null,
      "overflow_x": null,
      "overflow_y": null,
      "padding": null,
      "right": null,
      "top": null,
      "visibility": null,
      "width": null
     }
    },
    "1eadc8036a15470d8d2b560e45d294fb": {
     "model_module": "@jupyter-widgets/controls",
     "model_module_version": "1.5.0",
     "model_name": "HBoxModel",
     "state": {
      "_dom_classes": [],
      "_model_module": "@jupyter-widgets/controls",
      "_model_module_version": "1.5.0",
      "_model_name": "HBoxModel",
      "_view_count": null,
      "_view_module": "@jupyter-widgets/controls",
      "_view_module_version": "1.5.0",
      "_view_name": "HBoxView",
      "box_style": "",
      "children": [
       "IPY_MODEL_8559680e5d154e5ea9c319b945fff094",
       "IPY_MODEL_67cd8a6f898341d9acaa8e15b553fc73",
       "IPY_MODEL_5013b1067ebb48638ccf79cf204c988c"
      ],
      "layout": "IPY_MODEL_658331495673440aa43ce687b0e48c49"
     }
    },
    "1eca531dcd63435db110ffda015516c5": {
     "model_module": "@jupyter-widgets/controls",
     "model_module_version": "1.5.0",
     "model_name": "FloatProgressModel",
     "state": {
      "_dom_classes": [],
      "_model_module": "@jupyter-widgets/controls",
      "_model_module_version": "1.5.0",
      "_model_name": "FloatProgressModel",
      "_view_count": null,
      "_view_module": "@jupyter-widgets/controls",
      "_view_module_version": "1.5.0",
      "_view_name": "ProgressView",
      "bar_style": "success",
      "description": "",
      "description_tooltip": null,
      "layout": "IPY_MODEL_8769473aee0e40538bc39d42d2cf56b6",
      "max": 6940,
      "min": 0,
      "orientation": "horizontal",
      "style": "IPY_MODEL_14c36749d17c4eb59f691afc89a8d999",
      "value": 6940
     }
    },
    "1f71c50eadb046cb9eb1777d743caf0e": {
     "model_module": "@jupyter-widgets/base",
     "model_module_version": "1.2.0",
     "model_name": "LayoutModel",
     "state": {
      "_model_module": "@jupyter-widgets/base",
      "_model_module_version": "1.2.0",
      "_model_name": "LayoutModel",
      "_view_count": null,
      "_view_module": "@jupyter-widgets/base",
      "_view_module_version": "1.2.0",
      "_view_name": "LayoutView",
      "align_content": null,
      "align_items": null,
      "align_self": null,
      "border": null,
      "bottom": null,
      "display": null,
      "flex": null,
      "flex_flow": null,
      "grid_area": null,
      "grid_auto_columns": null,
      "grid_auto_flow": null,
      "grid_auto_rows": null,
      "grid_column": null,
      "grid_gap": null,
      "grid_row": null,
      "grid_template_areas": null,
      "grid_template_columns": null,
      "grid_template_rows": null,
      "height": null,
      "justify_content": null,
      "justify_items": null,
      "left": null,
      "margin": null,
      "max_height": null,
      "max_width": null,
      "min_height": null,
      "min_width": null,
      "object_fit": null,
      "object_position": null,
      "order": null,
      "overflow": null,
      "overflow_x": null,
      "overflow_y": null,
      "padding": null,
      "right": null,
      "top": null,
      "visibility": null,
      "width": null
     }
    },
    "21349da442a34da0b9c45ad2641f4bb5": {
     "model_module": "@jupyter-widgets/base",
     "model_module_version": "1.2.0",
     "model_name": "LayoutModel",
     "state": {
      "_model_module": "@jupyter-widgets/base",
      "_model_module_version": "1.2.0",
      "_model_name": "LayoutModel",
      "_view_count": null,
      "_view_module": "@jupyter-widgets/base",
      "_view_module_version": "1.2.0",
      "_view_name": "LayoutView",
      "align_content": null,
      "align_items": null,
      "align_self": null,
      "border": null,
      "bottom": null,
      "display": null,
      "flex": null,
      "flex_flow": null,
      "grid_area": null,
      "grid_auto_columns": null,
      "grid_auto_flow": null,
      "grid_auto_rows": null,
      "grid_column": null,
      "grid_gap": null,
      "grid_row": null,
      "grid_template_areas": null,
      "grid_template_columns": null,
      "grid_template_rows": null,
      "height": null,
      "justify_content": null,
      "justify_items": null,
      "left": null,
      "margin": null,
      "max_height": null,
      "max_width": null,
      "min_height": null,
      "min_width": null,
      "object_fit": null,
      "object_position": null,
      "order": null,
      "overflow": null,
      "overflow_x": null,
      "overflow_y": null,
      "padding": null,
      "right": null,
      "top": null,
      "visibility": null,
      "width": null
     }
    },
    "21adffcfff844f30a5b0de5acd29d17a": {
     "model_module": "@jupyter-widgets/controls",
     "model_module_version": "1.5.0",
     "model_name": "HTMLModel",
     "state": {
      "_dom_classes": [],
      "_model_module": "@jupyter-widgets/controls",
      "_model_module_version": "1.5.0",
      "_model_name": "HTMLModel",
      "_view_count": null,
      "_view_module": "@jupyter-widgets/controls",
      "_view_module_version": "1.5.0",
      "_view_name": "HTMLView",
      "description": "",
      "description_tooltip": null,
      "layout": "IPY_MODEL_f0c37304c96e400e91c56f808de412af",
      "placeholder": "​",
      "style": "IPY_MODEL_68c07fdfb2294f7583d41c76b3b6d011",
      "value": " 5/5 [00:31&lt;00:00, 31.45s/it]"
     }
    },
    "22080dcbae6a4ef4b4935b3c5804b24e": {
     "model_module": "@jupyter-widgets/base",
     "model_module_version": "1.2.0",
     "model_name": "LayoutModel",
     "state": {
      "_model_module": "@jupyter-widgets/base",
      "_model_module_version": "1.2.0",
      "_model_name": "LayoutModel",
      "_view_count": null,
      "_view_module": "@jupyter-widgets/base",
      "_view_module_version": "1.2.0",
      "_view_name": "LayoutView",
      "align_content": null,
      "align_items": null,
      "align_self": null,
      "border": null,
      "bottom": null,
      "display": null,
      "flex": null,
      "flex_flow": null,
      "grid_area": null,
      "grid_auto_columns": null,
      "grid_auto_flow": null,
      "grid_auto_rows": null,
      "grid_column": null,
      "grid_gap": null,
      "grid_row": null,
      "grid_template_areas": null,
      "grid_template_columns": null,
      "grid_template_rows": null,
      "height": null,
      "justify_content": null,
      "justify_items": null,
      "left": null,
      "margin": null,
      "max_height": null,
      "max_width": null,
      "min_height": null,
      "min_width": null,
      "object_fit": null,
      "object_position": null,
      "order": null,
      "overflow": null,
      "overflow_x": null,
      "overflow_y": null,
      "padding": null,
      "right": null,
      "top": null,
      "visibility": null,
      "width": null
     }
    },
    "24660e8628ba48cab9d04624cdbed1e6": {
     "model_module": "@jupyter-widgets/base",
     "model_module_version": "1.2.0",
     "model_name": "LayoutModel",
     "state": {
      "_model_module": "@jupyter-widgets/base",
      "_model_module_version": "1.2.0",
      "_model_name": "LayoutModel",
      "_view_count": null,
      "_view_module": "@jupyter-widgets/base",
      "_view_module_version": "1.2.0",
      "_view_name": "LayoutView",
      "align_content": null,
      "align_items": null,
      "align_self": null,
      "border": null,
      "bottom": null,
      "display": null,
      "flex": null,
      "flex_flow": null,
      "grid_area": null,
      "grid_auto_columns": null,
      "grid_auto_flow": null,
      "grid_auto_rows": null,
      "grid_column": null,
      "grid_gap": null,
      "grid_row": null,
      "grid_template_areas": null,
      "grid_template_columns": null,
      "grid_template_rows": null,
      "height": null,
      "justify_content": null,
      "justify_items": null,
      "left": null,
      "margin": null,
      "max_height": null,
      "max_width": null,
      "min_height": null,
      "min_width": null,
      "object_fit": null,
      "object_position": null,
      "order": null,
      "overflow": null,
      "overflow_x": null,
      "overflow_y": null,
      "padding": null,
      "right": null,
      "top": null,
      "visibility": null,
      "width": null
     }
    },
    "26cb9910e02d4fcea4e2ed3f3627db1c": {
     "model_module": "@jupyter-widgets/controls",
     "model_module_version": "1.5.0",
     "model_name": "ProgressStyleModel",
     "state": {
      "_model_module": "@jupyter-widgets/controls",
      "_model_module_version": "1.5.0",
      "_model_name": "ProgressStyleModel",
      "_view_count": null,
      "_view_module": "@jupyter-widgets/base",
      "_view_module_version": "1.2.0",
      "_view_name": "StyleView",
      "bar_color": null,
      "description_width": ""
     }
    },
    "2a04d54a58d74e17afcd9fbff6e6daf8": {
     "model_module": "@jupyter-widgets/controls",
     "model_module_version": "1.5.0",
     "model_name": "ButtonStyleModel",
     "state": {
      "_model_module": "@jupyter-widgets/controls",
      "_model_module_version": "1.5.0",
      "_model_name": "ButtonStyleModel",
      "_view_count": null,
      "_view_module": "@jupyter-widgets/base",
      "_view_module_version": "1.2.0",
      "_view_name": "StyleView",
      "button_color": null,
      "font_weight": ""
     }
    },
    "2a44d5f7fa804ed5bf611e7e628064a1": {
     "model_module": "@jupyter-widgets/controls",
     "model_module_version": "1.5.0",
     "model_name": "HTMLModel",
     "state": {
      "_dom_classes": [],
      "_model_module": "@jupyter-widgets/controls",
      "_model_module_version": "1.5.0",
      "_model_name": "HTMLModel",
      "_view_count": null,
      "_view_module": "@jupyter-widgets/controls",
      "_view_module_version": "1.5.0",
      "_view_name": "HTMLView",
      "description": "",
      "description_tooltip": null,
      "layout": "IPY_MODEL_3898473f9b564712b058d5db33dd8d6b",
      "placeholder": "​",
      "style": "IPY_MODEL_0bf0111b6fa44d80b59a7b66613651ed",
      "value": "codeparrot-ds-train.jsonl: 100%"
     }
    },
    "2af69cd4547043bbbba2368e812b2a13": {
     "model_module": "@jupyter-widgets/base",
     "model_module_version": "1.2.0",
     "model_name": "LayoutModel",
     "state": {
      "_model_module": "@jupyter-widgets/base",
      "_model_module_version": "1.2.0",
      "_model_name": "LayoutModel",
      "_view_count": null,
      "_view_module": "@jupyter-widgets/base",
      "_view_module_version": "1.2.0",
      "_view_name": "LayoutView",
      "align_content": null,
      "align_items": null,
      "align_self": null,
      "border": null,
      "bottom": null,
      "display": null,
      "flex": null,
      "flex_flow": null,
      "grid_area": null,
      "grid_auto_columns": null,
      "grid_auto_flow": null,
      "grid_auto_rows": null,
      "grid_column": null,
      "grid_gap": null,
      "grid_row": null,
      "grid_template_areas": null,
      "grid_template_columns": null,
      "grid_template_rows": null,
      "height": null,
      "justify_content": null,
      "justify_items": null,
      "left": null,
      "margin": null,
      "max_height": null,
      "max_width": null,
      "min_height": null,
      "min_width": null,
      "object_fit": null,
      "object_position": null,
      "order": null,
      "overflow": null,
      "overflow_x": null,
      "overflow_y": null,
      "padding": null,
      "right": null,
      "top": null,
      "visibility": null,
      "width": null
     }
    },
    "2dc8f6b7c6c141f58c4051e83ac193a4": {
     "model_module": "@jupyter-widgets/base",
     "model_module_version": "1.2.0",
     "model_name": "LayoutModel",
     "state": {
      "_model_module": "@jupyter-widgets/base",
      "_model_module_version": "1.2.0",
      "_model_name": "LayoutModel",
      "_view_count": null,
      "_view_module": "@jupyter-widgets/base",
      "_view_module_version": "1.2.0",
      "_view_name": "LayoutView",
      "align_content": null,
      "align_items": null,
      "align_self": null,
      "border": null,
      "bottom": null,
      "display": null,
      "flex": null,
      "flex_flow": null,
      "grid_area": null,
      "grid_auto_columns": null,
      "grid_auto_flow": null,
      "grid_auto_rows": null,
      "grid_column": null,
      "grid_gap": null,
      "grid_row": null,
      "grid_template_areas": null,
      "grid_template_columns": null,
      "grid_template_rows": null,
      "height": null,
      "justify_content": null,
      "justify_items": null,
      "left": null,
      "margin": null,
      "max_height": null,
      "max_width": null,
      "min_height": null,
      "min_width": null,
      "object_fit": null,
      "object_position": null,
      "order": null,
      "overflow": null,
      "overflow_x": null,
      "overflow_y": null,
      "padding": null,
      "right": null,
      "top": null,
      "visibility": null,
      "width": null
     }
    },
    "3009a0585e6e4e03931db3f5259812cb": {
     "model_module": "@jupyter-widgets/base",
     "model_module_version": "1.2.0",
     "model_name": "LayoutModel",
     "state": {
      "_model_module": "@jupyter-widgets/base",
      "_model_module_version": "1.2.0",
      "_model_name": "LayoutModel",
      "_view_count": null,
      "_view_module": "@jupyter-widgets/base",
      "_view_module_version": "1.2.0",
      "_view_name": "LayoutView",
      "align_content": null,
      "align_items": null,
      "align_self": null,
      "border": null,
      "bottom": null,
      "display": null,
      "flex": null,
      "flex_flow": null,
      "grid_area": null,
      "grid_auto_columns": null,
      "grid_auto_flow": null,
      "grid_auto_rows": null,
      "grid_column": null,
      "grid_gap": null,
      "grid_row": null,
      "grid_template_areas": null,
      "grid_template_columns": null,
      "grid_template_rows": null,
      "height": null,
      "justify_content": null,
      "justify_items": null,
      "left": null,
      "margin": null,
      "max_height": null,
      "max_width": null,
      "min_height": null,
      "min_width": null,
      "object_fit": null,
      "object_position": null,
      "order": null,
      "overflow": null,
      "overflow_x": null,
      "overflow_y": null,
      "padding": null,
      "right": null,
      "top": null,
      "visibility": null,
      "width": null
     }
    },
    "3127d3d8efde4d748e35ed91915f8b0e": {
     "model_module": "@jupyter-widgets/controls",
     "model_module_version": "1.5.0",
     "model_name": "HTMLModel",
     "state": {
      "_dom_classes": [],
      "_model_module": "@jupyter-widgets/controls",
      "_model_module_version": "1.5.0",
      "_model_name": "HTMLModel",
      "_view_count": null,
      "_view_module": "@jupyter-widgets/controls",
      "_view_module_version": "1.5.0",
      "_view_name": "HTMLView",
      "description": "",
      "description_tooltip": null,
      "layout": "IPY_MODEL_bcf68a388fee4d73b0506b2436749b8a",
      "placeholder": "​",
      "style": "IPY_MODEL_ec793c2d5b974fb881fbbd8109d3e4f0",
      "value": " 46.1M/46.1M [00:03&lt;00:00, 31.7MB/s]"
     }
    },
    "3141bac5d440460f88de039de44ce0fe": {
     "model_module": "@jupyter-widgets/controls",
     "model_module_version": "1.5.0",
     "model_name": "FloatProgressModel",
     "state": {
      "_dom_classes": [],
      "_model_module": "@jupyter-widgets/controls",
      "_model_module_version": "1.5.0",
      "_model_name": "FloatProgressModel",
      "_view_count": null,
      "_view_module": "@jupyter-widgets/controls",
      "_view_module_version": "1.5.0",
      "_view_name": "ProgressView",
      "bar_style": "success",
      "description": "",
      "description_tooltip": null,
      "layout": "IPY_MODEL_bee65b5decaa4e99b6d7402959146982",
      "max": 330,
      "min": 0,
      "orientation": "horizontal",
      "style": "IPY_MODEL_f05112516b7246e2b1efe7f2caa13645",
      "value": 330
     }
    },
    "338f82f3d49541d7ae9e2c9c8d72708e": {
     "model_module": "@jupyter-widgets/controls",
     "model_module_version": "1.5.0",
     "model_name": "DescriptionStyleModel",
     "state": {
      "_model_module": "@jupyter-widgets/controls",
      "_model_module_version": "1.5.0",
      "_model_name": "DescriptionStyleModel",
      "_view_count": null,
      "_view_module": "@jupyter-widgets/base",
      "_view_module_version": "1.2.0",
      "_view_name": "StyleView",
      "description_width": ""
     }
    },
    "3413638c840f4309adef4b24366834e0": {
     "model_module": "@jupyter-widgets/controls",
     "model_module_version": "1.5.0",
     "model_name": "HTMLModel",
     "state": {
      "_dom_classes": [],
      "_model_module": "@jupyter-widgets/controls",
      "_model_module_version": "1.5.0",
      "_model_name": "HTMLModel",
      "_view_count": null,
      "_view_module": "@jupyter-widgets/controls",
      "_view_module_version": "1.5.0",
      "_view_name": "HTMLView",
      "description": "",
      "description_tooltip": null,
      "layout": "IPY_MODEL_03000ab275514c08ab652bb466b74055",
      "placeholder": "​",
      "style": "IPY_MODEL_4463e51a986440d4bf3a268b021cda91",
      "value": " 470M/470M [00:31&lt;00:00, 25.0MB/s]"
     }
    },
    "34bab208d91645b8b5c063c3056d443f": {
     "model_module": "@jupyter-widgets/base",
     "model_module_version": "1.2.0",
     "model_name": "LayoutModel",
     "state": {
      "_model_module": "@jupyter-widgets/base",
      "_model_module_version": "1.2.0",
      "_model_name": "LayoutModel",
      "_view_count": null,
      "_view_module": "@jupyter-widgets/base",
      "_view_module_version": "1.2.0",
      "_view_name": "LayoutView",
      "align_content": null,
      "align_items": null,
      "align_self": null,
      "border": null,
      "bottom": null,
      "display": null,
      "flex": null,
      "flex_flow": null,
      "grid_area": null,
      "grid_auto_columns": null,
      "grid_auto_flow": null,
      "grid_auto_rows": null,
      "grid_column": null,
      "grid_gap": null,
      "grid_row": null,
      "grid_template_areas": null,
      "grid_template_columns": null,
      "grid_template_rows": null,
      "height": null,
      "justify_content": null,
      "justify_items": null,
      "left": null,
      "margin": null,
      "max_height": null,
      "max_width": null,
      "min_height": null,
      "min_width": null,
      "object_fit": null,
      "object_position": null,
      "order": null,
      "overflow": null,
      "overflow_x": null,
      "overflow_y": null,
      "padding": null,
      "right": null,
      "top": null,
      "visibility": null,
      "width": null
     }
    },
    "34bfc1285b024778950f86a9a1c8377d": {
     "model_module": "@jupyter-widgets/controls",
     "model_module_version": "1.5.0",
     "model_name": "HTMLModel",
     "state": {
      "_dom_classes": [],
      "_model_module": "@jupyter-widgets/controls",
      "_model_module_version": "1.5.0",
      "_model_name": "HTMLModel",
      "_view_count": null,
      "_view_module": "@jupyter-widgets/controls",
      "_view_module_version": "1.5.0",
      "_view_name": "HTMLView",
      "description": "",
      "description_tooltip": null,
      "layout": "IPY_MODEL_fa3fd9ff343b4842942a2857af4f153a",
      "placeholder": "​",
      "style": "IPY_MODEL_013def97a70846dca85a92e7f0ff1e1c",
      "value": " 593/593 [00:00&lt;00:00, 35.8kB/s]"
     }
    },
    "36ccf373aeb84d5cb54e8e0910a0d622": {
     "model_module": "@jupyter-widgets/controls",
     "model_module_version": "1.5.0",
     "model_name": "HTMLModel",
     "state": {
      "_dom_classes": [],
      "_model_module": "@jupyter-widgets/controls",
      "_model_module_version": "1.5.0",
      "_model_name": "HTMLModel",
      "_view_count": null,
      "_view_module": "@jupyter-widgets/controls",
      "_view_module_version": "1.5.0",
      "_view_name": "HTMLView",
      "description": "",
      "description_tooltip": null,
      "layout": "IPY_MODEL_b9694fbc0235452aac336b879b88aee3",
      "placeholder": "​",
      "style": "IPY_MODEL_08deb70a1e5543ec91794d69bb2acb82",
      "value": "tokenizer.model: 100%"
     }
    },
    "3898473f9b564712b058d5db33dd8d6b": {
     "model_module": "@jupyter-widgets/base",
     "model_module_version": "1.2.0",
     "model_name": "LayoutModel",
     "state": {
      "_model_module": "@jupyter-widgets/base",
      "_model_module_version": "1.2.0",
      "_model_name": "LayoutModel",
      "_view_count": null,
      "_view_module": "@jupyter-widgets/base",
      "_view_module_version": "1.2.0",
      "_view_name": "LayoutView",
      "align_content": null,
      "align_items": null,
      "align_self": null,
      "border": null,
      "bottom": null,
      "display": null,
      "flex": null,
      "flex_flow": null,
      "grid_area": null,
      "grid_auto_columns": null,
      "grid_auto_flow": null,
      "grid_auto_rows": null,
      "grid_column": null,
      "grid_gap": null,
      "grid_row": null,
      "grid_template_areas": null,
      "grid_template_columns": null,
      "grid_template_rows": null,
      "height": null,
      "justify_content": null,
      "justify_items": null,
      "left": null,
      "margin": null,
      "max_height": null,
      "max_width": null,
      "min_height": null,
      "min_width": null,
      "object_fit": null,
      "object_position": null,
      "order": null,
      "overflow": null,
      "overflow_x": null,
      "overflow_y": null,
      "padding": null,
      "right": null,
      "top": null,
      "visibility": null,
      "width": null
     }
    },
    "3c869f343f0343e9806b5a0548f84beb": {
     "model_module": "@jupyter-widgets/base",
     "model_module_version": "1.2.0",
     "model_name": "LayoutModel",
     "state": {
      "_model_module": "@jupyter-widgets/base",
      "_model_module_version": "1.2.0",
      "_model_name": "LayoutModel",
      "_view_count": null,
      "_view_module": "@jupyter-widgets/base",
      "_view_module_version": "1.2.0",
      "_view_name": "LayoutView",
      "align_content": null,
      "align_items": null,
      "align_self": null,
      "border": null,
      "bottom": null,
      "display": null,
      "flex": null,
      "flex_flow": null,
      "grid_area": null,
      "grid_auto_columns": null,
      "grid_auto_flow": null,
      "grid_auto_rows": null,
      "grid_column": null,
      "grid_gap": null,
      "grid_row": null,
      "grid_template_areas": null,
      "grid_template_columns": null,
      "grid_template_rows": null,
      "height": null,
      "justify_content": null,
      "justify_items": null,
      "left": null,
      "margin": null,
      "max_height": null,
      "max_width": null,
      "min_height": null,
      "min_width": null,
      "object_fit": null,
      "object_position": null,
      "order": null,
      "overflow": null,
      "overflow_x": null,
      "overflow_y": null,
      "padding": null,
      "right": null,
      "top": null,
      "visibility": null,
      "width": null
     }
    },
    "3e5ca1dfe25f488fa09a467ed83b6aea": {
     "model_module": "@jupyter-widgets/controls",
     "model_module_version": "1.5.0",
     "model_name": "HTMLModel",
     "state": {
      "_dom_classes": [],
      "_model_module": "@jupyter-widgets/controls",
      "_model_module_version": "1.5.0",
      "_model_name": "HTMLModel",
      "_view_count": null,
      "_view_module": "@jupyter-widgets/controls",
      "_view_module_version": "1.5.0",
      "_view_name": "HTMLView",
      "description": "",
      "description_tooltip": null,
      "layout": "IPY_MODEL_1dde6274c1254f0dbc43347176514b12",
      "placeholder": "​",
      "style": "IPY_MODEL_64ce3c74f8514895b797c0b5b3fac32e",
      "value": " 3322/3322 [00:00&lt;00:00, 7165.01 examples/s]"
     }
    },
    "3f2b1d60871e40f5ad3e3c4f2c6ea5cb": {
     "model_module": "@jupyter-widgets/base",
     "model_module_version": "1.2.0",
     "model_name": "LayoutModel",
     "state": {
      "_model_module": "@jupyter-widgets/base",
      "_model_module_version": "1.2.0",
      "_model_name": "LayoutModel",
      "_view_count": null,
      "_view_module": "@jupyter-widgets/base",
      "_view_module_version": "1.2.0",
      "_view_name": "LayoutView",
      "align_content": null,
      "align_items": null,
      "align_self": null,
      "border": null,
      "bottom": null,
      "display": null,
      "flex": null,
      "flex_flow": null,
      "grid_area": null,
      "grid_auto_columns": null,
      "grid_auto_flow": null,
      "grid_auto_rows": null,
      "grid_column": null,
      "grid_gap": null,
      "grid_row": null,
      "grid_template_areas": null,
      "grid_template_columns": null,
      "grid_template_rows": null,
      "height": null,
      "justify_content": null,
      "justify_items": null,
      "left": null,
      "margin": null,
      "max_height": null,
      "max_width": null,
      "min_height": null,
      "min_width": null,
      "object_fit": null,
      "object_position": null,
      "order": null,
      "overflow": null,
      "overflow_x": null,
      "overflow_y": null,
      "padding": null,
      "right": null,
      "top": null,
      "visibility": null,
      "width": null
     }
    },
    "41479a53f99648f69b03b0903424310d": {
     "model_module": "@jupyter-widgets/base",
     "model_module_version": "1.2.0",
     "model_name": "LayoutModel",
     "state": {
      "_model_module": "@jupyter-widgets/base",
      "_model_module_version": "1.2.0",
      "_model_name": "LayoutModel",
      "_view_count": null,
      "_view_module": "@jupyter-widgets/base",
      "_view_module_version": "1.2.0",
      "_view_name": "LayoutView",
      "align_content": null,
      "align_items": null,
      "align_self": null,
      "border": null,
      "bottom": null,
      "display": null,
      "flex": null,
      "flex_flow": null,
      "grid_area": null,
      "grid_auto_columns": null,
      "grid_auto_flow": null,
      "grid_auto_rows": null,
      "grid_column": null,
      "grid_gap": null,
      "grid_row": null,
      "grid_template_areas": null,
      "grid_template_columns": null,
      "grid_template_rows": null,
      "height": null,
      "justify_content": null,
      "justify_items": null,
      "left": null,
      "margin": null,
      "max_height": null,
      "max_width": null,
      "min_height": null,
      "min_width": null,
      "object_fit": null,
      "object_position": null,
      "order": null,
      "overflow": null,
      "overflow_x": null,
      "overflow_y": null,
      "padding": null,
      "right": null,
      "top": null,
      "visibility": null,
      "width": null
     }
    },
    "41b22f4256964c25a2f2f3d629a63fe0": {
     "model_module": "@jupyter-widgets/controls",
     "model_module_version": "1.5.0",
     "model_name": "ProgressStyleModel",
     "state": {
      "_model_module": "@jupyter-widgets/controls",
      "_model_module_version": "1.5.0",
      "_model_name": "ProgressStyleModel",
      "_view_count": null,
      "_view_module": "@jupyter-widgets/base",
      "_view_module_version": "1.2.0",
      "_view_name": "StyleView",
      "bar_color": null,
      "description_width": ""
     }
    },
    "4262eed1c0c14edd9cc11770859e6c0c": {
     "model_module": "@jupyter-widgets/controls",
     "model_module_version": "1.5.0",
     "model_name": "DescriptionStyleModel",
     "state": {
      "_model_module": "@jupyter-widgets/controls",
      "_model_module_version": "1.5.0",
      "_model_name": "DescriptionStyleModel",
      "_view_count": null,
      "_view_module": "@jupyter-widgets/base",
      "_view_module_version": "1.2.0",
      "_view_name": "StyleView",
      "description_width": ""
     }
    },
    "4463e51a986440d4bf3a268b021cda91": {
     "model_module": "@jupyter-widgets/controls",
     "model_module_version": "1.5.0",
     "model_name": "DescriptionStyleModel",
     "state": {
      "_model_module": "@jupyter-widgets/controls",
      "_model_module_version": "1.5.0",
      "_model_name": "DescriptionStyleModel",
      "_view_count": null,
      "_view_module": "@jupyter-widgets/base",
      "_view_module_version": "1.2.0",
      "_view_name": "StyleView",
      "description_width": ""
     }
    },
    "4cced782c5d54d0599b34dda0713f969": {
     "model_module": "@jupyter-widgets/controls",
     "model_module_version": "1.5.0",
     "model_name": "ProgressStyleModel",
     "state": {
      "_model_module": "@jupyter-widgets/controls",
      "_model_module_version": "1.5.0",
      "_model_name": "ProgressStyleModel",
      "_view_count": null,
      "_view_module": "@jupyter-widgets/base",
      "_view_module_version": "1.2.0",
      "_view_name": "StyleView",
      "bar_color": null,
      "description_width": ""
     }
    },
    "5013b1067ebb48638ccf79cf204c988c": {
     "model_module": "@jupyter-widgets/controls",
     "model_module_version": "1.5.0",
     "model_name": "HTMLModel",
     "state": {
      "_dom_classes": [],
      "_model_module": "@jupyter-widgets/controls",
      "_model_module_version": "1.5.0",
      "_model_name": "HTMLModel",
      "_view_count": null,
      "_view_module": "@jupyter-widgets/controls",
      "_view_module_version": "1.5.0",
      "_view_name": "HTMLView",
      "description": "",
      "description_tooltip": null,
      "layout": "IPY_MODEL_569682e410254f6bacb63bed3d4c11a4",
      "placeholder": "​",
      "style": "IPY_MODEL_f1364bedddc74267a874f7f0da03e129",
      "value": " 606720/0 [05:14&lt;00:00, 2256.88 examples/s]"
     }
    },
    "506cb34fe0fa4004a43b19ce7b3eb552": {
     "model_module": "@jupyter-widgets/controls",
     "model_module_version": "1.5.0",
     "model_name": "HBoxModel",
     "state": {
      "_dom_classes": [],
      "_model_module": "@jupyter-widgets/controls",
      "_model_module_version": "1.5.0",
      "_model_name": "HBoxModel",
      "_view_count": null,
      "_view_module": "@jupyter-widgets/controls",
      "_view_module_version": "1.5.0",
      "_view_name": "HBoxView",
      "box_style": "",
      "children": [
       "IPY_MODEL_1c459f1caf9f4bc28df0433f6310b16c",
       "IPY_MODEL_7bb152682b544a3b9c9e2d55cf765caa",
       "IPY_MODEL_34bfc1285b024778950f86a9a1c8377d"
      ],
      "layout": "IPY_MODEL_21349da442a34da0b9c45ad2641f4bb5"
     }
    },
    "524803a4e7014dceabd4ec2ba7140dfd": {
     "model_module": "@jupyter-widgets/controls",
     "model_module_version": "1.5.0",
     "model_name": "HTMLModel",
     "state": {
      "_dom_classes": [],
      "_model_module": "@jupyter-widgets/controls",
      "_model_module_version": "1.5.0",
      "_model_name": "HTMLModel",
      "_view_count": null,
      "_view_module": "@jupyter-widgets/controls",
      "_view_module_version": "1.5.0",
      "_view_name": "HTMLView",
      "description": "",
      "description_tooltip": null,
      "layout": "IPY_MODEL_2dc8f6b7c6c141f58c4051e83ac193a4",
      "placeholder": "​",
      "style": "IPY_MODEL_8ebe2c36d093481d80e100ea468b4b8c",
      "value": " 8.25G/8.25G [13:57&lt;00:00, 17.2MB/s]"
     }
    },
    "55c93f7e4ac64075a49d66b7fa61f23d": {
     "model_module": "@jupyter-widgets/base",
     "model_module_version": "1.2.0",
     "model_name": "LayoutModel",
     "state": {
      "_model_module": "@jupyter-widgets/base",
      "_model_module_version": "1.2.0",
      "_model_name": "LayoutModel",
      "_view_count": null,
      "_view_module": "@jupyter-widgets/base",
      "_view_module_version": "1.2.0",
      "_view_name": "LayoutView",
      "align_content": null,
      "align_items": null,
      "align_self": null,
      "border": null,
      "bottom": null,
      "display": null,
      "flex": null,
      "flex_flow": null,
      "grid_area": null,
      "grid_auto_columns": null,
      "grid_auto_flow": null,
      "grid_auto_rows": null,
      "grid_column": null,
      "grid_gap": null,
      "grid_row": null,
      "grid_template_areas": null,
      "grid_template_columns": null,
      "grid_template_rows": null,
      "height": null,
      "justify_content": null,
      "justify_items": null,
      "left": null,
      "margin": null,
      "max_height": null,
      "max_width": null,
      "min_height": null,
      "min_width": null,
      "object_fit": null,
      "object_position": null,
      "order": null,
      "overflow": null,
      "overflow_x": null,
      "overflow_y": null,
      "padding": null,
      "right": null,
      "top": null,
      "visibility": null,
      "width": null
     }
    },
    "569682e410254f6bacb63bed3d4c11a4": {
     "model_module": "@jupyter-widgets/base",
     "model_module_version": "1.2.0",
     "model_name": "LayoutModel",
     "state": {
      "_model_module": "@jupyter-widgets/base",
      "_model_module_version": "1.2.0",
      "_model_name": "LayoutModel",
      "_view_count": null,
      "_view_module": "@jupyter-widgets/base",
      "_view_module_version": "1.2.0",
      "_view_name": "LayoutView",
      "align_content": null,
      "align_items": null,
      "align_self": null,
      "border": null,
      "bottom": null,
      "display": null,
      "flex": null,
      "flex_flow": null,
      "grid_area": null,
      "grid_auto_columns": null,
      "grid_auto_flow": null,
      "grid_auto_rows": null,
      "grid_column": null,
      "grid_gap": null,
      "grid_row": null,
      "grid_template_areas": null,
      "grid_template_columns": null,
      "grid_template_rows": null,
      "height": null,
      "justify_content": null,
      "justify_items": null,
      "left": null,
      "margin": null,
      "max_height": null,
      "max_width": null,
      "min_height": null,
      "min_width": null,
      "object_fit": null,
      "object_position": null,
      "order": null,
      "overflow": null,
      "overflow_x": null,
      "overflow_y": null,
      "padding": null,
      "right": null,
      "top": null,
      "visibility": null,
      "width": null
     }
    },
    "58fd99b27ef648f0a42f93244a41e72b": {
     "model_module": "@jupyter-widgets/controls",
     "model_module_version": "1.5.0",
     "model_name": "ProgressStyleModel",
     "state": {
      "_model_module": "@jupyter-widgets/controls",
      "_model_module_version": "1.5.0",
      "_model_name": "ProgressStyleModel",
      "_view_count": null,
      "_view_module": "@jupyter-widgets/base",
      "_view_module_version": "1.2.0",
      "_view_name": "StyleView",
      "bar_color": null,
      "description_width": ""
     }
    },
    "5920689665e14d58ae570d785df7ddd1": {
     "model_module": "@jupyter-widgets/base",
     "model_module_version": "1.2.0",
     "model_name": "LayoutModel",
     "state": {
      "_model_module": "@jupyter-widgets/base",
      "_model_module_version": "1.2.0",
      "_model_name": "LayoutModel",
      "_view_count": null,
      "_view_module": "@jupyter-widgets/base",
      "_view_module_version": "1.2.0",
      "_view_name": "LayoutView",
      "align_content": null,
      "align_items": null,
      "align_self": null,
      "border": null,
      "bottom": null,
      "display": null,
      "flex": null,
      "flex_flow": null,
      "grid_area": null,
      "grid_auto_columns": null,
      "grid_auto_flow": null,
      "grid_auto_rows": null,
      "grid_column": null,
      "grid_gap": null,
      "grid_row": null,
      "grid_template_areas": null,
      "grid_template_columns": null,
      "grid_template_rows": null,
      "height": null,
      "justify_content": null,
      "justify_items": null,
      "left": null,
      "margin": null,
      "max_height": null,
      "max_width": null,
      "min_height": null,
      "min_width": null,
      "object_fit": null,
      "object_position": null,
      "order": null,
      "overflow": null,
      "overflow_x": null,
      "overflow_y": null,
      "padding": null,
      "right": null,
      "top": null,
      "visibility": null,
      "width": null
     }
    },
    "5e102b9d4fb2427d917ec81df07e36d2": {
     "model_module": "@jupyter-widgets/base",
     "model_module_version": "1.2.0",
     "model_name": "LayoutModel",
     "state": {
      "_model_module": "@jupyter-widgets/base",
      "_model_module_version": "1.2.0",
      "_model_name": "LayoutModel",
      "_view_count": null,
      "_view_module": "@jupyter-widgets/base",
      "_view_module_version": "1.2.0",
      "_view_name": "LayoutView",
      "align_content": null,
      "align_items": null,
      "align_self": null,
      "border": null,
      "bottom": null,
      "display": null,
      "flex": null,
      "flex_flow": null,
      "grid_area": null,
      "grid_auto_columns": null,
      "grid_auto_flow": null,
      "grid_auto_rows": null,
      "grid_column": null,
      "grid_gap": null,
      "grid_row": null,
      "grid_template_areas": null,
      "grid_template_columns": null,
      "grid_template_rows": null,
      "height": null,
      "justify_content": null,
      "justify_items": null,
      "left": null,
      "margin": null,
      "max_height": null,
      "max_width": null,
      "min_height": null,
      "min_width": null,
      "object_fit": null,
      "object_position": null,
      "order": null,
      "overflow": null,
      "overflow_x": null,
      "overflow_y": null,
      "padding": null,
      "right": null,
      "top": null,
      "visibility": null,
      "width": null
     }
    },
    "5e38ace609f64b15bcfce806ee3065dc": {
     "model_module": "@jupyter-widgets/controls",
     "model_module_version": "1.5.0",
     "model_name": "HBoxModel",
     "state": {
      "_dom_classes": [],
      "_model_module": "@jupyter-widgets/controls",
      "_model_module_version": "1.5.0",
      "_model_name": "HBoxModel",
      "_view_count": null,
      "_view_module": "@jupyter-widgets/controls",
      "_view_module_version": "1.5.0",
      "_view_name": "HBoxView",
      "box_style": "",
      "children": [
       "IPY_MODEL_d8f9b64f268544d5bafa46074c2ff35a",
       "IPY_MODEL_cbc482bad7af48f397cddf558e9257ee",
       "IPY_MODEL_21adffcfff844f30a5b0de5acd29d17a"
      ],
      "layout": "IPY_MODEL_b0e71efba7654971bb83e09028f4dcc9"
     }
    },
    "603c30ccd87c4717a84edc97ea8ad5d4": {
     "model_module": "@jupyter-widgets/controls",
     "model_module_version": "1.5.0",
     "model_name": "DescriptionStyleModel",
     "state": {
      "_model_module": "@jupyter-widgets/controls",
      "_model_module_version": "1.5.0",
      "_model_name": "DescriptionStyleModel",
      "_view_count": null,
      "_view_module": "@jupyter-widgets/base",
      "_view_module_version": "1.2.0",
      "_view_name": "StyleView",
      "description_width": ""
     }
    },
    "611145c225374a228d86e5e3f2151ca3": {
     "model_module": "@jupyter-widgets/controls",
     "model_module_version": "1.5.0",
     "model_name": "HTMLModel",
     "state": {
      "_dom_classes": [],
      "_model_module": "@jupyter-widgets/controls",
      "_model_module_version": "1.5.0",
      "_model_name": "HTMLModel",
      "_view_count": null,
      "_view_module": "@jupyter-widgets/controls",
      "_view_module_version": "1.5.0",
      "_view_name": "HTMLView",
      "description": "",
      "description_tooltip": null,
      "layout": "IPY_MODEL_ab7adde9ce924b8b833cb782c64af4f1",
      "placeholder": "​",
      "style": "IPY_MODEL_15e91ddcd31a41ec9bfcb14fcab279a9",
      "value": "special_tokens_map.json: 100%"
     }
    },
    "6124ccdbee204388b71e17f53c7affcd": {
     "model_module": "@jupyter-widgets/base",
     "model_module_version": "1.2.0",
     "model_name": "LayoutModel",
     "state": {
      "_model_module": "@jupyter-widgets/base",
      "_model_module_version": "1.2.0",
      "_model_name": "LayoutModel",
      "_view_count": null,
      "_view_module": "@jupyter-widgets/base",
      "_view_module_version": "1.2.0",
      "_view_name": "LayoutView",
      "align_content": null,
      "align_items": null,
      "align_self": null,
      "border": null,
      "bottom": null,
      "display": null,
      "flex": null,
      "flex_flow": null,
      "grid_area": null,
      "grid_auto_columns": null,
      "grid_auto_flow": null,
      "grid_auto_rows": null,
      "grid_column": null,
      "grid_gap": null,
      "grid_row": null,
      "grid_template_areas": null,
      "grid_template_columns": null,
      "grid_template_rows": null,
      "height": null,
      "justify_content": null,
      "justify_items": null,
      "left": null,
      "margin": null,
      "max_height": null,
      "max_width": null,
      "min_height": null,
      "min_width": null,
      "object_fit": null,
      "object_position": null,
      "order": null,
      "overflow": null,
      "overflow_x": null,
      "overflow_y": null,
      "padding": null,
      "right": null,
      "top": null,
      "visibility": null,
      "width": null
     }
    },
    "619eab817fa340f797cadd7872e21ed6": {
     "model_module": "@jupyter-widgets/controls",
     "model_module_version": "1.5.0",
     "model_name": "FloatProgressModel",
     "state": {
      "_dom_classes": [],
      "_model_module": "@jupyter-widgets/controls",
      "_model_module_version": "1.5.0",
      "_model_name": "FloatProgressModel",
      "_view_count": null,
      "_view_module": "@jupyter-widgets/controls",
      "_view_module_version": "1.5.0",
      "_view_name": "ProgressView",
      "bar_style": "success",
      "description": "",
      "description_tooltip": null,
      "layout": "IPY_MODEL_c2034759e6874efc8d9c5cf9db79bfab",
      "max": 8252554086,
      "min": 0,
      "orientation": "horizontal",
      "style": "IPY_MODEL_1a3b415224c94059b2dd58aad5e934d8",
      "value": 8252554086
     }
    },
    "64ce3c74f8514895b797c0b5b3fac32e": {
     "model_module": "@jupyter-widgets/controls",
     "model_module_version": "1.5.0",
     "model_name": "DescriptionStyleModel",
     "state": {
      "_model_module": "@jupyter-widgets/controls",
      "_model_module_version": "1.5.0",
      "_model_name": "DescriptionStyleModel",
      "_view_count": null,
      "_view_module": "@jupyter-widgets/base",
      "_view_module_version": "1.2.0",
      "_view_name": "StyleView",
      "description_width": ""
     }
    },
    "658331495673440aa43ce687b0e48c49": {
     "model_module": "@jupyter-widgets/base",
     "model_module_version": "1.2.0",
     "model_name": "LayoutModel",
     "state": {
      "_model_module": "@jupyter-widgets/base",
      "_model_module_version": "1.2.0",
      "_model_name": "LayoutModel",
      "_view_count": null,
      "_view_module": "@jupyter-widgets/base",
      "_view_module_version": "1.2.0",
      "_view_name": "LayoutView",
      "align_content": null,
      "align_items": null,
      "align_self": null,
      "border": null,
      "bottom": null,
      "display": null,
      "flex": null,
      "flex_flow": null,
      "grid_area": null,
      "grid_auto_columns": null,
      "grid_auto_flow": null,
      "grid_auto_rows": null,
      "grid_column": null,
      "grid_gap": null,
      "grid_row": null,
      "grid_template_areas": null,
      "grid_template_columns": null,
      "grid_template_rows": null,
      "height": null,
      "justify_content": null,
      "justify_items": null,
      "left": null,
      "margin": null,
      "max_height": null,
      "max_width": null,
      "min_height": null,
      "min_width": null,
      "object_fit": null,
      "object_position": null,
      "order": null,
      "overflow": null,
      "overflow_x": null,
      "overflow_y": null,
      "padding": null,
      "right": null,
      "top": null,
      "visibility": null,
      "width": null
     }
    },
    "67cd8a6f898341d9acaa8e15b553fc73": {
     "model_module": "@jupyter-widgets/controls",
     "model_module_version": "1.5.0",
     "model_name": "FloatProgressModel",
     "state": {
      "_dom_classes": [],
      "_model_module": "@jupyter-widgets/controls",
      "_model_module_version": "1.5.0",
      "_model_name": "FloatProgressModel",
      "_view_count": null,
      "_view_module": "@jupyter-widgets/controls",
      "_view_module_version": "1.5.0",
      "_view_name": "ProgressView",
      "bar_style": "success",
      "description": "",
      "description_tooltip": null,
      "layout": "IPY_MODEL_e396134d110d4a20b503dd86220291b3",
      "max": 1,
      "min": 0,
      "orientation": "horizontal",
      "style": "IPY_MODEL_9a75157adb9b473e960397e834cd53dc",
      "value": 1
     }
    },
    "68c07fdfb2294f7583d41c76b3b6d011": {
     "model_module": "@jupyter-widgets/controls",
     "model_module_version": "1.5.0",
     "model_name": "DescriptionStyleModel",
     "state": {
      "_model_module": "@jupyter-widgets/controls",
      "_model_module_version": "1.5.0",
      "_model_name": "DescriptionStyleModel",
      "_view_count": null,
      "_view_module": "@jupyter-widgets/base",
      "_view_module_version": "1.2.0",
      "_view_name": "StyleView",
      "description_width": ""
     }
    },
    "69dafc01a489408984b68ff423d1c2d2": {
     "model_module": "@jupyter-widgets/base",
     "model_module_version": "1.2.0",
     "model_name": "LayoutModel",
     "state": {
      "_model_module": "@jupyter-widgets/base",
      "_model_module_version": "1.2.0",
      "_model_name": "LayoutModel",
      "_view_count": null,
      "_view_module": "@jupyter-widgets/base",
      "_view_module_version": "1.2.0",
      "_view_name": "LayoutView",
      "align_content": null,
      "align_items": null,
      "align_self": null,
      "border": null,
      "bottom": null,
      "display": null,
      "flex": null,
      "flex_flow": null,
      "grid_area": null,
      "grid_auto_columns": null,
      "grid_auto_flow": null,
      "grid_auto_rows": null,
      "grid_column": null,
      "grid_gap": null,
      "grid_row": null,
      "grid_template_areas": null,
      "grid_template_columns": null,
      "grid_template_rows": null,
      "height": null,
      "justify_content": null,
      "justify_items": null,
      "left": null,
      "margin": null,
      "max_height": null,
      "max_width": null,
      "min_height": null,
      "min_width": null,
      "object_fit": null,
      "object_position": null,
      "order": null,
      "overflow": null,
      "overflow_x": null,
      "overflow_y": null,
      "padding": null,
      "right": null,
      "top": null,
      "visibility": null,
      "width": null
     }
    },
    "6a196be06c5b422cbd54015ebdb75f41": {
     "model_module": "@jupyter-widgets/base",
     "model_module_version": "1.2.0",
     "model_name": "LayoutModel",
     "state": {
      "_model_module": "@jupyter-widgets/base",
      "_model_module_version": "1.2.0",
      "_model_name": "LayoutModel",
      "_view_count": null,
      "_view_module": "@jupyter-widgets/base",
      "_view_module_version": "1.2.0",
      "_view_name": "LayoutView",
      "align_content": null,
      "align_items": null,
      "align_self": null,
      "border": null,
      "bottom": null,
      "display": null,
      "flex": null,
      "flex_flow": null,
      "grid_area": null,
      "grid_auto_columns": null,
      "grid_auto_flow": null,
      "grid_auto_rows": null,
      "grid_column": null,
      "grid_gap": null,
      "grid_row": null,
      "grid_template_areas": null,
      "grid_template_columns": null,
      "grid_template_rows": null,
      "height": null,
      "justify_content": null,
      "justify_items": null,
      "left": null,
      "margin": null,
      "max_height": null,
      "max_width": null,
      "min_height": null,
      "min_width": null,
      "object_fit": null,
      "object_position": null,
      "order": null,
      "overflow": null,
      "overflow_x": null,
      "overflow_y": null,
      "padding": null,
      "right": null,
      "top": null,
      "visibility": null,
      "width": null
     }
    },
    "6c42a9b0a13448d5802d33aa6fb322ee": {
     "model_module": "@jupyter-widgets/controls",
     "model_module_version": "1.5.0",
     "model_name": "DescriptionStyleModel",
     "state": {
      "_model_module": "@jupyter-widgets/controls",
      "_model_module_version": "1.5.0",
      "_model_name": "DescriptionStyleModel",
      "_view_count": null,
      "_view_module": "@jupyter-widgets/base",
      "_view_module_version": "1.2.0",
      "_view_name": "StyleView",
      "description_width": ""
     }
    },
    "7305b0cde6dd487d8350914c2d28d2c4": {
     "model_module": "@jupyter-widgets/base",
     "model_module_version": "1.2.0",
     "model_name": "LayoutModel",
     "state": {
      "_model_module": "@jupyter-widgets/base",
      "_model_module_version": "1.2.0",
      "_model_name": "LayoutModel",
      "_view_count": null,
      "_view_module": "@jupyter-widgets/base",
      "_view_module_version": "1.2.0",
      "_view_name": "LayoutView",
      "align_content": null,
      "align_items": null,
      "align_self": null,
      "border": null,
      "bottom": null,
      "display": null,
      "flex": null,
      "flex_flow": null,
      "grid_area": null,
      "grid_auto_columns": null,
      "grid_auto_flow": null,
      "grid_auto_rows": null,
      "grid_column": null,
      "grid_gap": null,
      "grid_row": null,
      "grid_template_areas": null,
      "grid_template_columns": null,
      "grid_template_rows": null,
      "height": null,
      "justify_content": null,
      "justify_items": null,
      "left": null,
      "margin": null,
      "max_height": null,
      "max_width": null,
      "min_height": null,
      "min_width": null,
      "object_fit": null,
      "object_position": null,
      "order": null,
      "overflow": null,
      "overflow_x": null,
      "overflow_y": null,
      "padding": null,
      "right": null,
      "top": null,
      "visibility": null,
      "width": null
     }
    },
    "754203609318436d92e86ba64c7a9bf0": {
     "model_module": "@jupyter-widgets/base",
     "model_module_version": "1.2.0",
     "model_name": "LayoutModel",
     "state": {
      "_model_module": "@jupyter-widgets/base",
      "_model_module_version": "1.2.0",
      "_model_name": "LayoutModel",
      "_view_count": null,
      "_view_module": "@jupyter-widgets/base",
      "_view_module_version": "1.2.0",
      "_view_name": "LayoutView",
      "align_content": null,
      "align_items": null,
      "align_self": null,
      "border": null,
      "bottom": null,
      "display": null,
      "flex": null,
      "flex_flow": null,
      "grid_area": null,
      "grid_auto_columns": null,
      "grid_auto_flow": null,
      "grid_auto_rows": null,
      "grid_column": null,
      "grid_gap": null,
      "grid_row": null,
      "grid_template_areas": null,
      "grid_template_columns": null,
      "grid_template_rows": null,
      "height": null,
      "justify_content": null,
      "justify_items": null,
      "left": null,
      "margin": null,
      "max_height": null,
      "max_width": null,
      "min_height": null,
      "min_width": null,
      "object_fit": null,
      "object_position": null,
      "order": null,
      "overflow": null,
      "overflow_x": null,
      "overflow_y": null,
      "padding": null,
      "right": null,
      "top": null,
      "visibility": null,
      "width": null
     }
    },
    "78fd4028057e46668c1735b194e32404": {
     "model_module": "@jupyter-widgets/base",
     "model_module_version": "1.2.0",
     "model_name": "LayoutModel",
     "state": {
      "_model_module": "@jupyter-widgets/base",
      "_model_module_version": "1.2.0",
      "_model_name": "LayoutModel",
      "_view_count": null,
      "_view_module": "@jupyter-widgets/base",
      "_view_module_version": "1.2.0",
      "_view_name": "LayoutView",
      "align_content": null,
      "align_items": null,
      "align_self": null,
      "border": null,
      "bottom": null,
      "display": null,
      "flex": null,
      "flex_flow": null,
      "grid_area": null,
      "grid_auto_columns": null,
      "grid_auto_flow": null,
      "grid_auto_rows": null,
      "grid_column": null,
      "grid_gap": null,
      "grid_row": null,
      "grid_template_areas": null,
      "grid_template_columns": null,
      "grid_template_rows": null,
      "height": null,
      "justify_content": null,
      "justify_items": null,
      "left": null,
      "margin": null,
      "max_height": null,
      "max_width": null,
      "min_height": null,
      "min_width": null,
      "object_fit": null,
      "object_position": null,
      "order": null,
      "overflow": null,
      "overflow_x": null,
      "overflow_y": null,
      "padding": null,
      "right": null,
      "top": null,
      "visibility": null,
      "width": null
     }
    },
    "78ffcf4ac0044a75b285bc2197190efa": {
     "model_module": "@jupyter-widgets/controls",
     "model_module_version": "1.5.0",
     "model_name": "DescriptionStyleModel",
     "state": {
      "_model_module": "@jupyter-widgets/controls",
      "_model_module_version": "1.5.0",
      "_model_name": "DescriptionStyleModel",
      "_view_count": null,
      "_view_module": "@jupyter-widgets/base",
      "_view_module_version": "1.2.0",
      "_view_name": "StyleView",
      "description_width": ""
     }
    },
    "7ac6a2481d684e76a7b3f0680921f36f": {
     "model_module": "@jupyter-widgets/controls",
     "model_module_version": "1.5.0",
     "model_name": "HTMLModel",
     "state": {
      "_dom_classes": [],
      "_model_module": "@jupyter-widgets/controls",
      "_model_module_version": "1.5.0",
      "_model_name": "HTMLModel",
      "_view_count": null,
      "_view_module": "@jupyter-widgets/controls",
      "_view_module_version": "1.5.0",
      "_view_name": "HTMLView",
      "description": "",
      "description_tooltip": null,
      "layout": "IPY_MODEL_2af69cd4547043bbbba2368e812b2a13",
      "placeholder": "​",
      "style": "IPY_MODEL_b2f39cf1e6734909ac4ca3f7acc80abc",
      "value": " 500k/500k [00:01&lt;00:00, 27.3kB/s]"
     }
    },
    "7ad3d09320874c808737cd4c5e383262": {
     "model_module": "@jupyter-widgets/controls",
     "model_module_version": "1.5.0",
     "model_name": "DescriptionStyleModel",
     "state": {
      "_model_module": "@jupyter-widgets/controls",
      "_model_module_version": "1.5.0",
      "_model_name": "DescriptionStyleModel",
      "_view_count": null,
      "_view_module": "@jupyter-widgets/base",
      "_view_module_version": "1.2.0",
      "_view_name": "StyleView",
      "description_width": ""
     }
    },
    "7ae12c31352a4e828fa7fdaba052dbed": {
     "model_module": "@jupyter-widgets/base",
     "model_module_version": "1.2.0",
     "model_name": "LayoutModel",
     "state": {
      "_model_module": "@jupyter-widgets/base",
      "_model_module_version": "1.2.0",
      "_model_name": "LayoutModel",
      "_view_count": null,
      "_view_module": "@jupyter-widgets/base",
      "_view_module_version": "1.2.0",
      "_view_name": "LayoutView",
      "align_content": null,
      "align_items": null,
      "align_self": null,
      "border": null,
      "bottom": null,
      "display": null,
      "flex": null,
      "flex_flow": null,
      "grid_area": null,
      "grid_auto_columns": null,
      "grid_auto_flow": null,
      "grid_auto_rows": null,
      "grid_column": null,
      "grid_gap": null,
      "grid_row": null,
      "grid_template_areas": null,
      "grid_template_columns": null,
      "grid_template_rows": null,
      "height": null,
      "justify_content": null,
      "justify_items": null,
      "left": null,
      "margin": null,
      "max_height": null,
      "max_width": null,
      "min_height": null,
      "min_width": null,
      "object_fit": null,
      "object_position": null,
      "order": null,
      "overflow": null,
      "overflow_x": null,
      "overflow_y": null,
      "padding": null,
      "right": null,
      "top": null,
      "visibility": null,
      "width": null
     }
    },
    "7bb128b0ffa94dccb769d2d5437d6dab": {
     "model_module": "@jupyter-widgets/controls",
     "model_module_version": "1.5.0",
     "model_name": "HBoxModel",
     "state": {
      "_dom_classes": [],
      "_model_module": "@jupyter-widgets/controls",
      "_model_module_version": "1.5.0",
      "_model_name": "HBoxModel",
      "_view_count": null,
      "_view_module": "@jupyter-widgets/controls",
      "_view_module_version": "1.5.0",
      "_view_name": "HBoxView",
      "box_style": "",
      "children": [
       "IPY_MODEL_0a9574a08f074204b7ca3de855b08150",
       "IPY_MODEL_1eca531dcd63435db110ffda015516c5",
       "IPY_MODEL_c2f31443295344bc8180b28b1483c26f"
      ],
      "layout": "IPY_MODEL_07001192749d41b0abd6d748bbaf3cd9"
     }
    },
    "7bb152682b544a3b9c9e2d55cf765caa": {
     "model_module": "@jupyter-widgets/controls",
     "model_module_version": "1.5.0",
     "model_name": "FloatProgressModel",
     "state": {
      "_dom_classes": [],
      "_model_module": "@jupyter-widgets/controls",
      "_model_module_version": "1.5.0",
      "_model_name": "FloatProgressModel",
      "_view_count": null,
      "_view_module": "@jupyter-widgets/controls",
      "_view_module_version": "1.5.0",
      "_view_name": "ProgressView",
      "bar_style": "success",
      "description": "",
      "description_tooltip": null,
      "layout": "IPY_MODEL_55c93f7e4ac64075a49d66b7fa61f23d",
      "max": 593,
      "min": 0,
      "orientation": "horizontal",
      "style": "IPY_MODEL_41b22f4256964c25a2f2f3d629a63fe0",
      "value": 593
     }
    },
    "7d321aeffb814d92b4646954ad409c99": {
     "model_module": "@jupyter-widgets/base",
     "model_module_version": "1.2.0",
     "model_name": "LayoutModel",
     "state": {
      "_model_module": "@jupyter-widgets/base",
      "_model_module_version": "1.2.0",
      "_model_name": "LayoutModel",
      "_view_count": null,
      "_view_module": "@jupyter-widgets/base",
      "_view_module_version": "1.2.0",
      "_view_name": "LayoutView",
      "align_content": null,
      "align_items": null,
      "align_self": null,
      "border": null,
      "bottom": null,
      "display": null,
      "flex": null,
      "flex_flow": null,
      "grid_area": null,
      "grid_auto_columns": null,
      "grid_auto_flow": null,
      "grid_auto_rows": null,
      "grid_column": null,
      "grid_gap": null,
      "grid_row": null,
      "grid_template_areas": null,
      "grid_template_columns": null,
      "grid_template_rows": null,
      "height": null,
      "justify_content": null,
      "justify_items": null,
      "left": null,
      "margin": null,
      "max_height": null,
      "max_width": null,
      "min_height": null,
      "min_width": null,
      "object_fit": null,
      "object_position": null,
      "order": null,
      "overflow": null,
      "overflow_x": null,
      "overflow_y": null,
      "padding": null,
      "right": null,
      "top": null,
      "visibility": null,
      "width": null
     }
    },
    "7ecb80a77aaf493398974b5bc5fe4383": {
     "model_module": "@jupyter-widgets/base",
     "model_module_version": "1.2.0",
     "model_name": "LayoutModel",
     "state": {
      "_model_module": "@jupyter-widgets/base",
      "_model_module_version": "1.2.0",
      "_model_name": "LayoutModel",
      "_view_count": null,
      "_view_module": "@jupyter-widgets/base",
      "_view_module_version": "1.2.0",
      "_view_name": "LayoutView",
      "align_content": null,
      "align_items": null,
      "align_self": null,
      "border": null,
      "bottom": null,
      "display": null,
      "flex": null,
      "flex_flow": null,
      "grid_area": null,
      "grid_auto_columns": null,
      "grid_auto_flow": null,
      "grid_auto_rows": null,
      "grid_column": null,
      "grid_gap": null,
      "grid_row": null,
      "grid_template_areas": null,
      "grid_template_columns": null,
      "grid_template_rows": null,
      "height": null,
      "justify_content": null,
      "justify_items": null,
      "left": null,
      "margin": null,
      "max_height": null,
      "max_width": null,
      "min_height": null,
      "min_width": null,
      "object_fit": null,
      "object_position": null,
      "order": null,
      "overflow": null,
      "overflow_x": null,
      "overflow_y": null,
      "padding": null,
      "right": null,
      "top": null,
      "visibility": null,
      "width": null
     }
    },
    "806df11519e1403780a43708018915df": {
     "model_module": "@jupyter-widgets/base",
     "model_module_version": "1.2.0",
     "model_name": "LayoutModel",
     "state": {
      "_model_module": "@jupyter-widgets/base",
      "_model_module_version": "1.2.0",
      "_model_name": "LayoutModel",
      "_view_count": null,
      "_view_module": "@jupyter-widgets/base",
      "_view_module_version": "1.2.0",
      "_view_name": "LayoutView",
      "align_content": null,
      "align_items": null,
      "align_self": null,
      "border": null,
      "bottom": null,
      "display": null,
      "flex": null,
      "flex_flow": null,
      "grid_area": null,
      "grid_auto_columns": null,
      "grid_auto_flow": null,
      "grid_auto_rows": null,
      "grid_column": null,
      "grid_gap": null,
      "grid_row": null,
      "grid_template_areas": null,
      "grid_template_columns": null,
      "grid_template_rows": null,
      "height": null,
      "justify_content": null,
      "justify_items": null,
      "left": null,
      "margin": null,
      "max_height": null,
      "max_width": null,
      "min_height": null,
      "min_width": null,
      "object_fit": null,
      "object_position": null,
      "order": null,
      "overflow": null,
      "overflow_x": null,
      "overflow_y": null,
      "padding": null,
      "right": null,
      "top": null,
      "visibility": null,
      "width": null
     }
    },
    "8172ee28165b43248451ba9a1951cb3b": {
     "model_module": "@jupyter-widgets/base",
     "model_module_version": "1.2.0",
     "model_name": "LayoutModel",
     "state": {
      "_model_module": "@jupyter-widgets/base",
      "_model_module_version": "1.2.0",
      "_model_name": "LayoutModel",
      "_view_count": null,
      "_view_module": "@jupyter-widgets/base",
      "_view_module_version": "1.2.0",
      "_view_name": "LayoutView",
      "align_content": null,
      "align_items": null,
      "align_self": null,
      "border": null,
      "bottom": null,
      "display": null,
      "flex": null,
      "flex_flow": null,
      "grid_area": null,
      "grid_auto_columns": null,
      "grid_auto_flow": null,
      "grid_auto_rows": null,
      "grid_column": null,
      "grid_gap": null,
      "grid_row": null,
      "grid_template_areas": null,
      "grid_template_columns": null,
      "grid_template_rows": null,
      "height": null,
      "justify_content": null,
      "justify_items": null,
      "left": null,
      "margin": null,
      "max_height": null,
      "max_width": null,
      "min_height": null,
      "min_width": null,
      "object_fit": null,
      "object_position": null,
      "order": null,
      "overflow": null,
      "overflow_x": null,
      "overflow_y": null,
      "padding": null,
      "right": null,
      "top": null,
      "visibility": null,
      "width": null
     }
    },
    "844ff64c0e3246a785086f678866d0c8": {
     "model_module": "@jupyter-widgets/controls",
     "model_module_version": "1.5.0",
     "model_name": "DescriptionStyleModel",
     "state": {
      "_model_module": "@jupyter-widgets/controls",
      "_model_module_version": "1.5.0",
      "_model_name": "DescriptionStyleModel",
      "_view_count": null,
      "_view_module": "@jupyter-widgets/base",
      "_view_module_version": "1.2.0",
      "_view_name": "StyleView",
      "description_width": ""
     }
    },
    "8559680e5d154e5ea9c319b945fff094": {
     "model_module": "@jupyter-widgets/controls",
     "model_module_version": "1.5.0",
     "model_name": "HTMLModel",
     "state": {
      "_dom_classes": [],
      "_model_module": "@jupyter-widgets/controls",
      "_model_module_version": "1.5.0",
      "_model_name": "HTMLModel",
      "_view_count": null,
      "_view_module": "@jupyter-widgets/controls",
      "_view_module_version": "1.5.0",
      "_view_name": "HTMLView",
      "description": "",
      "description_tooltip": null,
      "layout": "IPY_MODEL_3c869f343f0343e9806b5a0548f84beb",
      "placeholder": "​",
      "style": "IPY_MODEL_7ad3d09320874c808737cd4c5e383262",
      "value": "Generating train split: "
     }
    },
    "85a37eb1813d47a593d30cd2976e8538": {
     "model_module": "@jupyter-widgets/controls",
     "model_module_version": "1.5.0",
     "model_name": "ProgressStyleModel",
     "state": {
      "_model_module": "@jupyter-widgets/controls",
      "_model_module_version": "1.5.0",
      "_model_name": "ProgressStyleModel",
      "_view_count": null,
      "_view_module": "@jupyter-widgets/base",
      "_view_module_version": "1.2.0",
      "_view_name": "StyleView",
      "bar_color": null,
      "description_width": ""
     }
    },
    "8769473aee0e40538bc39d42d2cf56b6": {
     "model_module": "@jupyter-widgets/base",
     "model_module_version": "1.2.0",
     "model_name": "LayoutModel",
     "state": {
      "_model_module": "@jupyter-widgets/base",
      "_model_module_version": "1.2.0",
      "_model_name": "LayoutModel",
      "_view_count": null,
      "_view_module": "@jupyter-widgets/base",
      "_view_module_version": "1.2.0",
      "_view_name": "LayoutView",
      "align_content": null,
      "align_items": null,
      "align_self": null,
      "border": null,
      "bottom": null,
      "display": null,
      "flex": null,
      "flex_flow": null,
      "grid_area": null,
      "grid_auto_columns": null,
      "grid_auto_flow": null,
      "grid_auto_rows": null,
      "grid_column": null,
      "grid_gap": null,
      "grid_row": null,
      "grid_template_areas": null,
      "grid_template_columns": null,
      "grid_template_rows": null,
      "height": null,
      "justify_content": null,
      "justify_items": null,
      "left": null,
      "margin": null,
      "max_height": null,
      "max_width": null,
      "min_height": null,
      "min_width": null,
      "object_fit": null,
      "object_position": null,
      "order": null,
      "overflow": null,
      "overflow_x": null,
      "overflow_y": null,
      "padding": null,
      "right": null,
      "top": null,
      "visibility": null,
      "width": null
     }
    },
    "88537c0a9d354773be0c7975b6894ad0": {
     "model_module": "@jupyter-widgets/controls",
     "model_module_version": "1.5.0",
     "model_name": "FloatProgressModel",
     "state": {
      "_dom_classes": [],
      "_model_module": "@jupyter-widgets/controls",
      "_model_module_version": "1.5.0",
      "_model_name": "FloatProgressModel",
      "_view_count": null,
      "_view_module": "@jupyter-widgets/controls",
      "_view_module_version": "1.5.0",
      "_view_name": "ProgressView",
      "bar_style": "success",
      "description": "",
      "description_tooltip": null,
      "layout": "IPY_MODEL_8d5e4a5b7dd94a77b12c8185d36c9dc0",
      "max": 3322,
      "min": 0,
      "orientation": "horizontal",
      "style": "IPY_MODEL_a8d56a7050f3406b9f3ceeb4abf9ff2e",
      "value": 3322
     }
    },
    "8c1cdb3ac6484b1080d4b135112e397f": {
     "model_module": "@jupyter-widgets/controls",
     "model_module_version": "1.5.0",
     "model_name": "FloatProgressModel",
     "state": {
      "_dom_classes": [],
      "_model_module": "@jupyter-widgets/controls",
      "_model_module_version": "1.5.0",
      "_model_name": "FloatProgressModel",
      "_view_count": null,
      "_view_module": "@jupyter-widgets/controls",
      "_view_module_version": "1.5.0",
      "_view_name": "ProgressView",
      "bar_style": "success",
      "description": "",
      "description_tooltip": null,
      "layout": "IPY_MODEL_c567c38e1af44e86a6c58aec459ce3e6",
      "max": 46094887,
      "min": 0,
      "orientation": "horizontal",
      "style": "IPY_MODEL_85a37eb1813d47a593d30cd2976e8538",
      "value": 46094887
     }
    },
    "8d181f53c4b944d7a94b4240330bc50e": {
     "model_module": "@jupyter-widgets/controls",
     "model_module_version": "1.5.0",
     "model_name": "DescriptionStyleModel",
     "state": {
      "_model_module": "@jupyter-widgets/controls",
      "_model_module_version": "1.5.0",
      "_model_name": "DescriptionStyleModel",
      "_view_count": null,
      "_view_module": "@jupyter-widgets/base",
      "_view_module_version": "1.2.0",
      "_view_name": "StyleView",
      "description_width": ""
     }
    },
    "8d5e4a5b7dd94a77b12c8185d36c9dc0": {
     "model_module": "@jupyter-widgets/base",
     "model_module_version": "1.2.0",
     "model_name": "LayoutModel",
     "state": {
      "_model_module": "@jupyter-widgets/base",
      "_model_module_version": "1.2.0",
      "_model_name": "LayoutModel",
      "_view_count": null,
      "_view_module": "@jupyter-widgets/base",
      "_view_module_version": "1.2.0",
      "_view_name": "LayoutView",
      "align_content": null,
      "align_items": null,
      "align_self": null,
      "border": null,
      "bottom": null,
      "display": null,
      "flex": null,
      "flex_flow": null,
      "grid_area": null,
      "grid_auto_columns": null,
      "grid_auto_flow": null,
      "grid_auto_rows": null,
      "grid_column": null,
      "grid_gap": null,
      "grid_row": null,
      "grid_template_areas": null,
      "grid_template_columns": null,
      "grid_template_rows": null,
      "height": null,
      "justify_content": null,
      "justify_items": null,
      "left": null,
      "margin": null,
      "max_height": null,
      "max_width": null,
      "min_height": null,
      "min_width": null,
      "object_fit": null,
      "object_position": null,
      "order": null,
      "overflow": null,
      "overflow_x": null,
      "overflow_y": null,
      "padding": null,
      "right": null,
      "top": null,
      "visibility": null,
      "width": null
     }
    },
    "8ebe2c36d093481d80e100ea468b4b8c": {
     "model_module": "@jupyter-widgets/controls",
     "model_module_version": "1.5.0",
     "model_name": "DescriptionStyleModel",
     "state": {
      "_model_module": "@jupyter-widgets/controls",
      "_model_module_version": "1.5.0",
      "_model_name": "DescriptionStyleModel",
      "_view_count": null,
      "_view_module": "@jupyter-widgets/base",
      "_view_module_version": "1.2.0",
      "_view_name": "StyleView",
      "description_width": ""
     }
    },
    "9507ee6f329c4ad595963c2f18655590": {
     "model_module": "@jupyter-widgets/controls",
     "model_module_version": "1.5.0",
     "model_name": "HTMLModel",
     "state": {
      "_dom_classes": [],
      "_model_module": "@jupyter-widgets/controls",
      "_model_module_version": "1.5.0",
      "_model_name": "HTMLModel",
      "_view_count": null,
      "_view_module": "@jupyter-widgets/controls",
      "_view_module_version": "1.5.0",
      "_view_name": "HTMLView",
      "description": "",
      "description_tooltip": null,
      "layout": "IPY_MODEL_6124ccdbee204388b71e17f53c7affcd",
      "placeholder": "​",
      "style": "IPY_MODEL_78ffcf4ac0044a75b285bc2197190efa",
      "value": "\n<b>Pro Tip:</b> If you don't already have one, you can create a dedicated\n'notebooks' token with 'write' access, that you can then easily reuse for all\nnotebooks. </center>"
     }
    },
    "9742c6e5c9e44ef9997893a36523eeab": {
     "model_module": "@jupyter-widgets/controls",
     "model_module_version": "1.5.0",
     "model_name": "FloatProgressModel",
     "state": {
      "_dom_classes": [],
      "_model_module": "@jupyter-widgets/controls",
      "_model_module_version": "1.5.0",
      "_model_name": "FloatProgressModel",
      "_view_count": null,
      "_view_module": "@jupyter-widgets/controls",
      "_view_module_version": "1.5.0",
      "_view_name": "ProgressView",
      "bar_style": "success",
      "description": "",
      "description_tooltip": null,
      "layout": "IPY_MODEL_f6cbf69a27a7499ba12c8aaedc6be24c",
      "max": 511574,
      "min": 0,
      "orientation": "horizontal",
      "style": "IPY_MODEL_4cced782c5d54d0599b34dda0713f969",
      "value": 511574
     }
    },
    "98feee5406c048b6949aa2c58b791d15": {
     "model_module": "@jupyter-widgets/base",
     "model_module_version": "1.2.0",
     "model_name": "LayoutModel",
     "state": {
      "_model_module": "@jupyter-widgets/base",
      "_model_module_version": "1.2.0",
      "_model_name": "LayoutModel",
      "_view_count": null,
      "_view_module": "@jupyter-widgets/base",
      "_view_module_version": "1.2.0",
      "_view_name": "LayoutView",
      "align_content": null,
      "align_items": null,
      "align_self": null,
      "border": null,
      "bottom": null,
      "display": null,
      "flex": null,
      "flex_flow": null,
      "grid_area": null,
      "grid_auto_columns": null,
      "grid_auto_flow": null,
      "grid_auto_rows": null,
      "grid_column": null,
      "grid_gap": null,
      "grid_row": null,
      "grid_template_areas": null,
      "grid_template_columns": null,
      "grid_template_rows": null,
      "height": null,
      "justify_content": null,
      "justify_items": null,
      "left": null,
      "margin": null,
      "max_height": null,
      "max_width": null,
      "min_height": null,
      "min_width": null,
      "object_fit": null,
      "object_position": null,
      "order": null,
      "overflow": null,
      "overflow_x": null,
      "overflow_y": null,
      "padding": null,
      "right": null,
      "top": null,
      "visibility": null,
      "width": null
     }
    },
    "9a67375bdb054dea98f968f3b4cfb87c": {
     "model_module": "@jupyter-widgets/controls",
     "model_module_version": "1.5.0",
     "model_name": "DescriptionStyleModel",
     "state": {
      "_model_module": "@jupyter-widgets/controls",
      "_model_module_version": "1.5.0",
      "_model_name": "DescriptionStyleModel",
      "_view_count": null,
      "_view_module": "@jupyter-widgets/base",
      "_view_module_version": "1.2.0",
      "_view_name": "StyleView",
      "description_width": ""
     }
    },
    "9a75157adb9b473e960397e834cd53dc": {
     "model_module": "@jupyter-widgets/controls",
     "model_module_version": "1.5.0",
     "model_name": "ProgressStyleModel",
     "state": {
      "_model_module": "@jupyter-widgets/controls",
      "_model_module_version": "1.5.0",
      "_model_name": "ProgressStyleModel",
      "_view_count": null,
      "_view_module": "@jupyter-widgets/base",
      "_view_module_version": "1.2.0",
      "_view_name": "StyleView",
      "bar_color": null,
      "description_width": ""
     }
    },
    "9b3478eb92dc4f96859bc2bda3938537": {
     "model_module": "@jupyter-widgets/base",
     "model_module_version": "1.2.0",
     "model_name": "LayoutModel",
     "state": {
      "_model_module": "@jupyter-widgets/base",
      "_model_module_version": "1.2.0",
      "_model_name": "LayoutModel",
      "_view_count": null,
      "_view_module": "@jupyter-widgets/base",
      "_view_module_version": "1.2.0",
      "_view_name": "LayoutView",
      "align_content": null,
      "align_items": null,
      "align_self": null,
      "border": null,
      "bottom": null,
      "display": null,
      "flex": null,
      "flex_flow": null,
      "grid_area": null,
      "grid_auto_columns": null,
      "grid_auto_flow": null,
      "grid_auto_rows": null,
      "grid_column": null,
      "grid_gap": null,
      "grid_row": null,
      "grid_template_areas": null,
      "grid_template_columns": null,
      "grid_template_rows": null,
      "height": null,
      "justify_content": null,
      "justify_items": null,
      "left": null,
      "margin": null,
      "max_height": null,
      "max_width": null,
      "min_height": null,
      "min_width": null,
      "object_fit": null,
      "object_position": null,
      "order": null,
      "overflow": null,
      "overflow_x": null,
      "overflow_y": null,
      "padding": null,
      "right": null,
      "top": null,
      "visibility": null,
      "width": null
     }
    },
    "9e8c4fc165ff448e95d71911c874ea5e": {
     "model_module": "@jupyter-widgets/controls",
     "model_module_version": "1.5.0",
     "model_name": "DescriptionStyleModel",
     "state": {
      "_model_module": "@jupyter-widgets/controls",
      "_model_module_version": "1.5.0",
      "_model_name": "DescriptionStyleModel",
      "_view_count": null,
      "_view_module": "@jupyter-widgets/base",
      "_view_module_version": "1.2.0",
      "_view_name": "StyleView",
      "description_width": ""
     }
    },
    "9ee96c6b2e2c49f983caa72d9761a1ad": {
     "model_module": "@jupyter-widgets/controls",
     "model_module_version": "1.5.0",
     "model_name": "FloatProgressModel",
     "state": {
      "_dom_classes": [],
      "_model_module": "@jupyter-widgets/controls",
      "_model_module_version": "1.5.0",
      "_model_name": "FloatProgressModel",
      "_view_count": null,
      "_view_module": "@jupyter-widgets/controls",
      "_view_module_version": "1.5.0",
      "_view_name": "ProgressView",
      "bar_style": "success",
      "description": "",
      "description_tooltip": null,
      "layout": "IPY_MODEL_22080dcbae6a4ef4b4935b3c5804b24e",
      "max": 469946280,
      "min": 0,
      "orientation": "horizontal",
      "style": "IPY_MODEL_26cb9910e02d4fcea4e2ed3f3627db1c",
      "value": 469946280
     }
    },
    "a031113f764e47fa881798edeabea5b8": {
     "model_module": "@jupyter-widgets/controls",
     "model_module_version": "1.5.0",
     "model_name": "DescriptionStyleModel",
     "state": {
      "_model_module": "@jupyter-widgets/controls",
      "_model_module_version": "1.5.0",
      "_model_name": "DescriptionStyleModel",
      "_view_count": null,
      "_view_module": "@jupyter-widgets/base",
      "_view_module_version": "1.2.0",
      "_view_name": "StyleView",
      "description_width": ""
     }
    },
    "a0cf08c06eff43aeba754b7b3620e1b0": {
     "model_module": "@jupyter-widgets/controls",
     "model_module_version": "1.5.0",
     "model_name": "HBoxModel",
     "state": {
      "_dom_classes": [],
      "_model_module": "@jupyter-widgets/controls",
      "_model_module_version": "1.5.0",
      "_model_name": "HBoxModel",
      "_view_count": null,
      "_view_module": "@jupyter-widgets/controls",
      "_view_module_version": "1.5.0",
      "_view_name": "HBoxView",
      "box_style": "",
      "children": [
       "IPY_MODEL_1c88696e222b4ad2bdfdb426c3413a52",
       "IPY_MODEL_e7e175726dd84a34b87adf3e0a8d6589",
       "IPY_MODEL_7ac6a2481d684e76a7b3f0680921f36f"
      ],
      "layout": "IPY_MODEL_3f2b1d60871e40f5ad3e3c4f2c6ea5cb"
     }
    },
    "a6f80a5de7a14ebbbad996005be6b41a": {
     "model_module": "@jupyter-widgets/base",
     "model_module_version": "1.2.0",
     "model_name": "LayoutModel",
     "state": {
      "_model_module": "@jupyter-widgets/base",
      "_model_module_version": "1.2.0",
      "_model_name": "LayoutModel",
      "_view_count": null,
      "_view_module": "@jupyter-widgets/base",
      "_view_module_version": "1.2.0",
      "_view_name": "LayoutView",
      "align_content": null,
      "align_items": null,
      "align_self": null,
      "border": null,
      "bottom": null,
      "display": null,
      "flex": null,
      "flex_flow": null,
      "grid_area": null,
      "grid_auto_columns": null,
      "grid_auto_flow": null,
      "grid_auto_rows": null,
      "grid_column": null,
      "grid_gap": null,
      "grid_row": null,
      "grid_template_areas": null,
      "grid_template_columns": null,
      "grid_template_rows": null,
      "height": null,
      "justify_content": null,
      "justify_items": null,
      "left": null,
      "margin": null,
      "max_height": null,
      "max_width": null,
      "min_height": null,
      "min_width": null,
      "object_fit": null,
      "object_position": null,
      "order": null,
      "overflow": null,
      "overflow_x": null,
      "overflow_y": null,
      "padding": null,
      "right": null,
      "top": null,
      "visibility": null,
      "width": null
     }
    },
    "a8d56a7050f3406b9f3ceeb4abf9ff2e": {
     "model_module": "@jupyter-widgets/controls",
     "model_module_version": "1.5.0",
     "model_name": "ProgressStyleModel",
     "state": {
      "_model_module": "@jupyter-widgets/controls",
      "_model_module_version": "1.5.0",
      "_model_name": "ProgressStyleModel",
      "_view_count": null,
      "_view_module": "@jupyter-widgets/base",
      "_view_module_version": "1.2.0",
      "_view_name": "StyleView",
      "bar_color": null,
      "description_width": ""
     }
    },
    "ab7adde9ce924b8b833cb782c64af4f1": {
     "model_module": "@jupyter-widgets/base",
     "model_module_version": "1.2.0",
     "model_name": "LayoutModel",
     "state": {
      "_model_module": "@jupyter-widgets/base",
      "_model_module_version": "1.2.0",
      "_model_name": "LayoutModel",
      "_view_count": null,
      "_view_module": "@jupyter-widgets/base",
      "_view_module_version": "1.2.0",
      "_view_name": "LayoutView",
      "align_content": null,
      "align_items": null,
      "align_self": null,
      "border": null,
      "bottom": null,
      "display": null,
      "flex": null,
      "flex_flow": null,
      "grid_area": null,
      "grid_auto_columns": null,
      "grid_auto_flow": null,
      "grid_auto_rows": null,
      "grid_column": null,
      "grid_gap": null,
      "grid_row": null,
      "grid_template_areas": null,
      "grid_template_columns": null,
      "grid_template_rows": null,
      "height": null,
      "justify_content": null,
      "justify_items": null,
      "left": null,
      "margin": null,
      "max_height": null,
      "max_width": null,
      "min_height": null,
      "min_width": null,
      "object_fit": null,
      "object_position": null,
      "order": null,
      "overflow": null,
      "overflow_x": null,
      "overflow_y": null,
      "padding": null,
      "right": null,
      "top": null,
      "visibility": null,
      "width": null
     }
    },
    "abb5a8d46246439490ed170dded4476c": {
     "model_module": "@jupyter-widgets/controls",
     "model_module_version": "1.5.0",
     "model_name": "HBoxModel",
     "state": {
      "_dom_classes": [],
      "_model_module": "@jupyter-widgets/controls",
      "_model_module_version": "1.5.0",
      "_model_name": "HBoxModel",
      "_view_count": null,
      "_view_module": "@jupyter-widgets/controls",
      "_view_module_version": "1.5.0",
      "_view_name": "HBoxView",
      "box_style": "",
      "children": [
       "IPY_MODEL_2a44d5f7fa804ed5bf611e7e628064a1",
       "IPY_MODEL_619eab817fa340f797cadd7872e21ed6",
       "IPY_MODEL_524803a4e7014dceabd4ec2ba7140dfd"
      ],
      "layout": "IPY_MODEL_7ecb80a77aaf493398974b5bc5fe4383"
     }
    },
    "aed6b91f53fb4e84a79fec5e7c3ea551": {
     "model_module": "@jupyter-widgets/controls",
     "model_module_version": "1.5.0",
     "model_name": "HBoxModel",
     "state": {
      "_dom_classes": [],
      "_model_module": "@jupyter-widgets/controls",
      "_model_module_version": "1.5.0",
      "_model_name": "HBoxModel",
      "_view_count": null,
      "_view_module": "@jupyter-widgets/controls",
      "_view_module_version": "1.5.0",
      "_view_name": "HBoxView",
      "box_style": "",
      "children": [
       "IPY_MODEL_163e4c2ef4574e0aaac49e1eb8bbec86",
       "IPY_MODEL_88537c0a9d354773be0c7975b6894ad0",
       "IPY_MODEL_3e5ca1dfe25f488fa09a467ed83b6aea"
      ],
      "layout": "IPY_MODEL_69dafc01a489408984b68ff423d1c2d2"
     }
    },
    "af22b569e6ad4ce9a84a52f527165781": {
     "model_module": "@jupyter-widgets/base",
     "model_module_version": "1.2.0",
     "model_name": "LayoutModel",
     "state": {
      "_model_module": "@jupyter-widgets/base",
      "_model_module_version": "1.2.0",
      "_model_name": "LayoutModel",
      "_view_count": null,
      "_view_module": "@jupyter-widgets/base",
      "_view_module_version": "1.2.0",
      "_view_name": "LayoutView",
      "align_content": null,
      "align_items": null,
      "align_self": null,
      "border": null,
      "bottom": null,
      "display": null,
      "flex": null,
      "flex_flow": null,
      "grid_area": null,
      "grid_auto_columns": null,
      "grid_auto_flow": null,
      "grid_auto_rows": null,
      "grid_column": null,
      "grid_gap": null,
      "grid_row": null,
      "grid_template_areas": null,
      "grid_template_columns": null,
      "grid_template_rows": null,
      "height": null,
      "justify_content": null,
      "justify_items": null,
      "left": null,
      "margin": null,
      "max_height": null,
      "max_width": null,
      "min_height": null,
      "min_width": null,
      "object_fit": null,
      "object_position": null,
      "order": null,
      "overflow": null,
      "overflow_x": null,
      "overflow_y": null,
      "padding": null,
      "right": null,
      "top": null,
      "visibility": null,
      "width": null
     }
    },
    "af74dfa370f548878e10ddf53eaf2699": {
     "model_module": "@jupyter-widgets/controls",
     "model_module_version": "1.5.0",
     "model_name": "HBoxModel",
     "state": {
      "_dom_classes": [],
      "_model_module": "@jupyter-widgets/controls",
      "_model_module_version": "1.5.0",
      "_model_name": "HBoxModel",
      "_view_count": null,
      "_view_module": "@jupyter-widgets/controls",
      "_view_module_version": "1.5.0",
      "_view_name": "HBoxView",
      "box_style": "",
      "children": [
       "IPY_MODEL_36ccf373aeb84d5cb54e8e0910a0d622",
       "IPY_MODEL_9742c6e5c9e44ef9997893a36523eeab",
       "IPY_MODEL_0bbd5eb7abbc4266b33504ec88dfb0aa"
      ],
      "layout": "IPY_MODEL_8172ee28165b43248451ba9a1951cb3b"
     }
    },
    "b0e71efba7654971bb83e09028f4dcc9": {
     "model_module": "@jupyter-widgets/base",
     "model_module_version": "1.2.0",
     "model_name": "LayoutModel",
     "state": {
      "_model_module": "@jupyter-widgets/base",
      "_model_module_version": "1.2.0",
      "_model_name": "LayoutModel",
      "_view_count": null,
      "_view_module": "@jupyter-widgets/base",
      "_view_module_version": "1.2.0",
      "_view_name": "LayoutView",
      "align_content": null,
      "align_items": null,
      "align_self": null,
      "border": null,
      "bottom": null,
      "display": null,
      "flex": null,
      "flex_flow": null,
      "grid_area": null,
      "grid_auto_columns": null,
      "grid_auto_flow": null,
      "grid_auto_rows": null,
      "grid_column": null,
      "grid_gap": null,
      "grid_row": null,
      "grid_template_areas": null,
      "grid_template_columns": null,
      "grid_template_rows": null,
      "height": null,
      "justify_content": null,
      "justify_items": null,
      "left": null,
      "margin": null,
      "max_height": null,
      "max_width": null,
      "min_height": null,
      "min_width": null,
      "object_fit": null,
      "object_position": null,
      "order": null,
      "overflow": null,
      "overflow_x": null,
      "overflow_y": null,
      "padding": null,
      "right": null,
      "top": null,
      "visibility": null,
      "width": null
     }
    },
    "b1b1bb1ab03a49e8b01fa6a457954f0f": {
     "model_module": "@jupyter-widgets/controls",
     "model_module_version": "1.5.0",
     "model_name": "HTMLModel",
     "state": {
      "_dom_classes": [],
      "_model_module": "@jupyter-widgets/controls",
      "_model_module_version": "1.5.0",
      "_model_name": "HTMLModel",
      "_view_count": null,
      "_view_module": "@jupyter-widgets/controls",
      "_view_module_version": "1.5.0",
      "_view_name": "HTMLView",
      "description": "",
      "description_tooltip": null,
      "layout": "IPY_MODEL_fa8816d156dc4e80b72e6f045cc61e1c",
      "placeholder": "​",
      "style": "IPY_MODEL_8d181f53c4b944d7a94b4240330bc50e",
      "value": " 330/330 [00:00&lt;00:00, 35.8kB/s]"
     }
    },
    "b2f39cf1e6734909ac4ca3f7acc80abc": {
     "model_module": "@jupyter-widgets/controls",
     "model_module_version": "1.5.0",
     "model_name": "DescriptionStyleModel",
     "state": {
      "_model_module": "@jupyter-widgets/controls",
      "_model_module_version": "1.5.0",
      "_model_name": "DescriptionStyleModel",
      "_view_count": null,
      "_view_module": "@jupyter-widgets/base",
      "_view_module_version": "1.2.0",
      "_view_name": "StyleView",
      "description_width": ""
     }
    },
    "b354a319de8546c29b0d940f42b559d3": {
     "model_module": "@jupyter-widgets/controls",
     "model_module_version": "1.5.0",
     "model_name": "HTMLModel",
     "state": {
      "_dom_classes": [],
      "_model_module": "@jupyter-widgets/controls",
      "_model_module_version": "1.5.0",
      "_model_name": "HTMLModel",
      "_view_count": null,
      "_view_module": "@jupyter-widgets/controls",
      "_view_module_version": "1.5.0",
      "_view_name": "HTMLView",
      "description": "",
      "description_tooltip": null,
      "layout": "IPY_MODEL_7ae12c31352a4e828fa7fdaba052dbed",
      "placeholder": "​",
      "style": "IPY_MODEL_f7b403792cb44835a0aeeb1e656175df",
      "value": "model.safetensors: 100%"
     }
    },
    "b4487bf76f2742c08eba0b1105e30661": {
     "model_module": "@jupyter-widgets/controls",
     "model_module_version": "1.5.0",
     "model_name": "HBoxModel",
     "state": {
      "_dom_classes": [],
      "_model_module": "@jupyter-widgets/controls",
      "_model_module_version": "1.5.0",
      "_model_name": "HBoxModel",
      "_view_count": null,
      "_view_module": "@jupyter-widgets/controls",
      "_view_module_version": "1.5.0",
      "_view_name": "HBoxView",
      "box_style": "",
      "children": [
       "IPY_MODEL_c9bf036ffe14460a8411bea639931bad",
       "IPY_MODEL_f95158765b774889978b0ce0e9086dc8",
       "IPY_MODEL_0e34c1d9ccd043f3890a97fedb5dec10"
      ],
      "layout": "IPY_MODEL_fea5c026977144a38db95f1159fb4573"
     }
    },
    "b9694fbc0235452aac336b879b88aee3": {
     "model_module": "@jupyter-widgets/base",
     "model_module_version": "1.2.0",
     "model_name": "LayoutModel",
     "state": {
      "_model_module": "@jupyter-widgets/base",
      "_model_module_version": "1.2.0",
      "_model_name": "LayoutModel",
      "_view_count": null,
      "_view_module": "@jupyter-widgets/base",
      "_view_module_version": "1.2.0",
      "_view_name": "LayoutView",
      "align_content": null,
      "align_items": null,
      "align_self": null,
      "border": null,
      "bottom": null,
      "display": null,
      "flex": null,
      "flex_flow": null,
      "grid_area": null,
      "grid_auto_columns": null,
      "grid_auto_flow": null,
      "grid_auto_rows": null,
      "grid_column": null,
      "grid_gap": null,
      "grid_row": null,
      "grid_template_areas": null,
      "grid_template_columns": null,
      "grid_template_rows": null,
      "height": null,
      "justify_content": null,
      "justify_items": null,
      "left": null,
      "margin": null,
      "max_height": null,
      "max_width": null,
      "min_height": null,
      "min_width": null,
      "object_fit": null,
      "object_position": null,
      "order": null,
      "overflow": null,
      "overflow_x": null,
      "overflow_y": null,
      "padding": null,
      "right": null,
      "top": null,
      "visibility": null,
      "width": null
     }
    },
    "bad2c46ba079437ba749e797a731668e": {
     "model_module": "@jupyter-widgets/base",
     "model_module_version": "1.2.0",
     "model_name": "LayoutModel",
     "state": {
      "_model_module": "@jupyter-widgets/base",
      "_model_module_version": "1.2.0",
      "_model_name": "LayoutModel",
      "_view_count": null,
      "_view_module": "@jupyter-widgets/base",
      "_view_module_version": "1.2.0",
      "_view_name": "LayoutView",
      "align_content": null,
      "align_items": null,
      "align_self": null,
      "border": null,
      "bottom": null,
      "display": null,
      "flex": null,
      "flex_flow": null,
      "grid_area": null,
      "grid_auto_columns": null,
      "grid_auto_flow": null,
      "grid_auto_rows": null,
      "grid_column": null,
      "grid_gap": null,
      "grid_row": null,
      "grid_template_areas": null,
      "grid_template_columns": null,
      "grid_template_rows": null,
      "height": null,
      "justify_content": null,
      "justify_items": null,
      "left": null,
      "margin": null,
      "max_height": null,
      "max_width": null,
      "min_height": null,
      "min_width": null,
      "object_fit": null,
      "object_position": null,
      "order": null,
      "overflow": null,
      "overflow_x": null,
      "overflow_y": null,
      "padding": null,
      "right": null,
      "top": null,
      "visibility": null,
      "width": null
     }
    },
    "bcf68a388fee4d73b0506b2436749b8a": {
     "model_module": "@jupyter-widgets/base",
     "model_module_version": "1.2.0",
     "model_name": "LayoutModel",
     "state": {
      "_model_module": "@jupyter-widgets/base",
      "_model_module_version": "1.2.0",
      "_model_name": "LayoutModel",
      "_view_count": null,
      "_view_module": "@jupyter-widgets/base",
      "_view_module_version": "1.2.0",
      "_view_name": "LayoutView",
      "align_content": null,
      "align_items": null,
      "align_self": null,
      "border": null,
      "bottom": null,
      "display": null,
      "flex": null,
      "flex_flow": null,
      "grid_area": null,
      "grid_auto_columns": null,
      "grid_auto_flow": null,
      "grid_auto_rows": null,
      "grid_column": null,
      "grid_gap": null,
      "grid_row": null,
      "grid_template_areas": null,
      "grid_template_columns": null,
      "grid_template_rows": null,
      "height": null,
      "justify_content": null,
      "justify_items": null,
      "left": null,
      "margin": null,
      "max_height": null,
      "max_width": null,
      "min_height": null,
      "min_width": null,
      "object_fit": null,
      "object_position": null,
      "order": null,
      "overflow": null,
      "overflow_x": null,
      "overflow_y": null,
      "padding": null,
      "right": null,
      "top": null,
      "visibility": null,
      "width": null
     }
    },
    "bd4b18c70d644f33a74e81dece32dfbd": {
     "model_module": "@jupyter-widgets/controls",
     "model_module_version": "1.5.0",
     "model_name": "PasswordModel",
     "state": {
      "_dom_classes": [],
      "_model_module": "@jupyter-widgets/controls",
      "_model_module_version": "1.5.0",
      "_model_name": "PasswordModel",
      "_view_count": null,
      "_view_module": "@jupyter-widgets/controls",
      "_view_module_version": "1.5.0",
      "_view_name": "PasswordView",
      "continuous_update": true,
      "description": "Token:",
      "description_tooltip": null,
      "disabled": false,
      "layout": "IPY_MODEL_af22b569e6ad4ce9a84a52f527165781",
      "placeholder": "​",
      "style": "IPY_MODEL_844ff64c0e3246a785086f678866d0c8",
      "value": ""
     }
    },
    "bee65b5decaa4e99b6d7402959146982": {
     "model_module": "@jupyter-widgets/base",
     "model_module_version": "1.2.0",
     "model_name": "LayoutModel",
     "state": {
      "_model_module": "@jupyter-widgets/base",
      "_model_module_version": "1.2.0",
      "_model_name": "LayoutModel",
      "_view_count": null,
      "_view_module": "@jupyter-widgets/base",
      "_view_module_version": "1.2.0",
      "_view_name": "LayoutView",
      "align_content": null,
      "align_items": null,
      "align_self": null,
      "border": null,
      "bottom": null,
      "display": null,
      "flex": null,
      "flex_flow": null,
      "grid_area": null,
      "grid_auto_columns": null,
      "grid_auto_flow": null,
      "grid_auto_rows": null,
      "grid_column": null,
      "grid_gap": null,
      "grid_row": null,
      "grid_template_areas": null,
      "grid_template_columns": null,
      "grid_template_rows": null,
      "height": null,
      "justify_content": null,
      "justify_items": null,
      "left": null,
      "margin": null,
      "max_height": null,
      "max_width": null,
      "min_height": null,
      "min_width": null,
      "object_fit": null,
      "object_position": null,
      "order": null,
      "overflow": null,
      "overflow_x": null,
      "overflow_y": null,
      "padding": null,
      "right": null,
      "top": null,
      "visibility": null,
      "width": null
     }
    },
    "bf238fb64da24113a038959bf541b661": {
     "model_module": "@jupyter-widgets/controls",
     "model_module_version": "1.5.0",
     "model_name": "DescriptionStyleModel",
     "state": {
      "_model_module": "@jupyter-widgets/controls",
      "_model_module_version": "1.5.0",
      "_model_name": "DescriptionStyleModel",
      "_view_count": null,
      "_view_module": "@jupyter-widgets/base",
      "_view_module_version": "1.2.0",
      "_view_name": "StyleView",
      "description_width": ""
     }
    },
    "c2034759e6874efc8d9c5cf9db79bfab": {
     "model_module": "@jupyter-widgets/base",
     "model_module_version": "1.2.0",
     "model_name": "LayoutModel",
     "state": {
      "_model_module": "@jupyter-widgets/base",
      "_model_module_version": "1.2.0",
      "_model_name": "LayoutModel",
      "_view_count": null,
      "_view_module": "@jupyter-widgets/base",
      "_view_module_version": "1.2.0",
      "_view_name": "LayoutView",
      "align_content": null,
      "align_items": null,
      "align_self": null,
      "border": null,
      "bottom": null,
      "display": null,
      "flex": null,
      "flex_flow": null,
      "grid_area": null,
      "grid_auto_columns": null,
      "grid_auto_flow": null,
      "grid_auto_rows": null,
      "grid_column": null,
      "grid_gap": null,
      "grid_row": null,
      "grid_template_areas": null,
      "grid_template_columns": null,
      "grid_template_rows": null,
      "height": null,
      "justify_content": null,
      "justify_items": null,
      "left": null,
      "margin": null,
      "max_height": null,
      "max_width": null,
      "min_height": null,
      "min_width": null,
      "object_fit": null,
      "object_position": null,
      "order": null,
      "overflow": null,
      "overflow_x": null,
      "overflow_y": null,
      "padding": null,
      "right": null,
      "top": null,
      "visibility": null,
      "width": null
     }
    },
    "c238b4e00a9b458a8b6f32237fae7a88": {
     "model_module": "@jupyter-widgets/base",
     "model_module_version": "1.2.0",
     "model_name": "LayoutModel",
     "state": {
      "_model_module": "@jupyter-widgets/base",
      "_model_module_version": "1.2.0",
      "_model_name": "LayoutModel",
      "_view_count": null,
      "_view_module": "@jupyter-widgets/base",
      "_view_module_version": "1.2.0",
      "_view_name": "LayoutView",
      "align_content": null,
      "align_items": null,
      "align_self": null,
      "border": null,
      "bottom": null,
      "display": null,
      "flex": null,
      "flex_flow": null,
      "grid_area": null,
      "grid_auto_columns": null,
      "grid_auto_flow": null,
      "grid_auto_rows": null,
      "grid_column": null,
      "grid_gap": null,
      "grid_row": null,
      "grid_template_areas": null,
      "grid_template_columns": null,
      "grid_template_rows": null,
      "height": null,
      "justify_content": null,
      "justify_items": null,
      "left": null,
      "margin": null,
      "max_height": null,
      "max_width": null,
      "min_height": null,
      "min_width": null,
      "object_fit": null,
      "object_position": null,
      "order": null,
      "overflow": null,
      "overflow_x": null,
      "overflow_y": null,
      "padding": null,
      "right": null,
      "top": null,
      "visibility": null,
      "width": null
     }
    },
    "c2a8f5b18b884ebea554fd111663e4ea": {
     "model_module": "@jupyter-widgets/controls",
     "model_module_version": "1.5.0",
     "model_name": "HTMLModel",
     "state": {
      "_dom_classes": [],
      "_model_module": "@jupyter-widgets/controls",
      "_model_module_version": "1.5.0",
      "_model_name": "HTMLModel",
      "_view_count": null,
      "_view_module": "@jupyter-widgets/controls",
      "_view_module_version": "1.5.0",
      "_view_name": "HTMLView",
      "description": "",
      "description_tooltip": null,
      "layout": "IPY_MODEL_c238b4e00a9b458a8b6f32237fae7a88",
      "placeholder": "​",
      "style": "IPY_MODEL_338f82f3d49541d7ae9e2c9c8d72708e",
      "value": " 4.86k/4.86k [00:01&lt;00:00, 9.24kB/s]"
     }
    },
    "c2f31443295344bc8180b28b1483c26f": {
     "model_module": "@jupyter-widgets/controls",
     "model_module_version": "1.5.0",
     "model_name": "HTMLModel",
     "state": {
      "_dom_classes": [],
      "_model_module": "@jupyter-widgets/controls",
      "_model_module_version": "1.5.0",
      "_model_name": "HTMLModel",
      "_view_count": null,
      "_view_module": "@jupyter-widgets/controls",
      "_view_module_version": "1.5.0",
      "_view_name": "HTMLView",
      "description": "",
      "description_tooltip": null,
      "layout": "IPY_MODEL_34bab208d91645b8b5c063c3056d443f",
      "placeholder": "​",
      "style": "IPY_MODEL_a031113f764e47fa881798edeabea5b8",
      "value": " 6.94k/6.94k [00:01&lt;00:00, 10.4kB/s]"
     }
    },
    "c567c38e1af44e86a6c58aec459ce3e6": {
     "model_module": "@jupyter-widgets/base",
     "model_module_version": "1.2.0",
     "model_name": "LayoutModel",
     "state": {
      "_model_module": "@jupyter-widgets/base",
      "_model_module_version": "1.2.0",
      "_model_name": "LayoutModel",
      "_view_count": null,
      "_view_module": "@jupyter-widgets/base",
      "_view_module_version": "1.2.0",
      "_view_name": "LayoutView",
      "align_content": null,
      "align_items": null,
      "align_self": null,
      "border": null,
      "bottom": null,
      "display": null,
      "flex": null,
      "flex_flow": null,
      "grid_area": null,
      "grid_auto_columns": null,
      "grid_auto_flow": null,
      "grid_auto_rows": null,
      "grid_column": null,
      "grid_gap": null,
      "grid_row": null,
      "grid_template_areas": null,
      "grid_template_columns": null,
      "grid_template_rows": null,
      "height": null,
      "justify_content": null,
      "justify_items": null,
      "left": null,
      "margin": null,
      "max_height": null,
      "max_width": null,
      "min_height": null,
      "min_width": null,
      "object_fit": null,
      "object_position": null,
      "order": null,
      "overflow": null,
      "overflow_x": null,
      "overflow_y": null,
      "padding": null,
      "right": null,
      "top": null,
      "visibility": null,
      "width": null
     }
    },
    "c572910fa0cb4b91b919845b260846d7": {
     "model_module": "@jupyter-widgets/controls",
     "model_module_version": "1.5.0",
     "model_name": "HBoxModel",
     "state": {
      "_dom_classes": [],
      "_model_module": "@jupyter-widgets/controls",
      "_model_module_version": "1.5.0",
      "_model_name": "HBoxModel",
      "_view_count": null,
      "_view_module": "@jupyter-widgets/controls",
      "_view_module_version": "1.5.0",
      "_view_name": "HBoxView",
      "box_style": "",
      "children": [
       "IPY_MODEL_ce3c7432f0dd48e08359efe976f32364",
       "IPY_MODEL_8c1cdb3ac6484b1080d4b135112e397f",
       "IPY_MODEL_3127d3d8efde4d748e35ed91915f8b0e"
      ],
      "layout": "IPY_MODEL_113c110fda9f42f0bfa14a1a7efb937e"
     }
    },
    "c5c4e4052fe84172913ae83b5cd3035e": {
     "model_module": "@jupyter-widgets/controls",
     "model_module_version": "1.5.0",
     "model_name": "ButtonModel",
     "state": {
      "_dom_classes": [],
      "_model_module": "@jupyter-widgets/controls",
      "_model_module_version": "1.5.0",
      "_model_name": "ButtonModel",
      "_view_count": null,
      "_view_module": "@jupyter-widgets/controls",
      "_view_module_version": "1.5.0",
      "_view_name": "ButtonView",
      "button_style": "",
      "description": "Login",
      "disabled": false,
      "icon": "",
      "layout": "IPY_MODEL_754203609318436d92e86ba64c7a9bf0",
      "style": "IPY_MODEL_2a04d54a58d74e17afcd9fbff6e6daf8",
      "tooltip": ""
     }
    },
    "c661c7f9ce274db3a6c6c0699d6d4b42": {
     "model_module": "@jupyter-widgets/controls",
     "model_module_version": "1.5.0",
     "model_name": "ProgressStyleModel",
     "state": {
      "_model_module": "@jupyter-widgets/controls",
      "_model_module_version": "1.5.0",
      "_model_name": "ProgressStyleModel",
      "_view_count": null,
      "_view_module": "@jupyter-widgets/base",
      "_view_module_version": "1.2.0",
      "_view_name": "StyleView",
      "bar_color": null,
      "description_width": ""
     }
    },
    "c9bf036ffe14460a8411bea639931bad": {
     "model_module": "@jupyter-widgets/controls",
     "model_module_version": "1.5.0",
     "model_name": "HTMLModel",
     "state": {
      "_dom_classes": [],
      "_model_module": "@jupyter-widgets/controls",
      "_model_module_version": "1.5.0",
      "_model_name": "HTMLModel",
      "_view_count": null,
      "_view_module": "@jupyter-widgets/controls",
      "_view_module_version": "1.5.0",
      "_view_name": "HTMLView",
      "description": "",
      "description_tooltip": null,
      "layout": "IPY_MODEL_1e9b545e32af43e0af906b3bcf01b576",
      "placeholder": "​",
      "style": "IPY_MODEL_1d2559f40fbd4a308bcbdc290844445a",
      "value": "events.out.tfevents.1710100129.2320e368804f.17295.0: 100%"
     }
    },
    "c9d754ef987847e0b237f3999be97646": {
     "model_module": "@jupyter-widgets/controls",
     "model_module_version": "1.5.0",
     "model_name": "DescriptionStyleModel",
     "state": {
      "_model_module": "@jupyter-widgets/controls",
      "_model_module_version": "1.5.0",
      "_model_name": "DescriptionStyleModel",
      "_view_count": null,
      "_view_module": "@jupyter-widgets/base",
      "_view_module_version": "1.2.0",
      "_view_name": "StyleView",
      "description_width": ""
     }
    },
    "cbc482bad7af48f397cddf558e9257ee": {
     "model_module": "@jupyter-widgets/controls",
     "model_module_version": "1.5.0",
     "model_name": "FloatProgressModel",
     "state": {
      "_dom_classes": [],
      "_model_module": "@jupyter-widgets/controls",
      "_model_module_version": "1.5.0",
      "_model_name": "FloatProgressModel",
      "_view_count": null,
      "_view_module": "@jupyter-widgets/controls",
      "_view_module_version": "1.5.0",
      "_view_name": "ProgressView",
      "bar_style": "success",
      "description": "",
      "description_tooltip": null,
      "layout": "IPY_MODEL_e11e7fc2d58a44e5950898643bbed894",
      "max": 5,
      "min": 0,
      "orientation": "horizontal",
      "style": "IPY_MODEL_c661c7f9ce274db3a6c6c0699d6d4b42",
      "value": 5
     }
    },
    "ce268b5dd5024202bdd5c3b75a35cb61": {
     "model_module": "@jupyter-widgets/base",
     "model_module_version": "1.2.0",
     "model_name": "LayoutModel",
     "state": {
      "_model_module": "@jupyter-widgets/base",
      "_model_module_version": "1.2.0",
      "_model_name": "LayoutModel",
      "_view_count": null,
      "_view_module": "@jupyter-widgets/base",
      "_view_module_version": "1.2.0",
      "_view_name": "LayoutView",
      "align_content": null,
      "align_items": null,
      "align_self": null,
      "border": null,
      "bottom": null,
      "display": null,
      "flex": null,
      "flex_flow": null,
      "grid_area": null,
      "grid_auto_columns": null,
      "grid_auto_flow": null,
      "grid_auto_rows": null,
      "grid_column": null,
      "grid_gap": null,
      "grid_row": null,
      "grid_template_areas": null,
      "grid_template_columns": null,
      "grid_template_rows": null,
      "height": null,
      "justify_content": null,
      "justify_items": null,
      "left": null,
      "margin": null,
      "max_height": null,
      "max_width": null,
      "min_height": null,
      "min_width": null,
      "object_fit": null,
      "object_position": null,
      "order": null,
      "overflow": null,
      "overflow_x": null,
      "overflow_y": null,
      "padding": null,
      "right": null,
      "top": null,
      "visibility": null,
      "width": null
     }
    },
    "ce3c7432f0dd48e08359efe976f32364": {
     "model_module": "@jupyter-widgets/controls",
     "model_module_version": "1.5.0",
     "model_name": "HTMLModel",
     "state": {
      "_dom_classes": [],
      "_model_module": "@jupyter-widgets/controls",
      "_model_module_version": "1.5.0",
      "_model_name": "HTMLModel",
      "_view_count": null,
      "_view_module": "@jupyter-widgets/controls",
      "_view_module_version": "1.5.0",
      "_view_name": "HTMLView",
      "description": "",
      "description_tooltip": null,
      "layout": "IPY_MODEL_3009a0585e6e4e03931db3f5259812cb",
      "placeholder": "​",
      "style": "IPY_MODEL_02cc52ce26814dffb508b941bc130390",
      "value": "codeparrot-ds-valid.jsonl: 100%"
     }
    },
    "cf74a1ab85034f53b37c3e9a9d6d0d83": {
     "model_module": "@jupyter-widgets/controls",
     "model_module_version": "1.5.0",
     "model_name": "ProgressStyleModel",
     "state": {
      "_model_module": "@jupyter-widgets/controls",
      "_model_module_version": "1.5.0",
      "_model_name": "ProgressStyleModel",
      "_view_count": null,
      "_view_module": "@jupyter-widgets/base",
      "_view_module_version": "1.2.0",
      "_view_name": "StyleView",
      "bar_color": null,
      "description_width": ""
     }
    },
    "d316e691c15c447e8a44236cce60456c": {
     "model_module": "@jupyter-widgets/controls",
     "model_module_version": "1.5.0",
     "model_name": "HTMLModel",
     "state": {
      "_dom_classes": [],
      "_model_module": "@jupyter-widgets/controls",
      "_model_module_version": "1.5.0",
      "_model_name": "HTMLModel",
      "_view_count": null,
      "_view_module": "@jupyter-widgets/controls",
      "_view_module_version": "1.5.0",
      "_view_name": "HTMLView",
      "description": "",
      "description_tooltip": null,
      "layout": "IPY_MODEL_ce268b5dd5024202bdd5c3b75a35cb61",
      "placeholder": "​",
      "style": "IPY_MODEL_c9d754ef987847e0b237f3999be97646",
      "value": "training_args.bin: 100%"
     }
    },
    "d5eec0f20d3c40a39d7e3e4206b5033d": {
     "model_module": "@jupyter-widgets/base",
     "model_module_version": "1.2.0",
     "model_name": "LayoutModel",
     "state": {
      "_model_module": "@jupyter-widgets/base",
      "_model_module_version": "1.2.0",
      "_model_name": "LayoutModel",
      "_view_count": null,
      "_view_module": "@jupyter-widgets/base",
      "_view_module_version": "1.2.0",
      "_view_name": "LayoutView",
      "align_content": null,
      "align_items": "center",
      "align_self": null,
      "border": null,
      "bottom": null,
      "display": "flex",
      "flex": null,
      "flex_flow": "column",
      "grid_area": null,
      "grid_auto_columns": null,
      "grid_auto_flow": null,
      "grid_auto_rows": null,
      "grid_column": null,
      "grid_gap": null,
      "grid_row": null,
      "grid_template_areas": null,
      "grid_template_columns": null,
      "grid_template_rows": null,
      "height": null,
      "justify_content": null,
      "justify_items": null,
      "left": null,
      "margin": null,
      "max_height": null,
      "max_width": null,
      "min_height": null,
      "min_width": null,
      "object_fit": null,
      "object_position": null,
      "order": null,
      "overflow": null,
      "overflow_x": null,
      "overflow_y": null,
      "padding": null,
      "right": null,
      "top": null,
      "visibility": null,
      "width": "50%"
     }
    },
    "d630025881c44bf0bef2bc895f71a6e3": {
     "model_module": "@jupyter-widgets/controls",
     "model_module_version": "1.5.0",
     "model_name": "HBoxModel",
     "state": {
      "_dom_classes": [],
      "_model_module": "@jupyter-widgets/controls",
      "_model_module_version": "1.5.0",
      "_model_name": "HBoxModel",
      "_view_count": null,
      "_view_module": "@jupyter-widgets/controls",
      "_view_module_version": "1.5.0",
      "_view_name": "HBoxView",
      "box_style": "",
      "children": [
       "IPY_MODEL_d316e691c15c447e8a44236cce60456c",
       "IPY_MODEL_1b245d7b64014a26bec5cabc98e6dc3e",
       "IPY_MODEL_c2a8f5b18b884ebea554fd111663e4ea"
      ],
      "layout": "IPY_MODEL_24660e8628ba48cab9d04624cdbed1e6"
     }
    },
    "d8f9b64f268544d5bafa46074c2ff35a": {
     "model_module": "@jupyter-widgets/controls",
     "model_module_version": "1.5.0",
     "model_name": "HTMLModel",
     "state": {
      "_dom_classes": [],
      "_model_module": "@jupyter-widgets/controls",
      "_model_module_version": "1.5.0",
      "_model_name": "HTMLModel",
      "_view_count": null,
      "_view_module": "@jupyter-widgets/controls",
      "_view_module_version": "1.5.0",
      "_view_name": "HTMLView",
      "description": "",
      "description_tooltip": null,
      "layout": "IPY_MODEL_7d321aeffb814d92b4646954ad409c99",
      "placeholder": "​",
      "style": "IPY_MODEL_4262eed1c0c14edd9cc11770859e6c0c",
      "value": "Upload 5 LFS files: 100%"
     }
    },
    "d92aa99340974a0aad6eb2a150795df7": {
     "model_module": "@jupyter-widgets/controls",
     "model_module_version": "1.5.0",
     "model_name": "ProgressStyleModel",
     "state": {
      "_model_module": "@jupyter-widgets/controls",
      "_model_module_version": "1.5.0",
      "_model_name": "ProgressStyleModel",
      "_view_count": null,
      "_view_module": "@jupyter-widgets/base",
      "_view_module_version": "1.2.0",
      "_view_name": "StyleView",
      "bar_color": null,
      "description_width": ""
     }
    },
    "dad76e27a1224dd6ac34214d5cf18fdd": {
     "model_module": "@jupyter-widgets/controls",
     "model_module_version": "1.5.0",
     "model_name": "DescriptionStyleModel",
     "state": {
      "_model_module": "@jupyter-widgets/controls",
      "_model_module_version": "1.5.0",
      "_model_name": "DescriptionStyleModel",
      "_view_count": null,
      "_view_module": "@jupyter-widgets/base",
      "_view_module_version": "1.2.0",
      "_view_name": "StyleView",
      "description_width": ""
     }
    },
    "dd70c87a8bd84ba2a6487636ff239f05": {
     "model_module": "@jupyter-widgets/base",
     "model_module_version": "1.2.0",
     "model_name": "LayoutModel",
     "state": {
      "_model_module": "@jupyter-widgets/base",
      "_model_module_version": "1.2.0",
      "_model_name": "LayoutModel",
      "_view_count": null,
      "_view_module": "@jupyter-widgets/base",
      "_view_module_version": "1.2.0",
      "_view_name": "LayoutView",
      "align_content": null,
      "align_items": null,
      "align_self": null,
      "border": null,
      "bottom": null,
      "display": null,
      "flex": null,
      "flex_flow": null,
      "grid_area": null,
      "grid_auto_columns": null,
      "grid_auto_flow": null,
      "grid_auto_rows": null,
      "grid_column": null,
      "grid_gap": null,
      "grid_row": null,
      "grid_template_areas": null,
      "grid_template_columns": null,
      "grid_template_rows": null,
      "height": null,
      "justify_content": null,
      "justify_items": null,
      "left": null,
      "margin": null,
      "max_height": null,
      "max_width": null,
      "min_height": null,
      "min_width": null,
      "object_fit": null,
      "object_position": null,
      "order": null,
      "overflow": null,
      "overflow_x": null,
      "overflow_y": null,
      "padding": null,
      "right": null,
      "top": null,
      "visibility": null,
      "width": null
     }
    },
    "e0b5f7dd4d6448eb89fdee49324ebccf": {
     "model_module": "@jupyter-widgets/controls",
     "model_module_version": "1.5.0",
     "model_name": "DescriptionStyleModel",
     "state": {
      "_model_module": "@jupyter-widgets/controls",
      "_model_module_version": "1.5.0",
      "_model_name": "DescriptionStyleModel",
      "_view_count": null,
      "_view_module": "@jupyter-widgets/base",
      "_view_module_version": "1.2.0",
      "_view_name": "StyleView",
      "description_width": ""
     }
    },
    "e11e7fc2d58a44e5950898643bbed894": {
     "model_module": "@jupyter-widgets/base",
     "model_module_version": "1.2.0",
     "model_name": "LayoutModel",
     "state": {
      "_model_module": "@jupyter-widgets/base",
      "_model_module_version": "1.2.0",
      "_model_name": "LayoutModel",
      "_view_count": null,
      "_view_module": "@jupyter-widgets/base",
      "_view_module_version": "1.2.0",
      "_view_name": "LayoutView",
      "align_content": null,
      "align_items": null,
      "align_self": null,
      "border": null,
      "bottom": null,
      "display": null,
      "flex": null,
      "flex_flow": null,
      "grid_area": null,
      "grid_auto_columns": null,
      "grid_auto_flow": null,
      "grid_auto_rows": null,
      "grid_column": null,
      "grid_gap": null,
      "grid_row": null,
      "grid_template_areas": null,
      "grid_template_columns": null,
      "grid_template_rows": null,
      "height": null,
      "justify_content": null,
      "justify_items": null,
      "left": null,
      "margin": null,
      "max_height": null,
      "max_width": null,
      "min_height": null,
      "min_width": null,
      "object_fit": null,
      "object_position": null,
      "order": null,
      "overflow": null,
      "overflow_x": null,
      "overflow_y": null,
      "padding": null,
      "right": null,
      "top": null,
      "visibility": null,
      "width": null
     }
    },
    "e1acf25614dd4bdcb2fe424a10595bdd": {
     "model_module": "@jupyter-widgets/controls",
     "model_module_version": "1.5.0",
     "model_name": "VBoxModel",
     "state": {
      "_dom_classes": [],
      "_model_module": "@jupyter-widgets/controls",
      "_model_module_version": "1.5.0",
      "_model_name": "VBoxModel",
      "_view_count": null,
      "_view_module": "@jupyter-widgets/controls",
      "_view_module_version": "1.5.0",
      "_view_name": "VBoxView",
      "box_style": "",
      "children": [],
      "layout": "IPY_MODEL_d5eec0f20d3c40a39d7e3e4206b5033d"
     }
    },
    "e396134d110d4a20b503dd86220291b3": {
     "model_module": "@jupyter-widgets/base",
     "model_module_version": "1.2.0",
     "model_name": "LayoutModel",
     "state": {
      "_model_module": "@jupyter-widgets/base",
      "_model_module_version": "1.2.0",
      "_model_name": "LayoutModel",
      "_view_count": null,
      "_view_module": "@jupyter-widgets/base",
      "_view_module_version": "1.2.0",
      "_view_name": "LayoutView",
      "align_content": null,
      "align_items": null,
      "align_self": null,
      "border": null,
      "bottom": null,
      "display": null,
      "flex": null,
      "flex_flow": null,
      "grid_area": null,
      "grid_auto_columns": null,
      "grid_auto_flow": null,
      "grid_auto_rows": null,
      "grid_column": null,
      "grid_gap": null,
      "grid_row": null,
      "grid_template_areas": null,
      "grid_template_columns": null,
      "grid_template_rows": null,
      "height": null,
      "justify_content": null,
      "justify_items": null,
      "left": null,
      "margin": null,
      "max_height": null,
      "max_width": null,
      "min_height": null,
      "min_width": null,
      "object_fit": null,
      "object_position": null,
      "order": null,
      "overflow": null,
      "overflow_x": null,
      "overflow_y": null,
      "padding": null,
      "right": null,
      "top": null,
      "visibility": null,
      "width": "20px"
     }
    },
    "e50becb5a5294908a735f4ced06cb8b2": {
     "model_module": "@jupyter-widgets/controls",
     "model_module_version": "1.5.0",
     "model_name": "DescriptionStyleModel",
     "state": {
      "_model_module": "@jupyter-widgets/controls",
      "_model_module_version": "1.5.0",
      "_model_name": "DescriptionStyleModel",
      "_view_count": null,
      "_view_module": "@jupyter-widgets/base",
      "_view_module_version": "1.2.0",
      "_view_name": "StyleView",
      "description_width": ""
     }
    },
    "e7e175726dd84a34b87adf3e0a8d6589": {
     "model_module": "@jupyter-widgets/controls",
     "model_module_version": "1.5.0",
     "model_name": "FloatProgressModel",
     "state": {
      "_dom_classes": [],
      "_model_module": "@jupyter-widgets/controls",
      "_model_module_version": "1.5.0",
      "_model_name": "FloatProgressModel",
      "_view_count": null,
      "_view_module": "@jupyter-widgets/controls",
      "_view_module_version": "1.5.0",
      "_view_name": "ProgressView",
      "bar_style": "success",
      "description": "",
      "description_tooltip": null,
      "layout": "IPY_MODEL_5e102b9d4fb2427d917ec81df07e36d2",
      "max": 499723,
      "min": 0,
      "orientation": "horizontal",
      "style": "IPY_MODEL_d92aa99340974a0aad6eb2a150795df7",
      "value": 499723
     }
    },
    "ead38b58a26047039c9d686ec1b70cd6": {
     "model_module": "@jupyter-widgets/controls",
     "model_module_version": "1.5.0",
     "model_name": "LabelModel",
     "state": {
      "_dom_classes": [],
      "_model_module": "@jupyter-widgets/controls",
      "_model_module_version": "1.5.0",
      "_model_name": "LabelModel",
      "_view_count": null,
      "_view_module": "@jupyter-widgets/controls",
      "_view_module_version": "1.5.0",
      "_view_name": "LabelView",
      "description": "",
      "description_tooltip": null,
      "layout": "IPY_MODEL_f0253232491f426eaeef599f7f65f0ec",
      "placeholder": "​",
      "style": "IPY_MODEL_1d3d7fd19a6148f392268137fd0eede5",
      "value": "Connecting..."
     }
    },
    "ec793c2d5b974fb881fbbd8109d3e4f0": {
     "model_module": "@jupyter-widgets/controls",
     "model_module_version": "1.5.0",
     "model_name": "DescriptionStyleModel",
     "state": {
      "_model_module": "@jupyter-widgets/controls",
      "_model_module_version": "1.5.0",
      "_model_name": "DescriptionStyleModel",
      "_view_count": null,
      "_view_module": "@jupyter-widgets/base",
      "_view_module_version": "1.2.0",
      "_view_name": "StyleView",
      "description_width": ""
     }
    },
    "f0253232491f426eaeef599f7f65f0ec": {
     "model_module": "@jupyter-widgets/base",
     "model_module_version": "1.2.0",
     "model_name": "LayoutModel",
     "state": {
      "_model_module": "@jupyter-widgets/base",
      "_model_module_version": "1.2.0",
      "_model_name": "LayoutModel",
      "_view_count": null,
      "_view_module": "@jupyter-widgets/base",
      "_view_module_version": "1.2.0",
      "_view_name": "LayoutView",
      "align_content": null,
      "align_items": null,
      "align_self": null,
      "border": null,
      "bottom": null,
      "display": null,
      "flex": null,
      "flex_flow": null,
      "grid_area": null,
      "grid_auto_columns": null,
      "grid_auto_flow": null,
      "grid_auto_rows": null,
      "grid_column": null,
      "grid_gap": null,
      "grid_row": null,
      "grid_template_areas": null,
      "grid_template_columns": null,
      "grid_template_rows": null,
      "height": null,
      "justify_content": null,
      "justify_items": null,
      "left": null,
      "margin": null,
      "max_height": null,
      "max_width": null,
      "min_height": null,
      "min_width": null,
      "object_fit": null,
      "object_position": null,
      "order": null,
      "overflow": null,
      "overflow_x": null,
      "overflow_y": null,
      "padding": null,
      "right": null,
      "top": null,
      "visibility": null,
      "width": null
     }
    },
    "f05112516b7246e2b1efe7f2caa13645": {
     "model_module": "@jupyter-widgets/controls",
     "model_module_version": "1.5.0",
     "model_name": "ProgressStyleModel",
     "state": {
      "_model_module": "@jupyter-widgets/controls",
      "_model_module_version": "1.5.0",
      "_model_name": "ProgressStyleModel",
      "_view_count": null,
      "_view_module": "@jupyter-widgets/base",
      "_view_module_version": "1.2.0",
      "_view_name": "StyleView",
      "bar_color": null,
      "description_width": ""
     }
    },
    "f0c37304c96e400e91c56f808de412af": {
     "model_module": "@jupyter-widgets/base",
     "model_module_version": "1.2.0",
     "model_name": "LayoutModel",
     "state": {
      "_model_module": "@jupyter-widgets/base",
      "_model_module_version": "1.2.0",
      "_model_name": "LayoutModel",
      "_view_count": null,
      "_view_module": "@jupyter-widgets/base",
      "_view_module_version": "1.2.0",
      "_view_name": "LayoutView",
      "align_content": null,
      "align_items": null,
      "align_self": null,
      "border": null,
      "bottom": null,
      "display": null,
      "flex": null,
      "flex_flow": null,
      "grid_area": null,
      "grid_auto_columns": null,
      "grid_auto_flow": null,
      "grid_auto_rows": null,
      "grid_column": null,
      "grid_gap": null,
      "grid_row": null,
      "grid_template_areas": null,
      "grid_template_columns": null,
      "grid_template_rows": null,
      "height": null,
      "justify_content": null,
      "justify_items": null,
      "left": null,
      "margin": null,
      "max_height": null,
      "max_width": null,
      "min_height": null,
      "min_width": null,
      "object_fit": null,
      "object_position": null,
      "order": null,
      "overflow": null,
      "overflow_x": null,
      "overflow_y": null,
      "padding": null,
      "right": null,
      "top": null,
      "visibility": null,
      "width": null
     }
    },
    "f1364bedddc74267a874f7f0da03e129": {
     "model_module": "@jupyter-widgets/controls",
     "model_module_version": "1.5.0",
     "model_name": "DescriptionStyleModel",
     "state": {
      "_model_module": "@jupyter-widgets/controls",
      "_model_module_version": "1.5.0",
      "_model_name": "DescriptionStyleModel",
      "_view_count": null,
      "_view_module": "@jupyter-widgets/base",
      "_view_module_version": "1.2.0",
      "_view_name": "StyleView",
      "description_width": ""
     }
    },
    "f1d4eecb271c44daa53b1c4e23e7ead6": {
     "model_module": "@jupyter-widgets/controls",
     "model_module_version": "1.5.0",
     "model_name": "HBoxModel",
     "state": {
      "_dom_classes": [],
      "_model_module": "@jupyter-widgets/controls",
      "_model_module_version": "1.5.0",
      "_model_name": "HBoxModel",
      "_view_count": null,
      "_view_module": "@jupyter-widgets/controls",
      "_view_module_version": "1.5.0",
      "_view_name": "HBoxView",
      "box_style": "",
      "children": [
       "IPY_MODEL_611145c225374a228d86e5e3f2151ca3",
       "IPY_MODEL_3141bac5d440460f88de039de44ce0fe",
       "IPY_MODEL_b1b1bb1ab03a49e8b01fa6a457954f0f"
      ],
      "layout": "IPY_MODEL_6a196be06c5b422cbd54015ebdb75f41"
     }
    },
    "f6cbf69a27a7499ba12c8aaedc6be24c": {
     "model_module": "@jupyter-widgets/base",
     "model_module_version": "1.2.0",
     "model_name": "LayoutModel",
     "state": {
      "_model_module": "@jupyter-widgets/base",
      "_model_module_version": "1.2.0",
      "_model_name": "LayoutModel",
      "_view_count": null,
      "_view_module": "@jupyter-widgets/base",
      "_view_module_version": "1.2.0",
      "_view_name": "LayoutView",
      "align_content": null,
      "align_items": null,
      "align_self": null,
      "border": null,
      "bottom": null,
      "display": null,
      "flex": null,
      "flex_flow": null,
      "grid_area": null,
      "grid_auto_columns": null,
      "grid_auto_flow": null,
      "grid_auto_rows": null,
      "grid_column": null,
      "grid_gap": null,
      "grid_row": null,
      "grid_template_areas": null,
      "grid_template_columns": null,
      "grid_template_rows": null,
      "height": null,
      "justify_content": null,
      "justify_items": null,
      "left": null,
      "margin": null,
      "max_height": null,
      "max_width": null,
      "min_height": null,
      "min_width": null,
      "object_fit": null,
      "object_position": null,
      "order": null,
      "overflow": null,
      "overflow_x": null,
      "overflow_y": null,
      "padding": null,
      "right": null,
      "top": null,
      "visibility": null,
      "width": null
     }
    },
    "f7b403792cb44835a0aeeb1e656175df": {
     "model_module": "@jupyter-widgets/controls",
     "model_module_version": "1.5.0",
     "model_name": "DescriptionStyleModel",
     "state": {
      "_model_module": "@jupyter-widgets/controls",
      "_model_module_version": "1.5.0",
      "_model_name": "DescriptionStyleModel",
      "_view_count": null,
      "_view_module": "@jupyter-widgets/base",
      "_view_module_version": "1.2.0",
      "_view_name": "StyleView",
      "description_width": ""
     }
    },
    "f95158765b774889978b0ce0e9086dc8": {
     "model_module": "@jupyter-widgets/controls",
     "model_module_version": "1.5.0",
     "model_name": "FloatProgressModel",
     "state": {
      "_dom_classes": [],
      "_model_module": "@jupyter-widgets/controls",
      "_model_module_version": "1.5.0",
      "_model_name": "FloatProgressModel",
      "_view_count": null,
      "_view_module": "@jupyter-widgets/controls",
      "_view_module_version": "1.5.0",
      "_view_name": "ProgressView",
      "bar_style": "success",
      "description": "",
      "description_tooltip": null,
      "layout": "IPY_MODEL_78fd4028057e46668c1735b194e32404",
      "max": 35488,
      "min": 0,
      "orientation": "horizontal",
      "style": "IPY_MODEL_cf74a1ab85034f53b37c3e9a9d6d0d83",
      "value": 35488
     }
    },
    "fa3fd9ff343b4842942a2857af4f153a": {
     "model_module": "@jupyter-widgets/base",
     "model_module_version": "1.2.0",
     "model_name": "LayoutModel",
     "state": {
      "_model_module": "@jupyter-widgets/base",
      "_model_module_version": "1.2.0",
      "_model_name": "LayoutModel",
      "_view_count": null,
      "_view_module": "@jupyter-widgets/base",
      "_view_module_version": "1.2.0",
      "_view_name": "LayoutView",
      "align_content": null,
      "align_items": null,
      "align_self": null,
      "border": null,
      "bottom": null,
      "display": null,
      "flex": null,
      "flex_flow": null,
      "grid_area": null,
      "grid_auto_columns": null,
      "grid_auto_flow": null,
      "grid_auto_rows": null,
      "grid_column": null,
      "grid_gap": null,
      "grid_row": null,
      "grid_template_areas": null,
      "grid_template_columns": null,
      "grid_template_rows": null,
      "height": null,
      "justify_content": null,
      "justify_items": null,
      "left": null,
      "margin": null,
      "max_height": null,
      "max_width": null,
      "min_height": null,
      "min_width": null,
      "object_fit": null,
      "object_position": null,
      "order": null,
      "overflow": null,
      "overflow_x": null,
      "overflow_y": null,
      "padding": null,
      "right": null,
      "top": null,
      "visibility": null,
      "width": null
     }
    },
    "fa5b58d99b894f44a173159f3d593d38": {
     "model_module": "@jupyter-widgets/controls",
     "model_module_version": "1.5.0",
     "model_name": "HBoxModel",
     "state": {
      "_dom_classes": [],
      "_model_module": "@jupyter-widgets/controls",
      "_model_module_version": "1.5.0",
      "_model_name": "HBoxModel",
      "_view_count": null,
      "_view_module": "@jupyter-widgets/controls",
      "_view_module_version": "1.5.0",
      "_view_name": "HBoxView",
      "box_style": "",
      "children": [
       "IPY_MODEL_b354a319de8546c29b0d940f42b559d3",
       "IPY_MODEL_9ee96c6b2e2c49f983caa72d9761a1ad",
       "IPY_MODEL_3413638c840f4309adef4b24366834e0"
      ],
      "layout": "IPY_MODEL_41479a53f99648f69b03b0903424310d"
     }
    },
    "fa8816d156dc4e80b72e6f045cc61e1c": {
     "model_module": "@jupyter-widgets/base",
     "model_module_version": "1.2.0",
     "model_name": "LayoutModel",
     "state": {
      "_model_module": "@jupyter-widgets/base",
      "_model_module_version": "1.2.0",
      "_model_name": "LayoutModel",
      "_view_count": null,
      "_view_module": "@jupyter-widgets/base",
      "_view_module_version": "1.2.0",
      "_view_name": "LayoutView",
      "align_content": null,
      "align_items": null,
      "align_self": null,
      "border": null,
      "bottom": null,
      "display": null,
      "flex": null,
      "flex_flow": null,
      "grid_area": null,
      "grid_auto_columns": null,
      "grid_auto_flow": null,
      "grid_auto_rows": null,
      "grid_column": null,
      "grid_gap": null,
      "grid_row": null,
      "grid_template_areas": null,
      "grid_template_columns": null,
      "grid_template_rows": null,
      "height": null,
      "justify_content": null,
      "justify_items": null,
      "left": null,
      "margin": null,
      "max_height": null,
      "max_width": null,
      "min_height": null,
      "min_width": null,
      "object_fit": null,
      "object_position": null,
      "order": null,
      "overflow": null,
      "overflow_x": null,
      "overflow_y": null,
      "padding": null,
      "right": null,
      "top": null,
      "visibility": null,
      "width": null
     }
    },
    "fea5c026977144a38db95f1159fb4573": {
     "model_module": "@jupyter-widgets/base",
     "model_module_version": "1.2.0",
     "model_name": "LayoutModel",
     "state": {
      "_model_module": "@jupyter-widgets/base",
      "_model_module_version": "1.2.0",
      "_model_name": "LayoutModel",
      "_view_count": null,
      "_view_module": "@jupyter-widgets/base",
      "_view_module_version": "1.2.0",
      "_view_name": "LayoutView",
      "align_content": null,
      "align_items": null,
      "align_self": null,
      "border": null,
      "bottom": null,
      "display": null,
      "flex": null,
      "flex_flow": null,
      "grid_area": null,
      "grid_auto_columns": null,
      "grid_auto_flow": null,
      "grid_auto_rows": null,
      "grid_column": null,
      "grid_gap": null,
      "grid_row": null,
      "grid_template_areas": null,
      "grid_template_columns": null,
      "grid_template_rows": null,
      "height": null,
      "justify_content": null,
      "justify_items": null,
      "left": null,
      "margin": null,
      "max_height": null,
      "max_width": null,
      "min_height": null,
      "min_width": null,
      "object_fit": null,
      "object_position": null,
      "order": null,
      "overflow": null,
      "overflow_x": null,
      "overflow_y": null,
      "padding": null,
      "right": null,
      "top": null,
      "visibility": null,
      "width": null
     }
    }
   }
  }
 },
 "nbformat": 4,
 "nbformat_minor": 4
}
